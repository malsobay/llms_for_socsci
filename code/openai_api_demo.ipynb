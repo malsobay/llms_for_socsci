{
 "cells": [
  {
   "cell_type": "code",
   "execution_count": 1,
   "id": "5dccd18d-ca6f-4f47-b2e9-e58626d09d9a",
   "metadata": {},
   "outputs": [],
   "source": [
    "import pandas as pd \n",
    "import numpy as np \n",
    "import re\n",
    "from openai import OpenAI\n",
    "import ast\n",
    "from tqdm import tqdm \n",
    "import matplotlib.pyplot as plt \n",
    "import plotly.express as px\n",
    "import statsmodels.formula.api as smf\n",
    "from sklearn.metrics.pairwise import cosine_similarity\n",
    "from scipy.stats import spearmanr, pearsonr\n",
    "import pickle\n",
    "import itertools\n"
   ]
  },
  {
   "cell_type": "code",
   "execution_count": 2,
   "id": "af2cef62-abb7-4e38-abd5-7f3892362a12",
   "metadata": {},
   "outputs": [],
   "source": [
    "client = OpenAI(api_key=open(\"/Users/mosobay/Dropbox (MIT)/research/openai_api\", \"r\").read().strip())"
   ]
  },
  {
   "cell_type": "code",
   "execution_count": 3,
   "id": "a7b2a3f6-70fa-42f0-bcc0-d8891e035757",
   "metadata": {},
   "outputs": [],
   "source": [
    "def pairwise_task_comparison(ref_task_desc, task_a, task_b):\n",
    "    system_prompt = \"\"\"You will be presented with a description of a reference task, and descriptions of two other tasks (Task A, and Task B).\n",
    "    Holding the team completing the tasks constant, determine which of the two tasks is most similar to the reference task in terms of team dynamics.\n",
    "    Even if you think both Task A and Task B are irrelevant to the reference task, you must make a choice about which is MOST similar. \n",
    "    Present your choice (only say either A or B) and your rationale. YOUR ANSWER MUST FOLLOW THIS JSON FORMAT: {\"choice\":[YOUR CHOICE], \"rationale\":[YOUR RATIONALE]}\n",
    "    \"\"\"\n",
    "    \n",
    "    ref_task_prompt = f\"The reference task description is: {ref_task_desc}\"\n",
    "    \n",
    "    taskA_prompt = f\"Task A is: {task_a}\"\n",
    "    taskB_prompt = f\"Task B is: {task_b}\"\n",
    "    \n",
    "    response = client.chat.completions.create(\n",
    "        model=\"gpt-4-1106-preview\",\n",
    "        messages=[\n",
    "            {\"role\": \"system\", \"content\": system_prompt},\n",
    "            {\"role\": \"user\", \"content\": ref_task_prompt},\n",
    "            {\"role\": \"user\", \"content\": taskA_prompt},\n",
    "            {\"role\": \"user\", \"content\": taskB_prompt}],\n",
    "        temperature=0)\n",
    "    \n",
    "    return response"
   ]
  },
  {
   "cell_type": "code",
   "execution_count": 5,
   "id": "5c49f71b-b230-4146-bf37-85185f8cf430",
   "metadata": {},
   "outputs": [],
   "source": [
    "test_response = pairwise_task_comparison(\"fishing\", \"formula 1 racing\", \"painting\")"
   ]
  },
  {
   "cell_type": "code",
   "execution_count": 12,
   "id": "65ff4e24-df38-40d7-a475-cac1b38ab22c",
   "metadata": {},
   "outputs": [],
   "source": [
    "response_dict = ast.literal_eval(test_response.choices[0].message.content)"
   ]
  },
  {
   "cell_type": "code",
   "execution_count": 13,
   "id": "7e43e825-bcac-4ed8-be08-1cb373ec90f1",
   "metadata": {},
   "outputs": [
    {
     "data": {
      "text/plain": [
       "'B'"
      ]
     },
     "execution_count": 13,
     "metadata": {},
     "output_type": "execute_result"
    }
   ],
   "source": [
    "response_dict[\"choice\"]"
   ]
  },
  {
   "cell_type": "code",
   "execution_count": 14,
   "id": "706227e4-578a-490d-963c-3b935a131b21",
   "metadata": {},
   "outputs": [
    {
     "data": {
      "text/plain": [
       "'While both fishing and Formula 1 racing are significantly different activities, fishing and painting share a more similar team dynamic in terms of pace and individual contribution. Both fishing and painting can be performed in a calm and patient environment, often requiring attention to detail and a steady hand. They can be solitary or small group activities where each person can work on their task relatively independently, unlike the high-speed, coordinated team effort required in Formula 1 racing.'"
      ]
     },
     "execution_count": 14,
     "metadata": {},
     "output_type": "execute_result"
    }
   ],
   "source": [
    "response_dict[\"rationale\"]"
   ]
  },
  {
   "cell_type": "code",
   "execution_count": null,
   "id": "2cbf65c5-bd7f-4e7d-b86f-e3b9a4b43a70",
   "metadata": {},
   "outputs": [],
   "source": []
  }
 ],
 "metadata": {
  "kernelspec": {
   "display_name": "Python 3 (ipykernel)",
   "language": "python",
   "name": "python3"
  },
  "language_info": {
   "codemirror_mode": {
    "name": "ipython",
    "version": 3
   },
   "file_extension": ".py",
   "mimetype": "text/x-python",
   "name": "python",
   "nbconvert_exporter": "python",
   "pygments_lexer": "ipython3",
   "version": "3.10.9"
  }
 },
 "nbformat": 4,
 "nbformat_minor": 5
}
