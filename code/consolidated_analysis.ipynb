{
 "cells": [
  {
   "cell_type": "code",
   "execution_count": 104,
   "id": "e2fde03c-3a9a-4497-a0e2-fd8576bfb242",
   "metadata": {},
   "outputs": [],
   "source": [
    "import pandas as pd \n",
    "import numpy as np \n",
    "import re\n",
    "from openai import OpenAI\n",
    "import ast\n",
    "from tqdm import tqdm \n",
    "import matplotlib.pyplot as plt \n",
    "import plotly.express as px\n",
    "import statsmodels.formula.api as smf\n",
    "from sklearn.metrics.pairwise import cosine_similarity\n",
    "from scipy.stats import spearmanr, pearsonr\n",
    "import pickle\n",
    "import itertools\n",
    "from sklearn.manifold import TSNE\n",
    "import plotly.express as px\n",
    "import textwrap\n",
    "from sklearn.decomposition import PCA\n",
    "client = OpenAI(api_key=open(\"/Users/mosobay/Dropbox (MIT)/research/openai_api\", \"r\").read().strip())"
   ]
  },
  {
   "cell_type": "code",
   "execution_count": 64,
   "id": "4d18c6b1-0cbd-4ac0-a073-977e7670bb73",
   "metadata": {},
   "outputs": [],
   "source": [
    "df_llm = pd.read_csv(\"../data/consolidated_dimensions.csv\")\n",
    "df_llm = pd.concat([df_llm.query(\"source == @x\").drop_duplicates([\"dim_name\"]) for x in df_llm[\"source\"].unique()], ignore_index=True)\n",
    "df_expert = pd.read_csv(\"../data/24_dimensions_clean.csv\").assign(Source = \"literature\")\n",
    "df_expert.columns = [\"dim_name\", \"dim_desc\", \"source\"]\n",
    "\n",
    "df = pd.concat([df_llm, df_expert], ignore_index=True)\n",
    "df[\"embed_text\"] = df[\"dim_name\"] + \": \" + df[\"dim_desc\"]"
   ]
  },
  {
   "cell_type": "code",
   "execution_count": 78,
   "id": "411e4b60-c2d0-4e7e-9067-296228c627b3",
   "metadata": {},
   "outputs": [],
   "source": [
    "regex_string = \"[0-9]|[.,!?;]|Type\"\n",
    "df[\"cleansed_embed_text\"] = [re.sub(regex_string, \"\", x).strip() for x in df[\"embed_text\"]]"
   ]
  },
  {
   "cell_type": "code",
   "execution_count": 79,
   "id": "159d3331-2dd3-4710-a9a9-514b50c57811",
   "metadata": {},
   "outputs": [],
   "source": [
    "embeddings = client.embeddings.create(\n",
    "        model=\"text-embedding-ada-002\",\n",
    "        input=df[\"cleansed_embed_text\"].to_list(),\n",
    "        encoding_format=\"float\"\n",
    "    )\n",
    "\n",
    "df[\"embedding\"] = [x.embedding for x in embeddings.data]"
   ]
  },
  {
   "cell_type": "code",
   "execution_count": 115,
   "id": "8347665d-4b7f-4b00-bb0b-67747d9169aa",
   "metadata": {},
   "outputs": [],
   "source": [
    "tsne = TSNE(n_components=2, random_state=2024)\n",
    "pca = PCA(n_components=2)\n",
    "df[[\"tsne_1\", \"tsne_2\"]] = tsne.fit_transform(np.array(df[\"embedding\"].tolist()))\n",
    "df[[\"pca_1\", \"pca_2\"]] = pca.fit_transform(np.array(df[\"embedding\"].tolist()))"
   ]
  },
  {
   "cell_type": "code",
   "execution_count": 116,
   "id": "225d0fe7-d470-42a5-a339-92f622bdc4b1",
   "metadata": {},
   "outputs": [],
   "source": [
    "def wrap_hovertext(hovertext, width=20):\n",
    "    wrapped_hovertext = [\"<br>\".join(textwrap.wrap(text,width=width)) for text in hovertext]\n",
    "    return wrapped_hovertext  "
   ]
  },
  {
   "cell_type": "code",
   "execution_count": 117,
   "id": "670ce7e0-2199-46fe-87e4-6c44fc01b856",
   "metadata": {},
   "outputs": [],
   "source": [
    "df[\"dim_desc_wrapped\"] = wrap_hovertext(df[\"dim_desc\"])"
   ]
  },
  {
   "cell_type": "code",
   "execution_count": 118,
   "id": "dc28b023-7fa8-47f8-85d9-9a667d51f729",
   "metadata": {},
   "outputs": [],
   "source": [
    "# df.to_pickle(\"consolidated_dims_w_embeddings.pkl\")"
   ]
  },
  {
   "cell_type": "code",
   "execution_count": 119,
   "id": "6652aa44-7d0b-4895-ae7f-10b6a52e1242",
   "metadata": {},
   "outputs": [
    {
     "data": {
      "application/vnd.plotly.v1+json": {
       "config": {
        "plotlyServerURL": "https://plot.ly"
       },
       "data": [
        {
         "customdata": [
          [
           "The requirement for<br>participants to<br>engage in abstract<br>thinking and apply<br>non-concrete<br>criteria to solve<br>problems or generate<br>outputs."
          ],
          [
           "The requirement for<br>conceptual<br>reasoning, ideation,<br>and the application<br>of abstract concepts<br>to complete a task."
          ],
          [
           "The extent to which<br>a task requires team<br>members to work<br>together, share<br>information, and<br>make decisions<br>collaboratively to<br>achieve a common<br>goal."
          ],
          [
           "The extent to which<br>a task requires<br>participants to work<br>together to analyze<br>information, discuss<br>differing opinions,<br>and reach a<br>consensus or<br>agreement."
          ],
          [
           "The presence of<br>individual goals<br>that may conflict<br>with those of other<br>team members,<br>leading to<br>competitive rather<br>than cooperative<br>interactions."
          ],
          [
           "The presence of a<br>competitive dynamic<br>within the task,<br>where individual or<br>team performance is<br>measured against<br>others."
          ],
          [
           "The nature of the<br>interaction among<br>participants,<br>whether it is<br>competitive with<br>individual goals or<br>cooperative with a<br>shared objective."
          ],
          [
           "The importance of<br>reaching an<br>agreement or unified<br>decision among team<br>members."
          ],
          [
           "The necessity for<br>team members to<br>reach an agreement<br>on a collective<br>decision or output,<br>often involving<br>negotiation and<br>synthesis of<br>different<br>viewpoints."
          ],
          [
           "The need for team<br>members to<br>negotiate, discuss,<br>and agree on a<br>collective outcome<br>that reflects the<br>group's shared<br>understanding or<br>goal."
          ],
          [
           "The requirement for<br>the task to produce<br>a creative or non-<br>standard solution,<br>often involving idea<br>generation and<br>abstract thinking."
          ],
          [
           "The need for team<br>members to engage in<br>creative thinking<br>and generate<br>multiple unique<br>solutions or ideas<br>within a set<br>framework."
          ],
          [
           "The necessity for<br>creative input, idea<br>generation, and<br>innovative thinking<br>within the task."
          ],
          [
           "The requirement for<br>participants to<br>generate new ideas<br>or solutions by<br>combining individual<br>contributions into a<br>single, cohesive<br>output."
          ],
          [
           "The presence of<br>immediate or delayed<br>feedback on team<br>decisions and<br>actions, which<br>informs and<br>influences<br>subsequent team<br>strategy."
          ],
          [
           "The task's provision<br>of immediate<br>feedback on<br>performance and the<br>requirement for<br>participants to<br>adapt their<br>strategies based on<br>that feedback."
          ],
          [
           "The extent to which<br>a task provides<br>feedback on team<br>decisions and allows<br>for iterative<br>improvement based on<br>that feedback."
          ],
          [
           "The level of<br>independence granted<br>to each team member<br>to make decisions or<br>contributions<br>without the need for<br>group consensus or<br>collaboration."
          ],
          [
           "The balance between<br>tasks that<br>prioritize<br>individual<br>performance and<br>decision-making<br>versus those that<br>emphasize collective<br>outcomes and team<br>success."
          ],
          [
           "The distribution of<br>information among<br>team members, where<br>not all participants<br>have access to the<br>same information,<br>requiring sharing<br>and integration to<br>complete the task."
          ],
          [
           "The extent to which<br>a task requires team<br>members to combine<br>different pieces of<br>information to solve<br>a problem or reach a<br>decision."
          ],
          [
           "The importance of<br>communication and<br>the exchange of<br>information among<br>team members to<br>achieve a shared<br>understanding and<br>goal."
          ],
          [
           "The extent to which<br>team members have<br>access to the same<br>information or<br>whether the task<br>involves hidden or<br>unshared information<br>that must be<br>communicated."
          ],
          [
           "The extent to which<br>a task requires the<br>analysis, synthesis,<br>and application of<br>information to make<br>decisions or produce<br>an output."
          ],
          [
           "The degree to which<br>the task has a<br>clear, measurable<br>goal or outcome that<br>can be objectively<br>evaluated for<br>success."
          ],
          [
           "The ability to<br>quantify the success<br>of the task based on<br>objective criteria<br>or a clear scoring<br>system."
          ],
          [
           "The necessity for<br>team members to<br>interact and make<br>decisions in a<br>dynamic, real-time<br>environment."
          ],
          [
           "The extent to which<br>a task involves<br>immediate, dynamic<br>interaction among<br>team members within<br>a shared<br>environment."
          ],
          [
           "The degree to which<br>a task involves<br>distinct roles or<br>responsibilities for<br>each team member,<br>with each role<br>contributing<br>specific skills or<br>knowledge to the<br>team's objective."
          ],
          [
           "The level of<br>strategic thinking,<br>planning, and<br>adaptation required<br>to achieve the<br>task's objectives<br>within a set of<br>rules or<br>constraints."
          ],
          [
           "The level of<br>planning,<br>anticipation of<br>outcomes, and<br>strategic thinking<br>required to perform<br>the task<br>successfully."
          ],
          [
           "The level of<br>strategic thinking<br>and prediction<br>required to consider<br>the actions and<br>potential reactions<br>of others, both<br>within the team and<br>with external<br>parties."
          ],
          [
           "The requirement for<br>team members to<br>analyze situations,<br>predict outcomes,<br>and develop a shared<br>strategy to achieve<br>a goal within a set<br>of rules or<br>constraints."
          ],
          [
           "The presence of a<br>fixed time limit<br>within which<br>participants must<br>complete the task,<br>adding pressure to<br>the decision-making<br>process."
          ],
          [
           "The requirement for<br>participants to<br>interact with and<br>manipulate elements<br>within a visual or<br>spatial context to<br>achieve the task's<br>objectives."
          ],
          [
           "The requirement for<br>team members to<br>navigate and<br>manipulate elements<br>within a shared<br>visual or spatial<br>environment."
          ]
         ],
         "hovertemplate": "<b>%{hovertext}</b><br><br>source=pairwise<br>tsne_1=%{x}<br>tsne_2=%{y}<br>size=%{marker.size}<br>dim_desc_wrapped=%{customdata[0]}<extra></extra>",
         "hovertext": [
          "Abstract Problem-Solving",
          "Abstract Thinking",
          "Collaboration Intensity",
          "Collaborative Decision-Making",
          "Competitive Dynamics",
          "Competitive Element",
          "Competitive vs. Cooperative Dynamics",
          "Consensus Building",
          "Consensus Requirement",
          "Consensus-Building",
          "Creative Output",
          "Creative Problem-Solving",
          "Creative Requirement",
          "Creative Synthesis",
          "Feedback Loop",
          "Feedback and Adaptation",
          "Feedback and Iteration",
          "Individual Autonomy",
          "Individual vs. Collective Focus",
          "Information Asymmetry",
          "Information Integration",
          "Information Sharing",
          "Information Symmetry",
          "Information Processing",
          "Objective Clarity",
          "Objective Measurement",
          "Real-Time Coordination",
          "Real-Time Interaction",
          "Role Differentiation",
          "Strategic Complexity",
          "Strategic Decision-Making",
          "Strategic Interaction",
          "Strategic Planning",
          "Time Constraint",
          "Visual-Spatial Coordination",
          "Spatial Coordination"
         ],
         "legendgroup": "pairwise",
         "marker": {
          "color": "#3366CC",
          "size": [
           0.4,
           0.4,
           0.4,
           0.4,
           0.4,
           0.4,
           0.4,
           0.4,
           0.4,
           0.4,
           0.4,
           0.4,
           0.4,
           0.4,
           0.4,
           0.4,
           0.4,
           0.4,
           0.4,
           0.4,
           0.4,
           0.4,
           0.4,
           0.4,
           0.4,
           0.4,
           0.4,
           0.4,
           0.4,
           0.4,
           0.4,
           0.4,
           0.4,
           0.4,
           0.4,
           0.4
          ],
          "sizemode": "area",
          "sizeref": 0.001,
          "symbol": "circle"
         },
         "mode": "markers",
         "name": "pairwise",
         "orientation": "v",
         "showlegend": true,
         "type": "scatter",
         "x": [
          8.400269508361816,
          8.676268577575684,
          0.9990025162696838,
          1.7698734998703003,
          7.1132025718688965,
          7.910971641540527,
          6.72253942489624,
          0.4587838351726532,
          1.1531118154525757,
          0.9706202149391174,
          7.416911602020264,
          6.895066738128662,
          6.942653656005859,
          6.395083427429199,
          -8.266128540039062,
          -8.80985164642334,
          -7.663041114807129,
          3.8122096061706543,
          4.5571136474609375,
          -2.443241596221924,
          0.4337250888347626,
          -1.3110417127609253,
          -2.6381218433380127,
          -0.13201840221881866,
          5.802071571350098,
          5.322381973266602,
          -4.7389607429504395,
          -4.996963024139404,
          2.575411796569824,
          -2.1502604484558105,
          -3.071007490158081,
          -3.1456165313720703,
          -2.1646018028259277,
          -4.465275764465332,
          -2.6714906692504883,
          -3.111083984375
         ],
         "xaxis": "x",
         "y": [
          2.878877639770508,
          3.070702314376831,
          5.88950252532959,
          7.121225357055664,
          8.311717987060547,
          7.93745756149292,
          8.605949401855469,
          9.263707160949707,
          8.749773979187012,
          9.467364311218262,
          1.6500242948532104,
          2.671671152114868,
          1.3804048299789429,
          3.0885848999023438,
          1.3724538087844849,
          3.0005111694335938,
          2.0162861347198486,
          5.284059047698975,
          5.898921489715576,
          8.605143547058105,
          5.1470160484313965,
          7.413634777069092,
          7.961953639984131,
          4.302987575531006,
          -6.559908866882324,
          -6.909725189208984,
          1.393149733543396,
          1.5730193853378296,
          3.923438310623169,
          3.213655471801758,
          3.8234400749206543,
          4.656494617462158,
          4.951281547546387,
          -4.747451305389404,
          -0.15062887966632843,
          0.12011152505874634
         ],
         "yaxis": "y"
        },
        {
         "customdata": [
          [
           "The level of<br>difficulty involved<br>in completing the<br>task, which can<br>range from simple<br>(e.g., recalling<br>words) to complex<br>(e.g., negotiating a<br>business deal)."
          ],
          [
           "Whether the task<br>requires<br>participants to work<br>alone or in a team,<br>and the degree to<br>which teamwork and<br>communication are<br>necessary for<br>success."
          ],
          [
           "The extent to which<br>the task requires<br>novel thinking,<br>imagination, or<br>innovation, as<br>opposed to tasks<br>that have clear-cut<br>solutions or rely on<br>memory."
          ],
          [
           "The level of<br>strategic planning<br>and foresight needed<br>to perform well in<br>the task."
          ],
          [
           "The degree to which<br>a task is<br>constrained by time,<br>requiring quick<br>thinking and<br>decision-making."
          ],
          [
           "The amount of mental<br>effort and working<br>memory usage<br>required to perform<br>the task, which can<br>affect performance,<br>especially under<br>time constraints."
          ],
          [
           "The extent to which<br>participants have<br>access to different<br>levels of<br>information, which<br>can influence<br>strategies and<br>outcomes in tasks<br>such as negotiations<br>or games."
          ],
          [
           "The degree to which<br>the task involves<br>numerical<br>computation, logical<br>reasoning, and<br>problem-solving<br>skills."
          ],
          [
           "The level of risk<br>involved in<br>decision-making and<br>the uncertainty of<br>outcomes, which can<br>be influenced by<br>unknown variables or<br>the actions of<br>others."
          ],
          [
           "Whether and how<br>participants receive<br>feedback on their<br>performance, which<br>can be immediate or<br>delayed, and how<br>they can learn and<br>adapt their<br>strategies over<br>time."
          ],
          [
           "The presence and<br>immediacy of<br>feedback given to<br>participants, which<br>can influence<br>learning and<br>strategy. This can<br>be operationalized<br>by whether<br>participants receive<br>immediate, delayed,<br>or no feedback on<br>their performance."
          ],
          [
           "The manner in which<br>task performance is<br>assessed, ranging<br>from objective<br>measures (e.g., a<br>correct answer) to<br>subjective<br>evaluations (e.g.,<br>creativity or<br>negotiation skills)."
          ],
          [
           "The extent to which<br>the task is<br>constrained by the<br>availability of<br>resources, which can<br>be operationalized<br>by the quantity and<br>type of resources<br>provided to complete<br>the task."
          ],
          [
           "The level of<br>physical or manual<br>dexterity required<br>by the task, which<br>can be<br>operationalized by<br>the need for precise<br>movements or<br>coordination in a<br>physical or virtual<br>space."
          ],
          [
           "Whether the task has<br>a single correct<br>answer or multiple<br>possible correct<br>answers,<br>operationalized by<br>the number of<br>acceptable solutions<br>or the range of<br>scores reflecting<br>the quality of the<br>solutions."
          ],
          [
           "The degree to which<br>the task requires or<br>benefits from<br>specialized<br>knowledge or skills,<br>operationalized by<br>comparing<br>participants'<br>solutions to those<br>of subject matter<br>experts."
          ],
          [
           "The degree to which<br>all necessary<br>information is<br>readily available to<br>participants or if<br>some information is<br>hidden or must be<br>discovered."
          ],
          [
           "The type of skills<br>predominantly<br>required by the<br>task, ranging from<br>physical/manual<br>dexterity to<br>cognitive/mental<br>abilities. This can<br>be operationalized<br>by identifying the<br>primary type of<br>skill needed for<br>task completion."
          ],
          [
           "The reliance on<br>recall ability to<br>complete the task."
          ],
          [
           "The need to identify<br>and understand<br>patterns, trends, or<br>regularities in<br>data."
          ],
          [
           "The requirement to<br>discuss and reach an<br>agreement in a<br>collaborative or<br>competitive context."
          ],
          [
           "The extent to which<br>the task relies on<br>pre-existing<br>knowledge or<br>information, such as<br>familiarity with<br>words or knowledge<br>of city populations."
          ],
          [
           "The extent to which<br>the task involves<br>moral or ethical<br>decision-making,<br>which can influence<br>the choices made by<br>participants beyond<br>purely rational<br>self-interest."
          ],
          [
           "The need for visual<br>or auditory<br>discrimination to<br>complete the task.<br>This can be<br>operationalized by<br>tasks that require<br>distinguishing<br>between patterns,<br>sounds, or visual<br>stimuli."
          ]
         ],
         "hovertemplate": "<b>%{hovertext}</b><br><br>source=taskbased<br>tsne_1=%{x}<br>tsne_2=%{y}<br>size=%{marker.size}<br>dim_desc_wrapped=%{customdata[0]}<extra></extra>",
         "hovertext": [
          "Complexity",
          "Collaboration",
          "Creativity",
          "Strategy",
          "Time Pressure",
          "Cognitive Load",
          "Information Asymmetry",
          "Quantitative Reasoning",
          "Risk and Uncertainty",
          "Learning and Adaptation",
          "Feedback",
          "Objective vs. Subjective Evaluation",
          "Resource Limitation",
          "Physical Coordination",
          "Convergence-Divergence",
          "Expertise Alignment",
          "Information Availability",
          "Physical vs. Cognitive Skills",
          "Memory",
          "Pattern Recognition",
          "Negotiation",
          "Knowledge Dependency",
          "Moral/Ethical Consideration",
          "Perceptual Skills"
         ],
         "legendgroup": "taskbased",
         "marker": {
          "color": "#DC3912",
          "size": [
           0.4,
           0.4,
           0.4,
           0.4,
           0.4,
           0.4,
           0.4,
           0.4,
           0.4,
           0.4,
           0.4,
           0.4,
           0.4,
           0.4,
           0.4,
           0.4,
           0.4,
           0.4,
           0.4,
           0.4,
           0.4,
           0.4,
           0.4,
           0.4
          ],
          "sizemode": "area",
          "sizeref": 0.001,
          "symbol": "diamond"
         },
         "mode": "markers",
         "name": "taskbased",
         "orientation": "v",
         "showlegend": true,
         "type": "scatter",
         "x": [
          3.5268235206604004,
          1.832185983657837,
          6.060166835784912,
          -3.034526824951172,
          -3.86518931388855,
          1.2523170709609985,
          -2.7559213638305664,
          2.810434341430664,
          -4.931624889373779,
          -9.303850173950195,
          -9.414710998535156,
          6.571713447570801,
          -6.8926100730896,
          -2.593738555908203,
          9.005156517028809,
          2.874457597732544,
          -4.517458915710449,
          -1.2014063596725464,
          3.4670629501342773,
          -0.7063425779342651,
          2.0310330390930176,
          2.6061720848083496,
          2.8867948055267334,
          -0.7148780822753906
         ],
         "xaxis": "x",
         "y": [
          -0.9029335975646973,
          5.858794689178467,
          0.8259975910186768,
          3.4271340370178223,
          -4.688175678253174,
          -8.37309741973877,
          9.141072273254395,
          -5.504964351654053,
          4.753002166748047,
          2.986851692199707,
          2.0746185779571533,
          -7.804786205291748,
          -5.529232025146484,
          -1.5434906482696533,
          -5.465457439422607,
          2.9378063678741455,
          8.040628433227539,
          -2.404545545578003,
          0.7206373810768127,
          0.8423600196838379,
          10.273170471191406,
          1.0761585235595703,
          7.029576778411865,
          -0.6849806308746338
         ],
         "yaxis": "y"
        },
        {
         "customdata": [
          [
           "Number of distinct<br>steps or components<br>required to complete<br>the task"
          ],
          [
           "Scale from 1 (low)<br>to 5 (high)<br>indicating the<br>degree to which team<br>members' tasks are<br>interconnected"
          ],
          [
           "Count of different<br>specialized skills<br>needed to perform<br>the task effectively"
          ],
          [
           "Scale from 1 (low)<br>to 5 (high)<br>representing the<br>predictability of<br>task outcomes"
          ],
          [
           "Time given to<br>complete the task<br>measured in minutes<br>or hours"
          ],
          [
           "Scale from 1<br>(familiar) to 5<br>(novel) indicating<br>how common or new<br>the task is to the<br>team members"
          ],
          [
           "Amount of<br>information (in<br>bytes or number of<br>items) that must be<br>processed to<br>complete the task"
          ],
          [
           "Scale from 1<br>(ambiguous) to 5<br>(clear) indicating<br>how well-defined the<br>task goals are"
          ],
          [
           "Scale from 1 (low)<br>to 5 (high)<br>indicating the level<br>of physical effort<br>required"
          ],
          [
           "Number of<br>coordination points<br>where team members<br>must synchronize<br>their actions"
          ],
          [
           "Number of different<br>specialized skills<br>or knowledge areas<br>required to perform<br>the task"
          ],
          [
           "Ratio of the amount<br>of information<br>available to the<br>team to the amount<br>of information<br>required to complete<br>the task, with a<br>value of 1<br>indicating perfect<br>information<br>availability"
          ],
          [
           "Scale from 1<br>(routine task) to 5<br>(high problem-<br>solving demand),<br>reflecting the level<br>of novel thinking<br>required."
          ],
          [
           "Scale from 1 (no<br>creativity needed)<br>to 5 (high<br>creativity<br>required), gauging<br>the need for<br>original ideas and<br>solutions."
          ],
          [
           "Measured by the<br>average time it<br>takes for a new team<br>member to perform<br>the task at a<br>proficiency level of<br>90% of an<br>experienced member."
          ],
          [
           "Measured by the<br>average time between<br>action and receiving<br>feedback on<br>performance,<br>indicating the<br>immediacy and<br>frequency of<br>feedback."
          ],
          [
           "Measured by the<br>percentage of time<br>all necessary<br>resources are<br>available during<br>task performance."
          ],
          [
           "Scale from 1 (low<br>stress) to 5 (high<br>stress), based on<br>physiological<br>measures such as<br>heart rate or self-<br>reported stress<br>levels."
          ],
          [
           "Number of<br>coordination actions<br>(e.g.,<br>communications,<br>synchronizations)<br>required per unit of<br>time"
          ],
          [
           "Rating on a scale<br>from 1 (minimal<br>cognitive effort) to<br>5 (extreme cognitive<br>effort) based on the<br>mental intensity of<br>the task"
          ],
          [
           "Number of novel<br>solutions or<br>approaches required<br>to successfully<br>complete the task"
          ],
          [
           "The length of time<br>required to complete<br>the task, 'measure':<br>'Time in Minutes:<br>The average time<br>taken to complete<br>the task, measured<br>in minutes"
          ],
          [
           "The degree to which<br>the task is new or<br>unfamiliar to the<br>team, 'measure':<br>Novelty Rating: A<br>score from 1<br>(familiar) to 5<br>(novel) based on<br>team members' self-<br>reported familiarity<br>with the task."
          ],
          [
           "The mental effort<br>required to perform<br>the task, 'measure':<br>'Cognitive Load<br>Scale: A score from<br>1 (low) to 5 (high)<br>based on subjective<br>assessment of mental<br>effort required,<br>using standardized<br>cognitive load<br>measurement<br>instruments"
          ],
          [
           "The range of skills<br>and abilities<br>required to perform<br>the task, 'measure':<br>'Skill Diversity<br>Index: The number of<br>distinct skills and<br>abilities required<br>to perform the task<br>effectively"
          ],
          [
           "A numerical score<br>based on the number<br>of distinct<br>cognitive processes<br>required (e.g.,<br>memory recall,<br>logical reasoning,<br>decision-making),<br>the number of<br>decision points, and<br>the level of<br>abstraction involved<br>in the task"
          ],
          [
           "A scale from 0 to 1<br>where 0 represents<br>completely<br>independent tasks<br>and 1 represents<br>tasks that cannot be<br>completed without<br>constant team<br>interaction,<br>measured by the<br>frequency and<br>necessity of<br>communication among<br>team members"
          ],
          [
           "A measure of the<br>task's time<br>sensitivity,<br>quantified by the<br>ratio of the time<br>spent on active task<br>engagement to the<br>total time allotted<br>for task completion."
          ],
          [
           "A score derived from<br>the necessity for<br>creative problem-<br>solving and<br>generation of novel<br>ideas, rated by<br>experts in the field<br>on a scale from 1<br>(no innovation<br>needed) to 10<br>(highly innovative)"
          ],
          [
           "A metric based on<br>the number and<br>complexity of<br>physical actions<br>required by the<br>team, the precision<br>needed, and the<br>degree of<br>synchronization,<br>measured on a scale<br>from 1 (minimal<br>coordination) to 10<br>(extensive<br>coordination)"
          ],
          [
           "A variability index<br>calculated by the<br>number of external<br>variables that can<br>affect task<br>performance (e.g.,<br>changing tools,<br>shifting<br>workspaces), with<br>higher scores<br>indicating greater<br>variability"
          ],
          [
           "A constraint score<br>based on the<br>scarcity of<br>resources (e.g.,<br>time, information,<br>tools, personnel)<br>necessary for task<br>completion, with<br>higher scores<br>indicating tighter<br>constraints"
          ],
          [
           "A measurability<br>score based on the<br>clarity and<br>objectivity of the<br>outcome assessment<br>criteria, ranging<br>from 1 (subjective<br>or unclear criteria)<br>to 10 (objective and<br>clear criteria)"
          ]
         ],
         "hovertemplate": "<b>%{hovertext}</b><br><br>source=directask<br>tsne_1=%{x}<br>tsne_2=%{y}<br>size=%{marker.size}<br>dim_desc_wrapped=%{customdata[0]}<extra></extra>",
         "hovertext": [
          "Complexity",
          "Interdependence",
          "Diversity of Skills Required",
          "Uncertainty",
          "Time Pressure",
          "Task Novelty",
          "Information Load",
          "Goal Clarity",
          "Physical Demand",
          "Coordination Requirement",
          "Diversity of Skills",
          "Information Availability",
          "Problem-Solving Demand",
          "Creativity Requirement",
          "Learning Curve",
          "Feedback Loop",
          "Resource Availability",
          "Stress Level",
          "Coordination Demand",
          "Cognitive Demand",
          "Innovativeness",
          "Duration",
          "Novelty",
          "Cognitive Load",
          "Skill Variety",
          "Cognitive Complexity",
          "Interdependence Level",
          "Temporal Dynamics",
          "Innovation Requirement",
          "Physical Coordination",
          "Environmental Variability",
          "Resource Constraints",
          "Outcome Measurability"
         ],
         "legendgroup": "directask",
         "marker": {
          "color": "#FF9900",
          "size": [
           0.4,
           0.4,
           0.4,
           0.4,
           0.4,
           0.4,
           0.4,
           0.4,
           0.4,
           0.4,
           0.4,
           0.4,
           0.4,
           0.4,
           0.4,
           0.4,
           0.4,
           0.4,
           0.4,
           0.4,
           0.4,
           0.4,
           0.4,
           0.4,
           0.4,
           0.4,
           0.4,
           0.4,
           0.4,
           0.4,
           0.4,
           0.4,
           0.4
          ],
          "sizemode": "area",
          "sizeref": 0.001,
          "symbol": "square"
         },
         "mode": "markers",
         "name": "directask",
         "orientation": "v",
         "showlegend": true,
         "type": "scatter",
         "x": [
          4.252200126647949,
          0.8159336447715759,
          1.2131164073944092,
          6.318217754364014,
          -3.991203784942627,
          4.701472759246826,
          -6.958428382873535,
          6.24092435836792,
          -0.9809372425079346,
          -4.776941776275635,
          1.3280541896820068,
          -4.981415271759033,
          6.400513648986816,
          6.9390339851379395,
          -8.55269718170166,
          -8.720717430114746,
          -7.207043170928955,
          -1.2055227756500244,
          -5.202610015869141,
          0.8768144249916077,
          5.633275508880615,
          -4.03601598739624,
          4.495314121246338,
          1.0668405294418335,
          1.3351147174835205,
          2.1307623386383057,
          0.730381965637207,
          -5.375943183898926,
          7.0981621742248535,
          -3.1913952827453613,
          2.1269283294677734,
          -6.913276195526123,
          5.261193752288818
         ],
         "xaxis": "x",
         "y": [
          -1.09115469455719,
          2.371448516845703,
          -0.7322026491165161,
          -4.382795810699463,
          -5.4320387840271,
          -3.4860925674438477,
          6.561769008636475,
          -5.165395736694336,
          -7.49069356918335,
          -0.6368343234062195,
          -0.6088594794273376,
          7.990070343017578,
          -2.323457956314087,
          -1.4539645910263062,
          -1.753365397453308,
          0.486661821603775,
          -4.8514018058776855,
          -8.461291313171387,
          -0.9757267236709595,
          -7.129766464233398,
          -0.32269296050071716,
          -6.512534141540527,
          -3.4958901405334473,
          -8.0762300491333,
          -1.7991060018539429,
          -6.67341423034668,
          2.4558780193328857,
          -3.53361177444458,
          -0.878828763961792,
          -1.8528285026550293,
          -3.0562102794647217,
          -5.9167633056640625,
          -7.660610198974609
         ],
         "yaxis": "y"
        },
        {
         "customdata": [
          [
           "Does this task<br>primarily require<br>physical effort, as<br>opposed to primarily<br>requiring mental<br>effort?"
          ],
          [
           "What is the fraction<br>of physical (as<br>opposed to mental)<br>effort required for<br>the task?"
          ],
          [
           "Is this a \"planning\"<br>task? In other<br>words, is one of the<br>main purpose(s) of<br>this task to produce<br>a sequence of<br>concrete steps or<br>actions that an<br>individual can<br>follow to achieve<br>some goal?"
          ],
          [
           "Is this a<br>\"generation\" or<br>\"brainstorming\"<br>task? In other<br>words, is one of the<br>main purpose(s) of<br>this task to produce<br>a number of ideas or<br>examples, without<br>any particular<br>action associated<br>with them?"
          ],
          [
           "What fraction of the<br>effort required for<br>this task is<br>creative thinking<br>(as opposed to any<br>other type of<br>effort, whether<br>physical, logical,<br>etc.)?"
          ],
          [
           "Is one of the main<br>purpose(s) of this<br>task to resolve<br>people's differences<br>in opinion,<br>perspective, or<br>viewpoint?"
          ],
          [
           "During this task,<br>group members pursue<br>different interests,<br>objectives, or<br>goals."
          ],
          [
           "Can the outcome of<br>this task be<br>described in<br>win/lose terms?"
          ],
          [
           "Does the task have<br>an all-or-nothing<br>outcome? In other<br>words, is it<br>sufficient to just<br>meet a particular<br>standard?"
          ],
          [
           "Is it efficient and<br>useful for members<br>of the group to work<br>on discrete parts<br>(or subtasks) of<br>this activity?"
          ],
          [
           "Is the goal (or one<br>of the goals) of<br>this task to try to<br>achieve doing<br>something as much as<br>possible, as many as<br>possible, or as<br>quickly as possible?"
          ],
          [
           "Is the goal (or one<br>of the goals) of<br>this task to try to<br>achieve a precise<br>outcome?"
          ],
          [
           "Is there only one<br>\"best\" solution (or<br>possible solution)<br>to this task?"
          ],
          [
           "Is there only one<br>method for achieving<br>the task, as opposed<br>to many alternatives<br>for task completion?"
          ],
          [
           "Can acceptable<br>solutions to this<br>task be demonstrated<br>or verified to be<br>correct (e.g., by an<br>expert or third-<br>party)?"
          ],
          [
           "Can this task be<br>written as a \"formal<br>model\" that an<br>algorithm could<br>solve?"
          ],
          [
           "Is there enough<br>information in the<br>problem to find a<br>valid solution?"
          ],
          [
           "If someone who is<br>able to solve the<br>problem explains<br>their answer, would<br>others recognize it<br>as correct without<br>contest?"
          ],
          [
           "Is a participant<br>able to come up with<br>a provably correct<br>solution, assuming<br>sufficient ability,<br>time, motivation,<br>and resources?"
          ],
          [
           "Is there an<br>objectively correct<br>solution to this<br>task that can be<br>calculated or<br>selected?"
          ],
          [
           "On a scale of 0<br>(entirely<br>subjective, with no<br>correct answer; a<br>judgmental task) to<br>1 (entirely<br>objective and<br>demonstrable by pure<br>logic; an<br>intellective task),<br>how would you<br>classify the extent<br>of demonstrable<br>correctness of this<br>task?"
          ],
          [
           "Does completing this<br>task require<br>participants to<br>evaluate tradeoffs<br>--- conflicting<br>possible solutions<br>or conflicting<br>pieces of<br>information?"
          ],
          [
           "When doing this<br>task, will the<br>participants have<br>any uncertainty<br>about whether their<br>method or solution<br>will lead to the<br>desired outcome?"
          ],
          [
           "Is the solution to<br>the question obvious<br>as soon as it is<br>proposed --- for<br>example, once people<br>see the \"trick,\"<br>they know how to<br>solve it?"
          ]
         ],
         "hovertemplate": "<b>%{hovertext}</b><br><br>source=literature<br>tsne_1=%{x}<br>tsne_2=%{y}<br>size=%{marker.size}<br>dim_desc_wrapped=%{customdata[0]}<extra></extra>",
         "hovertext": [
          "Conceptual-Behavioral",
          "Intellectual-Manipulative",
          "Type 1 (Planning)",
          "Type 2 (Generate)",
          "Creativity Input",
          "Type 5 (Cognitive Conflict)",
          "Type 6 (Mixed-Motive)",
          "Type 7 (Battle)",
          "Type 8 (Performance)",
          "Divisible-Unitary",
          "Maximizing",
          "Optimizing",
          "Outcome Multiplicity",
          "Solution Scheme Multiplicity",
          "Decision Verifiability",
          "Shared Knowledge",
          "Within-System Solution",
          "Answer Recognizability",
          "Time Solvability",
          "Type 3 and Type 4 (Objective Correctness)",
          "Intellective-Judgmental",
          "Conflicting Tradeoffs",
          "Solution Scheme Outcome Uncertainty",
          "Eureka Question"
         ],
         "legendgroup": "literature",
         "marker": {
          "color": "#109618",
          "size": [
           0.4,
           0.4,
           0.4,
           0.4,
           0.4,
           0.4,
           0.4,
           0.4,
           0.4,
           0.4,
           0.4,
           0.4,
           0.4,
           0.4,
           0.4,
           0.4,
           0.4,
           0.4,
           0.4,
           0.4,
           0.4,
           0.4,
           0.4,
           0.4
          ],
          "sizemode": "area",
          "sizeref": 0.001,
          "symbol": "x"
         },
         "mode": "markers",
         "name": "literature",
         "orientation": "v",
         "showlegend": true,
         "type": "scatter",
         "x": [
          -0.5819686651229858,
          0.1659594029188156,
          11.497359275817871,
          10.172039031982422,
          0.7458158135414124,
          4.203602313995361,
          5.64659309387207,
          13.216584205627441,
          12.035022735595703,
          10.232989311218262,
          12.387561798095703,
          11.969076156616211,
          10.968257904052734,
          10.725844383239746,
          10.962759971618652,
          12.680723190307617,
          12.999995231628418,
          11.484199523925781,
          11.57866382598877,
          9.674626350402832,
          7.298251152038574,
          3.927382230758667,
          8.92989730834961,
          11.724465370178223
         ],
         "xaxis": "x",
         "y": [
          -5.128138065338135,
          -4.899825096130371,
          0.6690507531166077,
          1.5055838823318481,
          -4.5475568771362305,
          8.993226051330566,
          6.74615478515625,
          -3.3305182456970215,
          -2.809812545776367,
          -1.4007295370101929,
          -0.912241518497467,
          -1.0838887691497803,
          -4.122654438018799,
          -4.075953006744385,
          -6.71860933303833,
          -6.049255847930908,
          -7.33897066116333,
          -7.807894706726074,
          -6.965699195861816,
          -7.289802074432373,
          -8.504112243652344,
          8.082300186157227,
          -3.6699554920196533,
          -8.867532730102539
         ],
         "yaxis": "y"
        }
       ],
       "layout": {
        "height": 800,
        "legend": {
         "itemsizing": "constant",
         "title": {
          "text": "source"
         },
         "tracegroupgap": 0
        },
        "margin": {
         "t": 60
        },
        "template": {
         "data": {
          "bar": [
           {
            "error_x": {
             "color": "#2a3f5f"
            },
            "error_y": {
             "color": "#2a3f5f"
            },
            "marker": {
             "line": {
              "color": "#E5ECF6",
              "width": 0.5
             },
             "pattern": {
              "fillmode": "overlay",
              "size": 10,
              "solidity": 0.2
             }
            },
            "type": "bar"
           }
          ],
          "barpolar": [
           {
            "marker": {
             "line": {
              "color": "#E5ECF6",
              "width": 0.5
             },
             "pattern": {
              "fillmode": "overlay",
              "size": 10,
              "solidity": 0.2
             }
            },
            "type": "barpolar"
           }
          ],
          "carpet": [
           {
            "aaxis": {
             "endlinecolor": "#2a3f5f",
             "gridcolor": "white",
             "linecolor": "white",
             "minorgridcolor": "white",
             "startlinecolor": "#2a3f5f"
            },
            "baxis": {
             "endlinecolor": "#2a3f5f",
             "gridcolor": "white",
             "linecolor": "white",
             "minorgridcolor": "white",
             "startlinecolor": "#2a3f5f"
            },
            "type": "carpet"
           }
          ],
          "choropleth": [
           {
            "colorbar": {
             "outlinewidth": 0,
             "ticks": ""
            },
            "type": "choropleth"
           }
          ],
          "contour": [
           {
            "colorbar": {
             "outlinewidth": 0,
             "ticks": ""
            },
            "colorscale": [
             [
              0,
              "#0d0887"
             ],
             [
              0.1111111111111111,
              "#46039f"
             ],
             [
              0.2222222222222222,
              "#7201a8"
             ],
             [
              0.3333333333333333,
              "#9c179e"
             ],
             [
              0.4444444444444444,
              "#bd3786"
             ],
             [
              0.5555555555555556,
              "#d8576b"
             ],
             [
              0.6666666666666666,
              "#ed7953"
             ],
             [
              0.7777777777777778,
              "#fb9f3a"
             ],
             [
              0.8888888888888888,
              "#fdca26"
             ],
             [
              1,
              "#f0f921"
             ]
            ],
            "type": "contour"
           }
          ],
          "contourcarpet": [
           {
            "colorbar": {
             "outlinewidth": 0,
             "ticks": ""
            },
            "type": "contourcarpet"
           }
          ],
          "heatmap": [
           {
            "colorbar": {
             "outlinewidth": 0,
             "ticks": ""
            },
            "colorscale": [
             [
              0,
              "#0d0887"
             ],
             [
              0.1111111111111111,
              "#46039f"
             ],
             [
              0.2222222222222222,
              "#7201a8"
             ],
             [
              0.3333333333333333,
              "#9c179e"
             ],
             [
              0.4444444444444444,
              "#bd3786"
             ],
             [
              0.5555555555555556,
              "#d8576b"
             ],
             [
              0.6666666666666666,
              "#ed7953"
             ],
             [
              0.7777777777777778,
              "#fb9f3a"
             ],
             [
              0.8888888888888888,
              "#fdca26"
             ],
             [
              1,
              "#f0f921"
             ]
            ],
            "type": "heatmap"
           }
          ],
          "heatmapgl": [
           {
            "colorbar": {
             "outlinewidth": 0,
             "ticks": ""
            },
            "colorscale": [
             [
              0,
              "#0d0887"
             ],
             [
              0.1111111111111111,
              "#46039f"
             ],
             [
              0.2222222222222222,
              "#7201a8"
             ],
             [
              0.3333333333333333,
              "#9c179e"
             ],
             [
              0.4444444444444444,
              "#bd3786"
             ],
             [
              0.5555555555555556,
              "#d8576b"
             ],
             [
              0.6666666666666666,
              "#ed7953"
             ],
             [
              0.7777777777777778,
              "#fb9f3a"
             ],
             [
              0.8888888888888888,
              "#fdca26"
             ],
             [
              1,
              "#f0f921"
             ]
            ],
            "type": "heatmapgl"
           }
          ],
          "histogram": [
           {
            "marker": {
             "pattern": {
              "fillmode": "overlay",
              "size": 10,
              "solidity": 0.2
             }
            },
            "type": "histogram"
           }
          ],
          "histogram2d": [
           {
            "colorbar": {
             "outlinewidth": 0,
             "ticks": ""
            },
            "colorscale": [
             [
              0,
              "#0d0887"
             ],
             [
              0.1111111111111111,
              "#46039f"
             ],
             [
              0.2222222222222222,
              "#7201a8"
             ],
             [
              0.3333333333333333,
              "#9c179e"
             ],
             [
              0.4444444444444444,
              "#bd3786"
             ],
             [
              0.5555555555555556,
              "#d8576b"
             ],
             [
              0.6666666666666666,
              "#ed7953"
             ],
             [
              0.7777777777777778,
              "#fb9f3a"
             ],
             [
              0.8888888888888888,
              "#fdca26"
             ],
             [
              1,
              "#f0f921"
             ]
            ],
            "type": "histogram2d"
           }
          ],
          "histogram2dcontour": [
           {
            "colorbar": {
             "outlinewidth": 0,
             "ticks": ""
            },
            "colorscale": [
             [
              0,
              "#0d0887"
             ],
             [
              0.1111111111111111,
              "#46039f"
             ],
             [
              0.2222222222222222,
              "#7201a8"
             ],
             [
              0.3333333333333333,
              "#9c179e"
             ],
             [
              0.4444444444444444,
              "#bd3786"
             ],
             [
              0.5555555555555556,
              "#d8576b"
             ],
             [
              0.6666666666666666,
              "#ed7953"
             ],
             [
              0.7777777777777778,
              "#fb9f3a"
             ],
             [
              0.8888888888888888,
              "#fdca26"
             ],
             [
              1,
              "#f0f921"
             ]
            ],
            "type": "histogram2dcontour"
           }
          ],
          "mesh3d": [
           {
            "colorbar": {
             "outlinewidth": 0,
             "ticks": ""
            },
            "type": "mesh3d"
           }
          ],
          "parcoords": [
           {
            "line": {
             "colorbar": {
              "outlinewidth": 0,
              "ticks": ""
             }
            },
            "type": "parcoords"
           }
          ],
          "pie": [
           {
            "automargin": true,
            "type": "pie"
           }
          ],
          "scatter": [
           {
            "fillpattern": {
             "fillmode": "overlay",
             "size": 10,
             "solidity": 0.2
            },
            "type": "scatter"
           }
          ],
          "scatter3d": [
           {
            "line": {
             "colorbar": {
              "outlinewidth": 0,
              "ticks": ""
             }
            },
            "marker": {
             "colorbar": {
              "outlinewidth": 0,
              "ticks": ""
             }
            },
            "type": "scatter3d"
           }
          ],
          "scattercarpet": [
           {
            "marker": {
             "colorbar": {
              "outlinewidth": 0,
              "ticks": ""
             }
            },
            "type": "scattercarpet"
           }
          ],
          "scattergeo": [
           {
            "marker": {
             "colorbar": {
              "outlinewidth": 0,
              "ticks": ""
             }
            },
            "type": "scattergeo"
           }
          ],
          "scattergl": [
           {
            "marker": {
             "colorbar": {
              "outlinewidth": 0,
              "ticks": ""
             }
            },
            "type": "scattergl"
           }
          ],
          "scattermapbox": [
           {
            "marker": {
             "colorbar": {
              "outlinewidth": 0,
              "ticks": ""
             }
            },
            "type": "scattermapbox"
           }
          ],
          "scatterpolar": [
           {
            "marker": {
             "colorbar": {
              "outlinewidth": 0,
              "ticks": ""
             }
            },
            "type": "scatterpolar"
           }
          ],
          "scatterpolargl": [
           {
            "marker": {
             "colorbar": {
              "outlinewidth": 0,
              "ticks": ""
             }
            },
            "type": "scatterpolargl"
           }
          ],
          "scatterternary": [
           {
            "marker": {
             "colorbar": {
              "outlinewidth": 0,
              "ticks": ""
             }
            },
            "type": "scatterternary"
           }
          ],
          "surface": [
           {
            "colorbar": {
             "outlinewidth": 0,
             "ticks": ""
            },
            "colorscale": [
             [
              0,
              "#0d0887"
             ],
             [
              0.1111111111111111,
              "#46039f"
             ],
             [
              0.2222222222222222,
              "#7201a8"
             ],
             [
              0.3333333333333333,
              "#9c179e"
             ],
             [
              0.4444444444444444,
              "#bd3786"
             ],
             [
              0.5555555555555556,
              "#d8576b"
             ],
             [
              0.6666666666666666,
              "#ed7953"
             ],
             [
              0.7777777777777778,
              "#fb9f3a"
             ],
             [
              0.8888888888888888,
              "#fdca26"
             ],
             [
              1,
              "#f0f921"
             ]
            ],
            "type": "surface"
           }
          ],
          "table": [
           {
            "cells": {
             "fill": {
              "color": "#EBF0F8"
             },
             "line": {
              "color": "white"
             }
            },
            "header": {
             "fill": {
              "color": "#C8D4E3"
             },
             "line": {
              "color": "white"
             }
            },
            "type": "table"
           }
          ]
         },
         "layout": {
          "annotationdefaults": {
           "arrowcolor": "#2a3f5f",
           "arrowhead": 0,
           "arrowwidth": 1
          },
          "autotypenumbers": "strict",
          "coloraxis": {
           "colorbar": {
            "outlinewidth": 0,
            "ticks": ""
           }
          },
          "colorscale": {
           "diverging": [
            [
             0,
             "#8e0152"
            ],
            [
             0.1,
             "#c51b7d"
            ],
            [
             0.2,
             "#de77ae"
            ],
            [
             0.3,
             "#f1b6da"
            ],
            [
             0.4,
             "#fde0ef"
            ],
            [
             0.5,
             "#f7f7f7"
            ],
            [
             0.6,
             "#e6f5d0"
            ],
            [
             0.7,
             "#b8e186"
            ],
            [
             0.8,
             "#7fbc41"
            ],
            [
             0.9,
             "#4d9221"
            ],
            [
             1,
             "#276419"
            ]
           ],
           "sequential": [
            [
             0,
             "#0d0887"
            ],
            [
             0.1111111111111111,
             "#46039f"
            ],
            [
             0.2222222222222222,
             "#7201a8"
            ],
            [
             0.3333333333333333,
             "#9c179e"
            ],
            [
             0.4444444444444444,
             "#bd3786"
            ],
            [
             0.5555555555555556,
             "#d8576b"
            ],
            [
             0.6666666666666666,
             "#ed7953"
            ],
            [
             0.7777777777777778,
             "#fb9f3a"
            ],
            [
             0.8888888888888888,
             "#fdca26"
            ],
            [
             1,
             "#f0f921"
            ]
           ],
           "sequentialminus": [
            [
             0,
             "#0d0887"
            ],
            [
             0.1111111111111111,
             "#46039f"
            ],
            [
             0.2222222222222222,
             "#7201a8"
            ],
            [
             0.3333333333333333,
             "#9c179e"
            ],
            [
             0.4444444444444444,
             "#bd3786"
            ],
            [
             0.5555555555555556,
             "#d8576b"
            ],
            [
             0.6666666666666666,
             "#ed7953"
            ],
            [
             0.7777777777777778,
             "#fb9f3a"
            ],
            [
             0.8888888888888888,
             "#fdca26"
            ],
            [
             1,
             "#f0f921"
            ]
           ]
          },
          "colorway": [
           "#636efa",
           "#EF553B",
           "#00cc96",
           "#ab63fa",
           "#FFA15A",
           "#19d3f3",
           "#FF6692",
           "#B6E880",
           "#FF97FF",
           "#FECB52"
          ],
          "font": {
           "color": "#2a3f5f"
          },
          "geo": {
           "bgcolor": "white",
           "lakecolor": "white",
           "landcolor": "#E5ECF6",
           "showlakes": true,
           "showland": true,
           "subunitcolor": "white"
          },
          "hoverlabel": {
           "align": "left"
          },
          "hovermode": "closest",
          "mapbox": {
           "style": "light"
          },
          "paper_bgcolor": "white",
          "plot_bgcolor": "#E5ECF6",
          "polar": {
           "angularaxis": {
            "gridcolor": "white",
            "linecolor": "white",
            "ticks": ""
           },
           "bgcolor": "#E5ECF6",
           "radialaxis": {
            "gridcolor": "white",
            "linecolor": "white",
            "ticks": ""
           }
          },
          "scene": {
           "xaxis": {
            "backgroundcolor": "#E5ECF6",
            "gridcolor": "white",
            "gridwidth": 2,
            "linecolor": "white",
            "showbackground": true,
            "ticks": "",
            "zerolinecolor": "white"
           },
           "yaxis": {
            "backgroundcolor": "#E5ECF6",
            "gridcolor": "white",
            "gridwidth": 2,
            "linecolor": "white",
            "showbackground": true,
            "ticks": "",
            "zerolinecolor": "white"
           },
           "zaxis": {
            "backgroundcolor": "#E5ECF6",
            "gridcolor": "white",
            "gridwidth": 2,
            "linecolor": "white",
            "showbackground": true,
            "ticks": "",
            "zerolinecolor": "white"
           }
          },
          "shapedefaults": {
           "line": {
            "color": "#2a3f5f"
           }
          },
          "ternary": {
           "aaxis": {
            "gridcolor": "white",
            "linecolor": "white",
            "ticks": ""
           },
           "baxis": {
            "gridcolor": "white",
            "linecolor": "white",
            "ticks": ""
           },
           "bgcolor": "#E5ECF6",
           "caxis": {
            "gridcolor": "white",
            "linecolor": "white",
            "ticks": ""
           }
          },
          "title": {
           "x": 0.05
          },
          "xaxis": {
           "automargin": true,
           "gridcolor": "white",
           "linecolor": "white",
           "ticks": "",
           "title": {
            "standoff": 15
           },
           "zerolinecolor": "white",
           "zerolinewidth": 2
          },
          "yaxis": {
           "automargin": true,
           "gridcolor": "white",
           "linecolor": "white",
           "ticks": "",
           "title": {
            "standoff": 15
           },
           "zerolinecolor": "white",
           "zerolinewidth": 2
          }
         }
        },
        "width": 800,
        "xaxis": {
         "anchor": "y",
         "autorange": true,
         "domain": [
          0,
          1
         ],
         "range": [
          -11.468179512314093,
          15.270052719406378
         ],
         "title": {
          "text": "tsne_1"
         },
         "type": "linear"
        },
        "yaxis": {
         "anchor": "x",
         "autorange": true,
         "domain": [
          0,
          1
         ],
         "range": [
          -10.528845204074834,
          11.934482945163701
         ],
         "title": {
          "text": "tsne_2"
         },
         "type": "linear"
        }
       }
      },
      "image/png": "[encoded data removed]",
      "text/html": [
       "<div>                            <div id=\"84a8f6c6-13e4-4301-85c7-c722b0a72512\" class=\"plotly-graph-div\" style=\"height:800px; width:800px;\"></div>            <script type=\"text/javascript\">                require([\"plotly\"], function(Plotly) {                    window.PLOTLYENV=window.PLOTLYENV || {};                                    if (document.getElementById(\"84a8f6c6-13e4-4301-85c7-c722b0a72512\")) {                    Plotly.newPlot(                        \"84a8f6c6-13e4-4301-85c7-c722b0a72512\",                        [{\"customdata\":[[\"The requirement for\\u003cbr\\u003eparticipants to\\u003cbr\\u003eengage in abstract\\u003cbr\\u003ethinking and apply\\u003cbr\\u003enon-concrete\\u003cbr\\u003ecriteria to solve\\u003cbr\\u003eproblems or generate\\u003cbr\\u003eoutputs.\"],[\"The requirement for\\u003cbr\\u003econceptual\\u003cbr\\u003ereasoning, ideation,\\u003cbr\\u003eand the application\\u003cbr\\u003eof abstract concepts\\u003cbr\\u003eto complete a task.\"],[\"The extent to which\\u003cbr\\u003ea task requires team\\u003cbr\\u003emembers to work\\u003cbr\\u003etogether, share\\u003cbr\\u003einformation, and\\u003cbr\\u003emake decisions\\u003cbr\\u003ecollaboratively to\\u003cbr\\u003eachieve a common\\u003cbr\\u003egoal.\"],[\"The extent to which\\u003cbr\\u003ea task requires\\u003cbr\\u003eparticipants to work\\u003cbr\\u003etogether to analyze\\u003cbr\\u003einformation, discuss\\u003cbr\\u003ediffering opinions,\\u003cbr\\u003eand reach a\\u003cbr\\u003econsensus or\\u003cbr\\u003eagreement.\"],[\"The presence of\\u003cbr\\u003eindividual goals\\u003cbr\\u003ethat may conflict\\u003cbr\\u003ewith those of other\\u003cbr\\u003eteam members,\\u003cbr\\u003eleading to\\u003cbr\\u003ecompetitive rather\\u003cbr\\u003ethan cooperative\\u003cbr\\u003einteractions.\"],[\"The presence of a\\u003cbr\\u003ecompetitive dynamic\\u003cbr\\u003ewithin the task,\\u003cbr\\u003ewhere individual or\\u003cbr\\u003eteam performance is\\u003cbr\\u003emeasured against\\u003cbr\\u003eothers.\"],[\"The nature of the\\u003cbr\\u003einteraction among\\u003cbr\\u003eparticipants,\\u003cbr\\u003ewhether it is\\u003cbr\\u003ecompetitive with\\u003cbr\\u003eindividual goals or\\u003cbr\\u003ecooperative with a\\u003cbr\\u003eshared objective.\"],[\"The importance of\\u003cbr\\u003ereaching an\\u003cbr\\u003eagreement or unified\\u003cbr\\u003edecision among team\\u003cbr\\u003emembers.\"],[\"The necessity for\\u003cbr\\u003eteam members to\\u003cbr\\u003ereach an agreement\\u003cbr\\u003eon a collective\\u003cbr\\u003edecision or output,\\u003cbr\\u003eoften involving\\u003cbr\\u003enegotiation and\\u003cbr\\u003esynthesis of\\u003cbr\\u003edifferent\\u003cbr\\u003eviewpoints.\"],[\"The need for team\\u003cbr\\u003emembers to\\u003cbr\\u003enegotiate, discuss,\\u003cbr\\u003eand agree on a\\u003cbr\\u003ecollective outcome\\u003cbr\\u003ethat reflects the\\u003cbr\\u003egroup's shared\\u003cbr\\u003eunderstanding or\\u003cbr\\u003egoal.\"],[\"The requirement for\\u003cbr\\u003ethe task to produce\\u003cbr\\u003ea creative or non-\\u003cbr\\u003estandard solution,\\u003cbr\\u003eoften involving idea\\u003cbr\\u003egeneration and\\u003cbr\\u003eabstract thinking.\"],[\"The need for team\\u003cbr\\u003emembers to engage in\\u003cbr\\u003ecreative thinking\\u003cbr\\u003eand generate\\u003cbr\\u003emultiple unique\\u003cbr\\u003esolutions or ideas\\u003cbr\\u003ewithin a set\\u003cbr\\u003eframework.\"],[\"The necessity for\\u003cbr\\u003ecreative input, idea\\u003cbr\\u003egeneration, and\\u003cbr\\u003einnovative thinking\\u003cbr\\u003ewithin the task.\"],[\"The requirement for\\u003cbr\\u003eparticipants to\\u003cbr\\u003egenerate new ideas\\u003cbr\\u003eor solutions by\\u003cbr\\u003ecombining individual\\u003cbr\\u003econtributions into a\\u003cbr\\u003esingle, cohesive\\u003cbr\\u003eoutput.\"],[\"The presence of\\u003cbr\\u003eimmediate or delayed\\u003cbr\\u003efeedback on team\\u003cbr\\u003edecisions and\\u003cbr\\u003eactions, which\\u003cbr\\u003einforms and\\u003cbr\\u003einfluences\\u003cbr\\u003esubsequent team\\u003cbr\\u003estrategy.\"],[\"The task's provision\\u003cbr\\u003eof immediate\\u003cbr\\u003efeedback on\\u003cbr\\u003eperformance and the\\u003cbr\\u003erequirement for\\u003cbr\\u003eparticipants to\\u003cbr\\u003eadapt their\\u003cbr\\u003estrategies based on\\u003cbr\\u003ethat feedback.\"],[\"The extent to which\\u003cbr\\u003ea task provides\\u003cbr\\u003efeedback on team\\u003cbr\\u003edecisions and allows\\u003cbr\\u003efor iterative\\u003cbr\\u003eimprovement based on\\u003cbr\\u003ethat feedback.\"],[\"The level of\\u003cbr\\u003eindependence granted\\u003cbr\\u003eto each team member\\u003cbr\\u003eto make decisions or\\u003cbr\\u003econtributions\\u003cbr\\u003ewithout the need for\\u003cbr\\u003egroup consensus or\\u003cbr\\u003ecollaboration.\"],[\"The balance between\\u003cbr\\u003etasks that\\u003cbr\\u003eprioritize\\u003cbr\\u003eindividual\\u003cbr\\u003eperformance and\\u003cbr\\u003edecision-making\\u003cbr\\u003eversus those that\\u003cbr\\u003eemphasize collective\\u003cbr\\u003eoutcomes and team\\u003cbr\\u003esuccess.\"],[\"The distribution of\\u003cbr\\u003einformation among\\u003cbr\\u003eteam members, where\\u003cbr\\u003enot all participants\\u003cbr\\u003ehave access to the\\u003cbr\\u003esame information,\\u003cbr\\u003erequiring sharing\\u003cbr\\u003eand integration to\\u003cbr\\u003ecomplete the task.\"],[\"The extent to which\\u003cbr\\u003ea task requires team\\u003cbr\\u003emembers to combine\\u003cbr\\u003edifferent pieces of\\u003cbr\\u003einformation to solve\\u003cbr\\u003ea problem or reach a\\u003cbr\\u003edecision.\"],[\"The importance of\\u003cbr\\u003ecommunication and\\u003cbr\\u003ethe exchange of\\u003cbr\\u003einformation among\\u003cbr\\u003eteam members to\\u003cbr\\u003eachieve a shared\\u003cbr\\u003eunderstanding and\\u003cbr\\u003egoal.\"],[\"The extent to which\\u003cbr\\u003eteam members have\\u003cbr\\u003eaccess to the same\\u003cbr\\u003einformation or\\u003cbr\\u003ewhether the task\\u003cbr\\u003einvolves hidden or\\u003cbr\\u003eunshared information\\u003cbr\\u003ethat must be\\u003cbr\\u003ecommunicated.\"],[\"The extent to which\\u003cbr\\u003ea task requires the\\u003cbr\\u003eanalysis, synthesis,\\u003cbr\\u003eand application of\\u003cbr\\u003einformation to make\\u003cbr\\u003edecisions or produce\\u003cbr\\u003ean output.\"],[\"The degree to which\\u003cbr\\u003ethe task has a\\u003cbr\\u003eclear, measurable\\u003cbr\\u003egoal or outcome that\\u003cbr\\u003ecan be objectively\\u003cbr\\u003eevaluated for\\u003cbr\\u003esuccess.\"],[\"The ability to\\u003cbr\\u003equantify the success\\u003cbr\\u003eof the task based on\\u003cbr\\u003eobjective criteria\\u003cbr\\u003eor a clear scoring\\u003cbr\\u003esystem.\"],[\"The necessity for\\u003cbr\\u003eteam members to\\u003cbr\\u003einteract and make\\u003cbr\\u003edecisions in a\\u003cbr\\u003edynamic, real-time\\u003cbr\\u003eenvironment.\"],[\"The extent to which\\u003cbr\\u003ea task involves\\u003cbr\\u003eimmediate, dynamic\\u003cbr\\u003einteraction among\\u003cbr\\u003eteam members within\\u003cbr\\u003ea shared\\u003cbr\\u003eenvironment.\"],[\"The degree to which\\u003cbr\\u003ea task involves\\u003cbr\\u003edistinct roles or\\u003cbr\\u003eresponsibilities for\\u003cbr\\u003eeach team member,\\u003cbr\\u003ewith each role\\u003cbr\\u003econtributing\\u003cbr\\u003especific skills or\\u003cbr\\u003eknowledge to the\\u003cbr\\u003eteam's objective.\"],[\"The level of\\u003cbr\\u003estrategic thinking,\\u003cbr\\u003eplanning, and\\u003cbr\\u003eadaptation required\\u003cbr\\u003eto achieve the\\u003cbr\\u003etask's objectives\\u003cbr\\u003ewithin a set of\\u003cbr\\u003erules or\\u003cbr\\u003econstraints.\"],[\"The level of\\u003cbr\\u003eplanning,\\u003cbr\\u003eanticipation of\\u003cbr\\u003eoutcomes, and\\u003cbr\\u003estrategic thinking\\u003cbr\\u003erequired to perform\\u003cbr\\u003ethe task\\u003cbr\\u003esuccessfully.\"],[\"The level of\\u003cbr\\u003estrategic thinking\\u003cbr\\u003eand prediction\\u003cbr\\u003erequired to consider\\u003cbr\\u003ethe actions and\\u003cbr\\u003epotential reactions\\u003cbr\\u003eof others, both\\u003cbr\\u003ewithin the team and\\u003cbr\\u003ewith external\\u003cbr\\u003eparties.\"],[\"The requirement for\\u003cbr\\u003eteam members to\\u003cbr\\u003eanalyze situations,\\u003cbr\\u003epredict outcomes,\\u003cbr\\u003eand develop a shared\\u003cbr\\u003estrategy to achieve\\u003cbr\\u003ea goal within a set\\u003cbr\\u003eof rules or\\u003cbr\\u003econstraints.\"],[\"The presence of a\\u003cbr\\u003efixed time limit\\u003cbr\\u003ewithin which\\u003cbr\\u003eparticipants must\\u003cbr\\u003ecomplete the task,\\u003cbr\\u003eadding pressure to\\u003cbr\\u003ethe decision-making\\u003cbr\\u003eprocess.\"],[\"The requirement for\\u003cbr\\u003eparticipants to\\u003cbr\\u003einteract with and\\u003cbr\\u003emanipulate elements\\u003cbr\\u003ewithin a visual or\\u003cbr\\u003espatial context to\\u003cbr\\u003eachieve the task's\\u003cbr\\u003eobjectives.\"],[\"The requirement for\\u003cbr\\u003eteam members to\\u003cbr\\u003enavigate and\\u003cbr\\u003emanipulate elements\\u003cbr\\u003ewithin a shared\\u003cbr\\u003evisual or spatial\\u003cbr\\u003eenvironment.\"]],\"hovertemplate\":\"\\u003cb\\u003e%{hovertext}\\u003c\\u002fb\\u003e\\u003cbr\\u003e\\u003cbr\\u003esource=pairwise\\u003cbr\\u003etsne_1=%{x}\\u003cbr\\u003etsne_2=%{y}\\u003cbr\\u003esize=%{marker.size}\\u003cbr\\u003edim_desc_wrapped=%{customdata[0]}\\u003cextra\\u003e\\u003c\\u002fextra\\u003e\",\"hovertext\":[\"Abstract Problem-Solving\",\"Abstract Thinking\",\"Collaboration Intensity\",\"Collaborative Decision-Making\",\"Competitive Dynamics\",\"Competitive Element\",\"Competitive vs. Cooperative Dynamics\",\"Consensus Building\",\"Consensus Requirement\",\"Consensus-Building\",\"Creative Output\",\"Creative Problem-Solving\",\"Creative Requirement\",\"Creative Synthesis\",\"Feedback Loop\",\"Feedback and Adaptation\",\"Feedback and Iteration\",\"Individual Autonomy\",\"Individual vs. Collective Focus\",\"Information Asymmetry\",\"Information Integration\",\"Information Sharing\",\"Information Symmetry\",\"Information Processing\",\"Objective Clarity\",\"Objective Measurement\",\"Real-Time Coordination\",\"Real-Time Interaction\",\"Role Differentiation\",\"Strategic Complexity\",\"Strategic Decision-Making\",\"Strategic Interaction\",\"Strategic Planning\",\"Time Constraint\",\"Visual-Spatial Coordination\",\"Spatial Coordination\"],\"legendgroup\":\"pairwise\",\"marker\":{\"color\":\"#3366CC\",\"size\":[0.4,0.4,0.4,0.4,0.4,0.4,0.4,0.4,0.4,0.4,0.4,0.4,0.4,0.4,0.4,0.4,0.4,0.4,0.4,0.4,0.4,0.4,0.4,0.4,0.4,0.4,0.4,0.4,0.4,0.4,0.4,0.4,0.4,0.4,0.4,0.4],\"sizemode\":\"area\",\"sizeref\":0.001,\"symbol\":\"circle\"},\"mode\":\"markers\",\"name\":\"pairwise\",\"orientation\":\"v\",\"showlegend\":true,\"x\":[8.400269508361816,8.676268577575684,0.9990025162696838,1.7698734998703003,7.1132025718688965,7.910971641540527,6.72253942489624,0.4587838351726532,1.1531118154525757,0.9706202149391174,7.416911602020264,6.895066738128662,6.942653656005859,6.395083427429199,-8.266128540039062,-8.80985164642334,-7.663041114807129,3.8122096061706543,4.5571136474609375,-2.443241596221924,0.4337250888347626,-1.3110417127609253,-2.6381218433380127,-0.13201840221881866,5.802071571350098,5.322381973266602,-4.7389607429504395,-4.996963024139404,2.575411796569824,-2.1502604484558105,-3.071007490158081,-3.1456165313720703,-2.1646018028259277,-4.465275764465332,-2.6714906692504883,-3.111083984375],\"xaxis\":\"x\",\"y\":[2.878877639770508,3.070702314376831,5.88950252532959,7.121225357055664,8.311717987060547,7.93745756149292,8.605949401855469,9.263707160949707,8.749773979187012,9.467364311218262,1.6500242948532104,2.671671152114868,1.3804048299789429,3.0885848999023438,1.3724538087844849,3.0005111694335938,2.0162861347198486,5.284059047698975,5.898921489715576,8.605143547058105,5.1470160484313965,7.413634777069092,7.961953639984131,4.302987575531006,-6.559908866882324,-6.909725189208984,1.393149733543396,1.5730193853378296,3.923438310623169,3.213655471801758,3.8234400749206543,4.656494617462158,4.951281547546387,-4.747451305389404,-0.15062887966632843,0.12011152505874634],\"yaxis\":\"y\",\"type\":\"scatter\"},{\"customdata\":[[\"The level of\\u003cbr\\u003edifficulty involved\\u003cbr\\u003ein completing the\\u003cbr\\u003etask, which can\\u003cbr\\u003erange from simple\\u003cbr\\u003e(e.g., recalling\\u003cbr\\u003ewords) to complex\\u003cbr\\u003e(e.g., negotiating a\\u003cbr\\u003ebusiness deal).\"],[\"Whether the task\\u003cbr\\u003erequires\\u003cbr\\u003eparticipants to work\\u003cbr\\u003ealone or in a team,\\u003cbr\\u003eand the degree to\\u003cbr\\u003ewhich teamwork and\\u003cbr\\u003ecommunication are\\u003cbr\\u003enecessary for\\u003cbr\\u003esuccess.\"],[\"The extent to which\\u003cbr\\u003ethe task requires\\u003cbr\\u003enovel thinking,\\u003cbr\\u003eimagination, or\\u003cbr\\u003einnovation, as\\u003cbr\\u003eopposed to tasks\\u003cbr\\u003ethat have clear-cut\\u003cbr\\u003esolutions or rely on\\u003cbr\\u003ememory.\"],[\"The level of\\u003cbr\\u003estrategic planning\\u003cbr\\u003eand foresight needed\\u003cbr\\u003eto perform well in\\u003cbr\\u003ethe task.\"],[\"The degree to which\\u003cbr\\u003ea task is\\u003cbr\\u003econstrained by time,\\u003cbr\\u003erequiring quick\\u003cbr\\u003ethinking and\\u003cbr\\u003edecision-making.\"],[\"The amount of mental\\u003cbr\\u003eeffort and working\\u003cbr\\u003ememory usage\\u003cbr\\u003erequired to perform\\u003cbr\\u003ethe task, which can\\u003cbr\\u003eaffect performance,\\u003cbr\\u003eespecially under\\u003cbr\\u003etime constraints.\"],[\"The extent to which\\u003cbr\\u003eparticipants have\\u003cbr\\u003eaccess to different\\u003cbr\\u003elevels of\\u003cbr\\u003einformation, which\\u003cbr\\u003ecan influence\\u003cbr\\u003estrategies and\\u003cbr\\u003eoutcomes in tasks\\u003cbr\\u003esuch as negotiations\\u003cbr\\u003eor games.\"],[\"The degree to which\\u003cbr\\u003ethe task involves\\u003cbr\\u003enumerical\\u003cbr\\u003ecomputation, logical\\u003cbr\\u003ereasoning, and\\u003cbr\\u003eproblem-solving\\u003cbr\\u003eskills.\"],[\"The level of risk\\u003cbr\\u003einvolved in\\u003cbr\\u003edecision-making and\\u003cbr\\u003ethe uncertainty of\\u003cbr\\u003eoutcomes, which can\\u003cbr\\u003ebe influenced by\\u003cbr\\u003eunknown variables or\\u003cbr\\u003ethe actions of\\u003cbr\\u003eothers.\"],[\"Whether and how\\u003cbr\\u003eparticipants receive\\u003cbr\\u003efeedback on their\\u003cbr\\u003eperformance, which\\u003cbr\\u003ecan be immediate or\\u003cbr\\u003edelayed, and how\\u003cbr\\u003ethey can learn and\\u003cbr\\u003eadapt their\\u003cbr\\u003estrategies over\\u003cbr\\u003etime.\"],[\"The presence and\\u003cbr\\u003eimmediacy of\\u003cbr\\u003efeedback given to\\u003cbr\\u003eparticipants, which\\u003cbr\\u003ecan influence\\u003cbr\\u003elearning and\\u003cbr\\u003estrategy. This can\\u003cbr\\u003ebe operationalized\\u003cbr\\u003eby whether\\u003cbr\\u003eparticipants receive\\u003cbr\\u003eimmediate, delayed,\\u003cbr\\u003eor no feedback on\\u003cbr\\u003etheir performance.\"],[\"The manner in which\\u003cbr\\u003etask performance is\\u003cbr\\u003eassessed, ranging\\u003cbr\\u003efrom objective\\u003cbr\\u003emeasures (e.g., a\\u003cbr\\u003ecorrect answer) to\\u003cbr\\u003esubjective\\u003cbr\\u003eevaluations (e.g.,\\u003cbr\\u003ecreativity or\\u003cbr\\u003enegotiation skills).\"],[\"The extent to which\\u003cbr\\u003ethe task is\\u003cbr\\u003econstrained by the\\u003cbr\\u003eavailability of\\u003cbr\\u003eresources, which can\\u003cbr\\u003ebe operationalized\\u003cbr\\u003eby the quantity and\\u003cbr\\u003etype of resources\\u003cbr\\u003eprovided to complete\\u003cbr\\u003ethe task.\"],[\"The level of\\u003cbr\\u003ephysical or manual\\u003cbr\\u003edexterity required\\u003cbr\\u003eby the task, which\\u003cbr\\u003ecan be\\u003cbr\\u003eoperationalized by\\u003cbr\\u003ethe need for precise\\u003cbr\\u003emovements or\\u003cbr\\u003ecoordination in a\\u003cbr\\u003ephysical or virtual\\u003cbr\\u003espace.\"],[\"Whether the task has\\u003cbr\\u003ea single correct\\u003cbr\\u003eanswer or multiple\\u003cbr\\u003epossible correct\\u003cbr\\u003eanswers,\\u003cbr\\u003eoperationalized by\\u003cbr\\u003ethe number of\\u003cbr\\u003eacceptable solutions\\u003cbr\\u003eor the range of\\u003cbr\\u003escores reflecting\\u003cbr\\u003ethe quality of the\\u003cbr\\u003esolutions.\"],[\"The degree to which\\u003cbr\\u003ethe task requires or\\u003cbr\\u003ebenefits from\\u003cbr\\u003especialized\\u003cbr\\u003eknowledge or skills,\\u003cbr\\u003eoperationalized by\\u003cbr\\u003ecomparing\\u003cbr\\u003eparticipants'\\u003cbr\\u003esolutions to those\\u003cbr\\u003eof subject matter\\u003cbr\\u003eexperts.\"],[\"The degree to which\\u003cbr\\u003eall necessary\\u003cbr\\u003einformation is\\u003cbr\\u003ereadily available to\\u003cbr\\u003eparticipants or if\\u003cbr\\u003esome information is\\u003cbr\\u003ehidden or must be\\u003cbr\\u003ediscovered.\"],[\"The type of skills\\u003cbr\\u003epredominantly\\u003cbr\\u003erequired by the\\u003cbr\\u003etask, ranging from\\u003cbr\\u003ephysical\\u002fmanual\\u003cbr\\u003edexterity to\\u003cbr\\u003ecognitive\\u002fmental\\u003cbr\\u003eabilities. This can\\u003cbr\\u003ebe operationalized\\u003cbr\\u003eby identifying the\\u003cbr\\u003eprimary type of\\u003cbr\\u003eskill needed for\\u003cbr\\u003etask completion.\"],[\"The reliance on\\u003cbr\\u003erecall ability to\\u003cbr\\u003ecomplete the task.\"],[\"The need to identify\\u003cbr\\u003eand understand\\u003cbr\\u003epatterns, trends, or\\u003cbr\\u003eregularities in\\u003cbr\\u003edata.\"],[\"The requirement to\\u003cbr\\u003ediscuss and reach an\\u003cbr\\u003eagreement in a\\u003cbr\\u003ecollaborative or\\u003cbr\\u003ecompetitive context.\"],[\"The extent to which\\u003cbr\\u003ethe task relies on\\u003cbr\\u003epre-existing\\u003cbr\\u003eknowledge or\\u003cbr\\u003einformation, such as\\u003cbr\\u003efamiliarity with\\u003cbr\\u003ewords or knowledge\\u003cbr\\u003eof city populations.\"],[\"The extent to which\\u003cbr\\u003ethe task involves\\u003cbr\\u003emoral or ethical\\u003cbr\\u003edecision-making,\\u003cbr\\u003ewhich can influence\\u003cbr\\u003ethe choices made by\\u003cbr\\u003eparticipants beyond\\u003cbr\\u003epurely rational\\u003cbr\\u003eself-interest.\"],[\"The need for visual\\u003cbr\\u003eor auditory\\u003cbr\\u003ediscrimination to\\u003cbr\\u003ecomplete the task.\\u003cbr\\u003eThis can be\\u003cbr\\u003eoperationalized by\\u003cbr\\u003etasks that require\\u003cbr\\u003edistinguishing\\u003cbr\\u003ebetween patterns,\\u003cbr\\u003esounds, or visual\\u003cbr\\u003estimuli.\"]],\"hovertemplate\":\"\\u003cb\\u003e%{hovertext}\\u003c\\u002fb\\u003e\\u003cbr\\u003e\\u003cbr\\u003esource=taskbased\\u003cbr\\u003etsne_1=%{x}\\u003cbr\\u003etsne_2=%{y}\\u003cbr\\u003esize=%{marker.size}\\u003cbr\\u003edim_desc_wrapped=%{customdata[0]}\\u003cextra\\u003e\\u003c\\u002fextra\\u003e\",\"hovertext\":[\"Complexity\",\"Collaboration\",\"Creativity\",\"Strategy\",\"Time Pressure\",\"Cognitive Load\",\"Information Asymmetry\",\"Quantitative Reasoning\",\"Risk and Uncertainty\",\"Learning and Adaptation\",\"Feedback\",\"Objective vs. Subjective Evaluation\",\"Resource Limitation\",\"Physical Coordination\",\"Convergence-Divergence\",\"Expertise Alignment\",\"Information Availability\",\"Physical vs. Cognitive Skills\",\"Memory\",\"Pattern Recognition\",\"Negotiation\",\"Knowledge Dependency\",\"Moral\\u002fEthical Consideration\",\"Perceptual Skills\"],\"legendgroup\":\"taskbased\",\"marker\":{\"color\":\"#DC3912\",\"size\":[0.4,0.4,0.4,0.4,0.4,0.4,0.4,0.4,0.4,0.4,0.4,0.4,0.4,0.4,0.4,0.4,0.4,0.4,0.4,0.4,0.4,0.4,0.4,0.4],\"sizemode\":\"area\",\"sizeref\":0.001,\"symbol\":\"diamond\"},\"mode\":\"markers\",\"name\":\"taskbased\",\"orientation\":\"v\",\"showlegend\":true,\"x\":[3.5268235206604004,1.832185983657837,6.060166835784912,-3.034526824951172,-3.86518931388855,1.2523170709609985,-2.7559213638305664,2.810434341430664,-4.931624889373779,-9.303850173950195,-9.414710998535156,6.571713447570801,-6.8926100730896,-2.593738555908203,9.005156517028809,2.874457597732544,-4.517458915710449,-1.2014063596725464,3.4670629501342773,-0.7063425779342651,2.0310330390930176,2.6061720848083496,2.8867948055267334,-0.7148780822753906],\"xaxis\":\"x\",\"y\":[-0.9029335975646973,5.858794689178467,0.8259975910186768,3.4271340370178223,-4.688175678253174,-8.37309741973877,9.141072273254395,-5.504964351654053,4.753002166748047,2.986851692199707,2.0746185779571533,-7.804786205291748,-5.529232025146484,-1.5434906482696533,-5.465457439422607,2.9378063678741455,8.040628433227539,-2.404545545578003,0.7206373810768127,0.8423600196838379,10.273170471191406,1.0761585235595703,7.029576778411865,-0.6849806308746338],\"yaxis\":\"y\",\"type\":\"scatter\"},{\"customdata\":[[\"Number of distinct\\u003cbr\\u003esteps or components\\u003cbr\\u003erequired to complete\\u003cbr\\u003ethe task\"],[\"Scale from 1 (low)\\u003cbr\\u003eto 5 (high)\\u003cbr\\u003eindicating the\\u003cbr\\u003edegree to which team\\u003cbr\\u003emembers' tasks are\\u003cbr\\u003einterconnected\"],[\"Count of different\\u003cbr\\u003especialized skills\\u003cbr\\u003eneeded to perform\\u003cbr\\u003ethe task effectively\"],[\"Scale from 1 (low)\\u003cbr\\u003eto 5 (high)\\u003cbr\\u003erepresenting the\\u003cbr\\u003epredictability of\\u003cbr\\u003etask outcomes\"],[\"Time given to\\u003cbr\\u003ecomplete the task\\u003cbr\\u003emeasured in minutes\\u003cbr\\u003eor hours\"],[\"Scale from 1\\u003cbr\\u003e(familiar) to 5\\u003cbr\\u003e(novel) indicating\\u003cbr\\u003ehow common or new\\u003cbr\\u003ethe task is to the\\u003cbr\\u003eteam members\"],[\"Amount of\\u003cbr\\u003einformation (in\\u003cbr\\u003ebytes or number of\\u003cbr\\u003eitems) that must be\\u003cbr\\u003eprocessed to\\u003cbr\\u003ecomplete the task\"],[\"Scale from 1\\u003cbr\\u003e(ambiguous) to 5\\u003cbr\\u003e(clear) indicating\\u003cbr\\u003ehow well-defined the\\u003cbr\\u003etask goals are\"],[\"Scale from 1 (low)\\u003cbr\\u003eto 5 (high)\\u003cbr\\u003eindicating the level\\u003cbr\\u003eof physical effort\\u003cbr\\u003erequired\"],[\"Number of\\u003cbr\\u003ecoordination points\\u003cbr\\u003ewhere team members\\u003cbr\\u003emust synchronize\\u003cbr\\u003etheir actions\"],[\"Number of different\\u003cbr\\u003especialized skills\\u003cbr\\u003eor knowledge areas\\u003cbr\\u003erequired to perform\\u003cbr\\u003ethe task\"],[\"Ratio of the amount\\u003cbr\\u003eof information\\u003cbr\\u003eavailable to the\\u003cbr\\u003eteam to the amount\\u003cbr\\u003eof information\\u003cbr\\u003erequired to complete\\u003cbr\\u003ethe task, with a\\u003cbr\\u003evalue of 1\\u003cbr\\u003eindicating perfect\\u003cbr\\u003einformation\\u003cbr\\u003eavailability\"],[\"Scale from 1\\u003cbr\\u003e(routine task) to 5\\u003cbr\\u003e(high problem-\\u003cbr\\u003esolving demand),\\u003cbr\\u003ereflecting the level\\u003cbr\\u003eof novel thinking\\u003cbr\\u003erequired.\"],[\"Scale from 1 (no\\u003cbr\\u003ecreativity needed)\\u003cbr\\u003eto 5 (high\\u003cbr\\u003ecreativity\\u003cbr\\u003erequired), gauging\\u003cbr\\u003ethe need for\\u003cbr\\u003eoriginal ideas and\\u003cbr\\u003esolutions.\"],[\"Measured by the\\u003cbr\\u003eaverage time it\\u003cbr\\u003etakes for a new team\\u003cbr\\u003emember to perform\\u003cbr\\u003ethe task at a\\u003cbr\\u003eproficiency level of\\u003cbr\\u003e90% of an\\u003cbr\\u003eexperienced member.\"],[\"Measured by the\\u003cbr\\u003eaverage time between\\u003cbr\\u003eaction and receiving\\u003cbr\\u003efeedback on\\u003cbr\\u003eperformance,\\u003cbr\\u003eindicating the\\u003cbr\\u003eimmediacy and\\u003cbr\\u003efrequency of\\u003cbr\\u003efeedback.\"],[\"Measured by the\\u003cbr\\u003epercentage of time\\u003cbr\\u003eall necessary\\u003cbr\\u003eresources are\\u003cbr\\u003eavailable during\\u003cbr\\u003etask performance.\"],[\"Scale from 1 (low\\u003cbr\\u003estress) to 5 (high\\u003cbr\\u003estress), based on\\u003cbr\\u003ephysiological\\u003cbr\\u003emeasures such as\\u003cbr\\u003eheart rate or self-\\u003cbr\\u003ereported stress\\u003cbr\\u003elevels.\"],[\"Number of\\u003cbr\\u003ecoordination actions\\u003cbr\\u003e(e.g.,\\u003cbr\\u003ecommunications,\\u003cbr\\u003esynchronizations)\\u003cbr\\u003erequired per unit of\\u003cbr\\u003etime\"],[\"Rating on a scale\\u003cbr\\u003efrom 1 (minimal\\u003cbr\\u003ecognitive effort) to\\u003cbr\\u003e5 (extreme cognitive\\u003cbr\\u003eeffort) based on the\\u003cbr\\u003emental intensity of\\u003cbr\\u003ethe task\"],[\"Number of novel\\u003cbr\\u003esolutions or\\u003cbr\\u003eapproaches required\\u003cbr\\u003eto successfully\\u003cbr\\u003ecomplete the task\"],[\"The length of time\\u003cbr\\u003erequired to complete\\u003cbr\\u003ethe task, 'measure':\\u003cbr\\u003e'Time in Minutes:\\u003cbr\\u003eThe average time\\u003cbr\\u003etaken to complete\\u003cbr\\u003ethe task, measured\\u003cbr\\u003ein minutes\"],[\"The degree to which\\u003cbr\\u003ethe task is new or\\u003cbr\\u003eunfamiliar to the\\u003cbr\\u003eteam, 'measure':\\u003cbr\\u003eNovelty Rating: A\\u003cbr\\u003escore from 1\\u003cbr\\u003e(familiar) to 5\\u003cbr\\u003e(novel) based on\\u003cbr\\u003eteam members' self-\\u003cbr\\u003ereported familiarity\\u003cbr\\u003ewith the task.\"],[\"The mental effort\\u003cbr\\u003erequired to perform\\u003cbr\\u003ethe task, 'measure':\\u003cbr\\u003e'Cognitive Load\\u003cbr\\u003eScale: A score from\\u003cbr\\u003e1 (low) to 5 (high)\\u003cbr\\u003ebased on subjective\\u003cbr\\u003eassessment of mental\\u003cbr\\u003eeffort required,\\u003cbr\\u003eusing standardized\\u003cbr\\u003ecognitive load\\u003cbr\\u003emeasurement\\u003cbr\\u003einstruments\"],[\"The range of skills\\u003cbr\\u003eand abilities\\u003cbr\\u003erequired to perform\\u003cbr\\u003ethe task, 'measure':\\u003cbr\\u003e'Skill Diversity\\u003cbr\\u003eIndex: The number of\\u003cbr\\u003edistinct skills and\\u003cbr\\u003eabilities required\\u003cbr\\u003eto perform the task\\u003cbr\\u003eeffectively\"],[\"A numerical score\\u003cbr\\u003ebased on the number\\u003cbr\\u003eof distinct\\u003cbr\\u003ecognitive processes\\u003cbr\\u003erequired (e.g.,\\u003cbr\\u003ememory recall,\\u003cbr\\u003elogical reasoning,\\u003cbr\\u003edecision-making),\\u003cbr\\u003ethe number of\\u003cbr\\u003edecision points, and\\u003cbr\\u003ethe level of\\u003cbr\\u003eabstraction involved\\u003cbr\\u003ein the task\"],[\"A scale from 0 to 1\\u003cbr\\u003ewhere 0 represents\\u003cbr\\u003ecompletely\\u003cbr\\u003eindependent tasks\\u003cbr\\u003eand 1 represents\\u003cbr\\u003etasks that cannot be\\u003cbr\\u003ecompleted without\\u003cbr\\u003econstant team\\u003cbr\\u003einteraction,\\u003cbr\\u003emeasured by the\\u003cbr\\u003efrequency and\\u003cbr\\u003enecessity of\\u003cbr\\u003ecommunication among\\u003cbr\\u003eteam members\"],[\"A measure of the\\u003cbr\\u003etask's time\\u003cbr\\u003esensitivity,\\u003cbr\\u003equantified by the\\u003cbr\\u003eratio of the time\\u003cbr\\u003espent on active task\\u003cbr\\u003eengagement to the\\u003cbr\\u003etotal time allotted\\u003cbr\\u003efor task completion.\"],[\"A score derived from\\u003cbr\\u003ethe necessity for\\u003cbr\\u003ecreative problem-\\u003cbr\\u003esolving and\\u003cbr\\u003egeneration of novel\\u003cbr\\u003eideas, rated by\\u003cbr\\u003eexperts in the field\\u003cbr\\u003eon a scale from 1\\u003cbr\\u003e(no innovation\\u003cbr\\u003eneeded) to 10\\u003cbr\\u003e(highly innovative)\"],[\"A metric based on\\u003cbr\\u003ethe number and\\u003cbr\\u003ecomplexity of\\u003cbr\\u003ephysical actions\\u003cbr\\u003erequired by the\\u003cbr\\u003eteam, the precision\\u003cbr\\u003eneeded, and the\\u003cbr\\u003edegree of\\u003cbr\\u003esynchronization,\\u003cbr\\u003emeasured on a scale\\u003cbr\\u003efrom 1 (minimal\\u003cbr\\u003ecoordination) to 10\\u003cbr\\u003e(extensive\\u003cbr\\u003ecoordination)\"],[\"A variability index\\u003cbr\\u003ecalculated by the\\u003cbr\\u003enumber of external\\u003cbr\\u003evariables that can\\u003cbr\\u003eaffect task\\u003cbr\\u003eperformance (e.g.,\\u003cbr\\u003echanging tools,\\u003cbr\\u003eshifting\\u003cbr\\u003eworkspaces), with\\u003cbr\\u003ehigher scores\\u003cbr\\u003eindicating greater\\u003cbr\\u003evariability\"],[\"A constraint score\\u003cbr\\u003ebased on the\\u003cbr\\u003escarcity of\\u003cbr\\u003eresources (e.g.,\\u003cbr\\u003etime, information,\\u003cbr\\u003etools, personnel)\\u003cbr\\u003enecessary for task\\u003cbr\\u003ecompletion, with\\u003cbr\\u003ehigher scores\\u003cbr\\u003eindicating tighter\\u003cbr\\u003econstraints\"],[\"A measurability\\u003cbr\\u003escore based on the\\u003cbr\\u003eclarity and\\u003cbr\\u003eobjectivity of the\\u003cbr\\u003eoutcome assessment\\u003cbr\\u003ecriteria, ranging\\u003cbr\\u003efrom 1 (subjective\\u003cbr\\u003eor unclear criteria)\\u003cbr\\u003eto 10 (objective and\\u003cbr\\u003eclear criteria)\"]],\"hovertemplate\":\"\\u003cb\\u003e%{hovertext}\\u003c\\u002fb\\u003e\\u003cbr\\u003e\\u003cbr\\u003esource=directask\\u003cbr\\u003etsne_1=%{x}\\u003cbr\\u003etsne_2=%{y}\\u003cbr\\u003esize=%{marker.size}\\u003cbr\\u003edim_desc_wrapped=%{customdata[0]}\\u003cextra\\u003e\\u003c\\u002fextra\\u003e\",\"hovertext\":[\"Complexity\",\"Interdependence\",\"Diversity of Skills Required\",\"Uncertainty\",\"Time Pressure\",\"Task Novelty\",\"Information Load\",\"Goal Clarity\",\"Physical Demand\",\"Coordination Requirement\",\"Diversity of Skills\",\"Information Availability\",\"Problem-Solving Demand\",\"Creativity Requirement\",\"Learning Curve\",\"Feedback Loop\",\"Resource Availability\",\"Stress Level\",\"Coordination Demand\",\"Cognitive Demand\",\"Innovativeness\",\"Duration\",\"Novelty\",\"Cognitive Load\",\"Skill Variety\",\"Cognitive Complexity\",\"Interdependence Level\",\"Temporal Dynamics\",\"Innovation Requirement\",\"Physical Coordination\",\"Environmental Variability\",\"Resource Constraints\",\"Outcome Measurability\"],\"legendgroup\":\"directask\",\"marker\":{\"color\":\"#FF9900\",\"size\":[0.4,0.4,0.4,0.4,0.4,0.4,0.4,0.4,0.4,0.4,0.4,0.4,0.4,0.4,0.4,0.4,0.4,0.4,0.4,0.4,0.4,0.4,0.4,0.4,0.4,0.4,0.4,0.4,0.4,0.4,0.4,0.4,0.4],\"sizemode\":\"area\",\"sizeref\":0.001,\"symbol\":\"square\"},\"mode\":\"markers\",\"name\":\"directask\",\"orientation\":\"v\",\"showlegend\":true,\"x\":[4.252200126647949,0.8159336447715759,1.2131164073944092,6.318217754364014,-3.991203784942627,4.701472759246826,-6.958428382873535,6.24092435836792,-0.9809372425079346,-4.776941776275635,1.3280541896820068,-4.981415271759033,6.400513648986816,6.9390339851379395,-8.55269718170166,-8.720717430114746,-7.207043170928955,-1.2055227756500244,-5.202610015869141,0.8768144249916077,5.633275508880615,-4.03601598739624,4.495314121246338,1.0668405294418335,1.3351147174835205,2.1307623386383057,0.730381965637207,-5.375943183898926,7.0981621742248535,-3.1913952827453613,2.1269283294677734,-6.913276195526123,5.261193752288818],\"xaxis\":\"x\",\"y\":[-1.09115469455719,2.371448516845703,-0.7322026491165161,-4.382795810699463,-5.4320387840271,-3.4860925674438477,6.561769008636475,-5.165395736694336,-7.49069356918335,-0.6368343234062195,-0.6088594794273376,7.990070343017578,-2.323457956314087,-1.4539645910263062,-1.753365397453308,0.486661821603775,-4.8514018058776855,-8.461291313171387,-0.9757267236709595,-7.129766464233398,-0.32269296050071716,-6.512534141540527,-3.4958901405334473,-8.0762300491333,-1.7991060018539429,-6.67341423034668,2.4558780193328857,-3.53361177444458,-0.878828763961792,-1.8528285026550293,-3.0562102794647217,-5.9167633056640625,-7.660610198974609],\"yaxis\":\"y\",\"type\":\"scatter\"},{\"customdata\":[[\"Does this task\\u003cbr\\u003eprimarily require\\u003cbr\\u003ephysical effort, as\\u003cbr\\u003eopposed to primarily\\u003cbr\\u003erequiring mental\\u003cbr\\u003eeffort?\"],[\"What is the fraction\\u003cbr\\u003eof physical (as\\u003cbr\\u003eopposed to mental)\\u003cbr\\u003eeffort required for\\u003cbr\\u003ethe task?\"],[\"Is this a \\\"planning\\\"\\u003cbr\\u003etask? In other\\u003cbr\\u003ewords, is one of the\\u003cbr\\u003emain purpose(s) of\\u003cbr\\u003ethis task to produce\\u003cbr\\u003ea sequence of\\u003cbr\\u003econcrete steps or\\u003cbr\\u003eactions that an\\u003cbr\\u003eindividual can\\u003cbr\\u003efollow to achieve\\u003cbr\\u003esome goal?\"],[\"Is this a\\u003cbr\\u003e\\\"generation\\\" or\\u003cbr\\u003e\\\"brainstorming\\\"\\u003cbr\\u003etask? In other\\u003cbr\\u003ewords, is one of the\\u003cbr\\u003emain purpose(s) of\\u003cbr\\u003ethis task to produce\\u003cbr\\u003ea number of ideas or\\u003cbr\\u003eexamples, without\\u003cbr\\u003eany particular\\u003cbr\\u003eaction associated\\u003cbr\\u003ewith them?\"],[\"What fraction of the\\u003cbr\\u003eeffort required for\\u003cbr\\u003ethis task is\\u003cbr\\u003ecreative thinking\\u003cbr\\u003e(as opposed to any\\u003cbr\\u003eother type of\\u003cbr\\u003eeffort, whether\\u003cbr\\u003ephysical, logical,\\u003cbr\\u003eetc.)?\"],[\"Is one of the main\\u003cbr\\u003epurpose(s) of this\\u003cbr\\u003etask to resolve\\u003cbr\\u003epeople's differences\\u003cbr\\u003ein opinion,\\u003cbr\\u003eperspective, or\\u003cbr\\u003eviewpoint?\"],[\"During this task,\\u003cbr\\u003egroup members pursue\\u003cbr\\u003edifferent interests,\\u003cbr\\u003eobjectives, or\\u003cbr\\u003egoals.\"],[\"Can the outcome of\\u003cbr\\u003ethis task be\\u003cbr\\u003edescribed in\\u003cbr\\u003ewin\\u002flose terms?\"],[\"Does the task have\\u003cbr\\u003ean all-or-nothing\\u003cbr\\u003eoutcome? In other\\u003cbr\\u003ewords, is it\\u003cbr\\u003esufficient to just\\u003cbr\\u003emeet a particular\\u003cbr\\u003estandard?\"],[\"Is it efficient and\\u003cbr\\u003euseful for members\\u003cbr\\u003eof the group to work\\u003cbr\\u003eon discrete parts\\u003cbr\\u003e(or subtasks) of\\u003cbr\\u003ethis activity?\"],[\"Is the goal (or one\\u003cbr\\u003eof the goals) of\\u003cbr\\u003ethis task to try to\\u003cbr\\u003eachieve doing\\u003cbr\\u003esomething as much as\\u003cbr\\u003epossible, as many as\\u003cbr\\u003epossible, or as\\u003cbr\\u003equickly as possible?\"],[\"Is the goal (or one\\u003cbr\\u003eof the goals) of\\u003cbr\\u003ethis task to try to\\u003cbr\\u003eachieve a precise\\u003cbr\\u003eoutcome?\"],[\"Is there only one\\u003cbr\\u003e\\\"best\\\" solution (or\\u003cbr\\u003epossible solution)\\u003cbr\\u003eto this task?\"],[\"Is there only one\\u003cbr\\u003emethod for achieving\\u003cbr\\u003ethe task, as opposed\\u003cbr\\u003eto many alternatives\\u003cbr\\u003efor task completion?\"],[\"Can acceptable\\u003cbr\\u003esolutions to this\\u003cbr\\u003etask be demonstrated\\u003cbr\\u003eor verified to be\\u003cbr\\u003ecorrect (e.g., by an\\u003cbr\\u003eexpert or third-\\u003cbr\\u003eparty)?\"],[\"Can this task be\\u003cbr\\u003ewritten as a \\\"formal\\u003cbr\\u003emodel\\\" that an\\u003cbr\\u003ealgorithm could\\u003cbr\\u003esolve?\"],[\"Is there enough\\u003cbr\\u003einformation in the\\u003cbr\\u003eproblem to find a\\u003cbr\\u003evalid solution?\"],[\"If someone who is\\u003cbr\\u003eable to solve the\\u003cbr\\u003eproblem explains\\u003cbr\\u003etheir answer, would\\u003cbr\\u003eothers recognize it\\u003cbr\\u003eas correct without\\u003cbr\\u003econtest?\"],[\"Is a participant\\u003cbr\\u003eable to come up with\\u003cbr\\u003ea provably correct\\u003cbr\\u003esolution, assuming\\u003cbr\\u003esufficient ability,\\u003cbr\\u003etime, motivation,\\u003cbr\\u003eand resources?\"],[\"Is there an\\u003cbr\\u003eobjectively correct\\u003cbr\\u003esolution to this\\u003cbr\\u003etask that can be\\u003cbr\\u003ecalculated or\\u003cbr\\u003eselected?\"],[\"On a scale of 0\\u003cbr\\u003e(entirely\\u003cbr\\u003esubjective, with no\\u003cbr\\u003ecorrect answer; a\\u003cbr\\u003ejudgmental task) to\\u003cbr\\u003e1 (entirely\\u003cbr\\u003eobjective and\\u003cbr\\u003edemonstrable by pure\\u003cbr\\u003elogic; an\\u003cbr\\u003eintellective task),\\u003cbr\\u003ehow would you\\u003cbr\\u003eclassify the extent\\u003cbr\\u003eof demonstrable\\u003cbr\\u003ecorrectness of this\\u003cbr\\u003etask?\"],[\"Does completing this\\u003cbr\\u003etask require\\u003cbr\\u003eparticipants to\\u003cbr\\u003eevaluate tradeoffs\\u003cbr\\u003e--- conflicting\\u003cbr\\u003epossible solutions\\u003cbr\\u003eor conflicting\\u003cbr\\u003epieces of\\u003cbr\\u003einformation?\"],[\"When doing this\\u003cbr\\u003etask, will the\\u003cbr\\u003eparticipants have\\u003cbr\\u003eany uncertainty\\u003cbr\\u003eabout whether their\\u003cbr\\u003emethod or solution\\u003cbr\\u003ewill lead to the\\u003cbr\\u003edesired outcome?\"],[\"Is the solution to\\u003cbr\\u003ethe question obvious\\u003cbr\\u003eas soon as it is\\u003cbr\\u003eproposed --- for\\u003cbr\\u003eexample, once people\\u003cbr\\u003esee the \\\"trick,\\\"\\u003cbr\\u003ethey know how to\\u003cbr\\u003esolve it?\"]],\"hovertemplate\":\"\\u003cb\\u003e%{hovertext}\\u003c\\u002fb\\u003e\\u003cbr\\u003e\\u003cbr\\u003esource=literature\\u003cbr\\u003etsne_1=%{x}\\u003cbr\\u003etsne_2=%{y}\\u003cbr\\u003esize=%{marker.size}\\u003cbr\\u003edim_desc_wrapped=%{customdata[0]}\\u003cextra\\u003e\\u003c\\u002fextra\\u003e\",\"hovertext\":[\"Conceptual-Behavioral\",\"Intellectual-Manipulative\",\"Type 1 (Planning)\",\"Type 2 (Generate)\",\"Creativity Input\",\"Type 5 (Cognitive Conflict)\",\"Type 6 (Mixed-Motive)\",\"Type 7 (Battle)\",\"Type 8 (Performance)\",\"Divisible-Unitary\",\"Maximizing\",\"Optimizing\",\"Outcome Multiplicity\",\"Solution Scheme Multiplicity\",\"Decision Verifiability\",\"Shared Knowledge\",\"Within-System Solution\",\"Answer Recognizability\",\"Time Solvability\",\"Type 3 and Type 4 (Objective Correctness)\",\"Intellective-Judgmental\",\"Conflicting Tradeoffs\",\"Solution Scheme Outcome Uncertainty\",\"Eureka Question\"],\"legendgroup\":\"literature\",\"marker\":{\"color\":\"#109618\",\"size\":[0.4,0.4,0.4,0.4,0.4,0.4,0.4,0.4,0.4,0.4,0.4,0.4,0.4,0.4,0.4,0.4,0.4,0.4,0.4,0.4,0.4,0.4,0.4,0.4],\"sizemode\":\"area\",\"sizeref\":0.001,\"symbol\":\"x\"},\"mode\":\"markers\",\"name\":\"literature\",\"orientation\":\"v\",\"showlegend\":true,\"x\":[-0.5819686651229858,0.1659594029188156,11.497359275817871,10.172039031982422,0.7458158135414124,4.203602313995361,5.64659309387207,13.216584205627441,12.035022735595703,10.232989311218262,12.387561798095703,11.969076156616211,10.968257904052734,10.725844383239746,10.962759971618652,12.680723190307617,12.999995231628418,11.484199523925781,11.57866382598877,9.674626350402832,7.298251152038574,3.927382230758667,8.92989730834961,11.724465370178223],\"xaxis\":\"x\",\"y\":[-5.128138065338135,-4.899825096130371,0.6690507531166077,1.5055838823318481,-4.5475568771362305,8.993226051330566,6.74615478515625,-3.3305182456970215,-2.809812545776367,-1.4007295370101929,-0.912241518497467,-1.0838887691497803,-4.122654438018799,-4.075953006744385,-6.71860933303833,-6.049255847930908,-7.33897066116333,-7.807894706726074,-6.965699195861816,-7.289802074432373,-8.504112243652344,8.082300186157227,-3.6699554920196533,-8.867532730102539],\"yaxis\":\"y\",\"type\":\"scatter\"}],                        {\"template\":{\"data\":{\"histogram2dcontour\":[{\"type\":\"histogram2dcontour\",\"colorbar\":{\"outlinewidth\":0,\"ticks\":\"\"},\"colorscale\":[[0.0,\"#0d0887\"],[0.1111111111111111,\"#46039f\"],[0.2222222222222222,\"#7201a8\"],[0.3333333333333333,\"#9c179e\"],[0.4444444444444444,\"#bd3786\"],[0.5555555555555556,\"#d8576b\"],[0.6666666666666666,\"#ed7953\"],[0.7777777777777778,\"#fb9f3a\"],[0.8888888888888888,\"#fdca26\"],[1.0,\"#f0f921\"]]}],\"choropleth\":[{\"type\":\"choropleth\",\"colorbar\":{\"outlinewidth\":0,\"ticks\":\"\"}}],\"histogram2d\":[{\"type\":\"histogram2d\",\"colorbar\":{\"outlinewidth\":0,\"ticks\":\"\"},\"colorscale\":[[0.0,\"#0d0887\"],[0.1111111111111111,\"#46039f\"],[0.2222222222222222,\"#7201a8\"],[0.3333333333333333,\"#9c179e\"],[0.4444444444444444,\"#bd3786\"],[0.5555555555555556,\"#d8576b\"],[0.6666666666666666,\"#ed7953\"],[0.7777777777777778,\"#fb9f3a\"],[0.8888888888888888,\"#fdca26\"],[1.0,\"#f0f921\"]]}],\"heatmap\":[{\"type\":\"heatmap\",\"colorbar\":{\"outlinewidth\":0,\"ticks\":\"\"},\"colorscale\":[[0.0,\"#0d0887\"],[0.1111111111111111,\"#46039f\"],[0.2222222222222222,\"#7201a8\"],[0.3333333333333333,\"#9c179e\"],[0.4444444444444444,\"#bd3786\"],[0.5555555555555556,\"#d8576b\"],[0.6666666666666666,\"#ed7953\"],[0.7777777777777778,\"#fb9f3a\"],[0.8888888888888888,\"#fdca26\"],[1.0,\"#f0f921\"]]}],\"heatmapgl\":[{\"type\":\"heatmapgl\",\"colorbar\":{\"outlinewidth\":0,\"ticks\":\"\"},\"colorscale\":[[0.0,\"#0d0887\"],[0.1111111111111111,\"#46039f\"],[0.2222222222222222,\"#7201a8\"],[0.3333333333333333,\"#9c179e\"],[0.4444444444444444,\"#bd3786\"],[0.5555555555555556,\"#d8576b\"],[0.6666666666666666,\"#ed7953\"],[0.7777777777777778,\"#fb9f3a\"],[0.8888888888888888,\"#fdca26\"],[1.0,\"#f0f921\"]]}],\"contourcarpet\":[{\"type\":\"contourcarpet\",\"colorbar\":{\"outlinewidth\":0,\"ticks\":\"\"}}],\"contour\":[{\"type\":\"contour\",\"colorbar\":{\"outlinewidth\":0,\"ticks\":\"\"},\"colorscale\":[[0.0,\"#0d0887\"],[0.1111111111111111,\"#46039f\"],[0.2222222222222222,\"#7201a8\"],[0.3333333333333333,\"#9c179e\"],[0.4444444444444444,\"#bd3786\"],[0.5555555555555556,\"#d8576b\"],[0.6666666666666666,\"#ed7953\"],[0.7777777777777778,\"#fb9f3a\"],[0.8888888888888888,\"#fdca26\"],[1.0,\"#f0f921\"]]}],\"surface\":[{\"type\":\"surface\",\"colorbar\":{\"outlinewidth\":0,\"ticks\":\"\"},\"colorscale\":[[0.0,\"#0d0887\"],[0.1111111111111111,\"#46039f\"],[0.2222222222222222,\"#7201a8\"],[0.3333333333333333,\"#9c179e\"],[0.4444444444444444,\"#bd3786\"],[0.5555555555555556,\"#d8576b\"],[0.6666666666666666,\"#ed7953\"],[0.7777777777777778,\"#fb9f3a\"],[0.8888888888888888,\"#fdca26\"],[1.0,\"#f0f921\"]]}],\"mesh3d\":[{\"type\":\"mesh3d\",\"colorbar\":{\"outlinewidth\":0,\"ticks\":\"\"}}],\"scatter\":[{\"fillpattern\":{\"fillmode\":\"overlay\",\"size\":10,\"solidity\":0.2},\"type\":\"scatter\"}],\"parcoords\":[{\"type\":\"parcoords\",\"line\":{\"colorbar\":{\"outlinewidth\":0,\"ticks\":\"\"}}}],\"scatterpolargl\":[{\"type\":\"scatterpolargl\",\"marker\":{\"colorbar\":{\"outlinewidth\":0,\"ticks\":\"\"}}}],\"bar\":[{\"error_x\":{\"color\":\"#2a3f5f\"},\"error_y\":{\"color\":\"#2a3f5f\"},\"marker\":{\"line\":{\"color\":\"#E5ECF6\",\"width\":0.5},\"pattern\":{\"fillmode\":\"overlay\",\"size\":10,\"solidity\":0.2}},\"type\":\"bar\"}],\"scattergeo\":[{\"type\":\"scattergeo\",\"marker\":{\"colorbar\":{\"outlinewidth\":0,\"ticks\":\"\"}}}],\"scatterpolar\":[{\"type\":\"scatterpolar\",\"marker\":{\"colorbar\":{\"outlinewidth\":0,\"ticks\":\"\"}}}],\"histogram\":[{\"marker\":{\"pattern\":{\"fillmode\":\"overlay\",\"size\":10,\"solidity\":0.2}},\"type\":\"histogram\"}],\"scattergl\":[{\"type\":\"scattergl\",\"marker\":{\"colorbar\":{\"outlinewidth\":0,\"ticks\":\"\"}}}],\"scatter3d\":[{\"type\":\"scatter3d\",\"line\":{\"colorbar\":{\"outlinewidth\":0,\"ticks\":\"\"}},\"marker\":{\"colorbar\":{\"outlinewidth\":0,\"ticks\":\"\"}}}],\"scattermapbox\":[{\"type\":\"scattermapbox\",\"marker\":{\"colorbar\":{\"outlinewidth\":0,\"ticks\":\"\"}}}],\"scatterternary\":[{\"type\":\"scatterternary\",\"marker\":{\"colorbar\":{\"outlinewidth\":0,\"ticks\":\"\"}}}],\"scattercarpet\":[{\"type\":\"scattercarpet\",\"marker\":{\"colorbar\":{\"outlinewidth\":0,\"ticks\":\"\"}}}],\"carpet\":[{\"aaxis\":{\"endlinecolor\":\"#2a3f5f\",\"gridcolor\":\"white\",\"linecolor\":\"white\",\"minorgridcolor\":\"white\",\"startlinecolor\":\"#2a3f5f\"},\"baxis\":{\"endlinecolor\":\"#2a3f5f\",\"gridcolor\":\"white\",\"linecolor\":\"white\",\"minorgridcolor\":\"white\",\"startlinecolor\":\"#2a3f5f\"},\"type\":\"carpet\"}],\"table\":[{\"cells\":{\"fill\":{\"color\":\"#EBF0F8\"},\"line\":{\"color\":\"white\"}},\"header\":{\"fill\":{\"color\":\"#C8D4E3\"},\"line\":{\"color\":\"white\"}},\"type\":\"table\"}],\"barpolar\":[{\"marker\":{\"line\":{\"color\":\"#E5ECF6\",\"width\":0.5},\"pattern\":{\"fillmode\":\"overlay\",\"size\":10,\"solidity\":0.2}},\"type\":\"barpolar\"}],\"pie\":[{\"automargin\":true,\"type\":\"pie\"}]},\"layout\":{\"autotypenumbers\":\"strict\",\"colorway\":[\"#636efa\",\"#EF553B\",\"#00cc96\",\"#ab63fa\",\"#FFA15A\",\"#19d3f3\",\"#FF6692\",\"#B6E880\",\"#FF97FF\",\"#FECB52\"],\"font\":{\"color\":\"#2a3f5f\"},\"hovermode\":\"closest\",\"hoverlabel\":{\"align\":\"left\"},\"paper_bgcolor\":\"white\",\"plot_bgcolor\":\"#E5ECF6\",\"polar\":{\"bgcolor\":\"#E5ECF6\",\"angularaxis\":{\"gridcolor\":\"white\",\"linecolor\":\"white\",\"ticks\":\"\"},\"radialaxis\":{\"gridcolor\":\"white\",\"linecolor\":\"white\",\"ticks\":\"\"}},\"ternary\":{\"bgcolor\":\"#E5ECF6\",\"aaxis\":{\"gridcolor\":\"white\",\"linecolor\":\"white\",\"ticks\":\"\"},\"baxis\":{\"gridcolor\":\"white\",\"linecolor\":\"white\",\"ticks\":\"\"},\"caxis\":{\"gridcolor\":\"white\",\"linecolor\":\"white\",\"ticks\":\"\"}},\"coloraxis\":{\"colorbar\":{\"outlinewidth\":0,\"ticks\":\"\"}},\"colorscale\":{\"sequential\":[[0.0,\"#0d0887\"],[0.1111111111111111,\"#46039f\"],[0.2222222222222222,\"#7201a8\"],[0.3333333333333333,\"#9c179e\"],[0.4444444444444444,\"#bd3786\"],[0.5555555555555556,\"#d8576b\"],[0.6666666666666666,\"#ed7953\"],[0.7777777777777778,\"#fb9f3a\"],[0.8888888888888888,\"#fdca26\"],[1.0,\"#f0f921\"]],\"sequentialminus\":[[0.0,\"#0d0887\"],[0.1111111111111111,\"#46039f\"],[0.2222222222222222,\"#7201a8\"],[0.3333333333333333,\"#9c179e\"],[0.4444444444444444,\"#bd3786\"],[0.5555555555555556,\"#d8576b\"],[0.6666666666666666,\"#ed7953\"],[0.7777777777777778,\"#fb9f3a\"],[0.8888888888888888,\"#fdca26\"],[1.0,\"#f0f921\"]],\"diverging\":[[0,\"#8e0152\"],[0.1,\"#c51b7d\"],[0.2,\"#de77ae\"],[0.3,\"#f1b6da\"],[0.4,\"#fde0ef\"],[0.5,\"#f7f7f7\"],[0.6,\"#e6f5d0\"],[0.7,\"#b8e186\"],[0.8,\"#7fbc41\"],[0.9,\"#4d9221\"],[1,\"#276419\"]]},\"xaxis\":{\"gridcolor\":\"white\",\"linecolor\":\"white\",\"ticks\":\"\",\"title\":{\"standoff\":15},\"zerolinecolor\":\"white\",\"automargin\":true,\"zerolinewidth\":2},\"yaxis\":{\"gridcolor\":\"white\",\"linecolor\":\"white\",\"ticks\":\"\",\"title\":{\"standoff\":15},\"zerolinecolor\":\"white\",\"automargin\":true,\"zerolinewidth\":2},\"scene\":{\"xaxis\":{\"backgroundcolor\":\"#E5ECF6\",\"gridcolor\":\"white\",\"linecolor\":\"white\",\"showbackground\":true,\"ticks\":\"\",\"zerolinecolor\":\"white\",\"gridwidth\":2},\"yaxis\":{\"backgroundcolor\":\"#E5ECF6\",\"gridcolor\":\"white\",\"linecolor\":\"white\",\"showbackground\":true,\"ticks\":\"\",\"zerolinecolor\":\"white\",\"gridwidth\":2},\"zaxis\":{\"backgroundcolor\":\"#E5ECF6\",\"gridcolor\":\"white\",\"linecolor\":\"white\",\"showbackground\":true,\"ticks\":\"\",\"zerolinecolor\":\"white\",\"gridwidth\":2}},\"shapedefaults\":{\"line\":{\"color\":\"#2a3f5f\"}},\"annotationdefaults\":{\"arrowcolor\":\"#2a3f5f\",\"arrowhead\":0,\"arrowwidth\":1},\"geo\":{\"bgcolor\":\"white\",\"landcolor\":\"#E5ECF6\",\"subunitcolor\":\"white\",\"showland\":true,\"showlakes\":true,\"lakecolor\":\"white\"},\"title\":{\"x\":0.05},\"mapbox\":{\"style\":\"light\"}}},\"xaxis\":{\"anchor\":\"y\",\"domain\":[0.0,1.0],\"title\":{\"text\":\"tsne_1\"}},\"yaxis\":{\"anchor\":\"x\",\"domain\":[0.0,1.0],\"title\":{\"text\":\"tsne_2\"}},\"legend\":{\"title\":{\"text\":\"source\"},\"tracegroupgap\":0,\"itemsizing\":\"constant\"},\"margin\":{\"t\":60},\"height\":800,\"width\":800},                        {\"responsive\": true}                    ).then(function(){\n",
       "                            \n",
       "var gd = document.getElementById('84a8f6c6-13e4-4301-85c7-c722b0a72512');\n",
       "var x = new MutationObserver(function (mutations, observer) {{\n",
       "        var display = window.getComputedStyle(gd).display;\n",
       "        if (!display || display === 'none') {{\n",
       "            console.log([gd, 'removed!']);\n",
       "            Plotly.purge(gd);\n",
       "            observer.disconnect();\n",
       "        }}\n",
       "}});\n",
       "\n",
       "// Listen for the removal of the full notebook cells\n",
       "var notebookContainer = gd.closest('#notebook-container');\n",
       "if (notebookContainer) {{\n",
       "    x.observe(notebookContainer, {childList: true});\n",
       "}}\n",
       "\n",
       "// Listen for the clearing of the current output cell\n",
       "var outputEl = gd.closest('.output');\n",
       "if (outputEl) {{\n",
       "    x.observe(outputEl, {childList: true});\n",
       "}}\n",
       "\n",
       "                        })                };                });            </script>        </div>"
      ]
     },
     "metadata": {},
     "output_type": "display_data"
    }
   ],
   "source": [
    "px.scatter(x=\"tsne_1\", y=\"tsne_2\", data_frame=df, color=\"source\", hover_name=\"dim_name\", height=800, width=800,\n",
    "          color_discrete_sequence=px.colors.qualitative.G10, symbol=\"source\", size=[0.4]*len(df), hover_data=\"dim_desc_wrapped\")"
   ]
  },
  {
   "cell_type": "code",
   "execution_count": 106,
   "id": "9d5c3ed4-e6ac-4008-b6b4-d3bd77eca8cf",
   "metadata": {},
   "outputs": [
    {
     "data": {
      "application/vnd.plotly.v1+json": {
       "config": {
        "plotlyServerURL": "https://plot.ly"
       },
       "data": [
        {
         "customdata": [
          [
           "The requirement for<br>participants to<br>engage in abstract<br>thinking and apply<br>non-concrete<br>criteria to solve<br>problems or generate<br>outputs."
          ],
          [
           "The requirement for<br>conceptual<br>reasoning, ideation,<br>and the application<br>of abstract concepts<br>to complete a task."
          ],
          [
           "The extent to which<br>a task requires team<br>members to work<br>together, share<br>information, and<br>make decisions<br>collaboratively to<br>achieve a common<br>goal."
          ],
          [
           "The extent to which<br>a task requires<br>participants to work<br>together to analyze<br>information, discuss<br>differing opinions,<br>and reach a<br>consensus or<br>agreement."
          ],
          [
           "The presence of<br>individual goals<br>that may conflict<br>with those of other<br>team members,<br>leading to<br>competitive rather<br>than cooperative<br>interactions."
          ],
          [
           "The presence of a<br>competitive dynamic<br>within the task,<br>where individual or<br>team performance is<br>measured against<br>others."
          ],
          [
           "The nature of the<br>interaction among<br>participants,<br>whether it is<br>competitive with<br>individual goals or<br>cooperative with a<br>shared objective."
          ],
          [
           "The importance of<br>reaching an<br>agreement or unified<br>decision among team<br>members."
          ],
          [
           "The necessity for<br>team members to<br>reach an agreement<br>on a collective<br>decision or output,<br>often involving<br>negotiation and<br>synthesis of<br>different<br>viewpoints."
          ],
          [
           "The need for team<br>members to<br>negotiate, discuss,<br>and agree on a<br>collective outcome<br>that reflects the<br>group's shared<br>understanding or<br>goal."
          ],
          [
           "The requirement for<br>the task to produce<br>a creative or non-<br>standard solution,<br>often involving idea<br>generation and<br>abstract thinking."
          ],
          [
           "The need for team<br>members to engage in<br>creative thinking<br>and generate<br>multiple unique<br>solutions or ideas<br>within a set<br>framework."
          ],
          [
           "The necessity for<br>creative input, idea<br>generation, and<br>innovative thinking<br>within the task."
          ],
          [
           "The requirement for<br>participants to<br>generate new ideas<br>or solutions by<br>combining individual<br>contributions into a<br>single, cohesive<br>output."
          ],
          [
           "The presence of<br>immediate or delayed<br>feedback on team<br>decisions and<br>actions, which<br>informs and<br>influences<br>subsequent team<br>strategy."
          ],
          [
           "The task's provision<br>of immediate<br>feedback on<br>performance and the<br>requirement for<br>participants to<br>adapt their<br>strategies based on<br>that feedback."
          ],
          [
           "The extent to which<br>a task provides<br>feedback on team<br>decisions and allows<br>for iterative<br>improvement based on<br>that feedback."
          ],
          [
           "The level of<br>independence granted<br>to each team member<br>to make decisions or<br>contributions<br>without the need for<br>group consensus or<br>collaboration."
          ],
          [
           "The balance between<br>tasks that<br>prioritize<br>individual<br>performance and<br>decision-making<br>versus those that<br>emphasize collective<br>outcomes and team<br>success."
          ],
          [
           "The distribution of<br>information among<br>team members, where<br>not all participants<br>have access to the<br>same information,<br>requiring sharing<br>and integration to<br>complete the task."
          ],
          [
           "The extent to which<br>a task requires team<br>members to combine<br>different pieces of<br>information to solve<br>a problem or reach a<br>decision."
          ],
          [
           "The importance of<br>communication and<br>the exchange of<br>information among<br>team members to<br>achieve a shared<br>understanding and<br>goal."
          ],
          [
           "The extent to which<br>team members have<br>access to the same<br>information or<br>whether the task<br>involves hidden or<br>unshared information<br>that must be<br>communicated."
          ],
          [
           "The extent to which<br>a task requires the<br>analysis, synthesis,<br>and application of<br>information to make<br>decisions or produce<br>an output."
          ],
          [
           "The degree to which<br>the task has a<br>clear, measurable<br>goal or outcome that<br>can be objectively<br>evaluated for<br>success."
          ],
          [
           "The ability to<br>quantify the success<br>of the task based on<br>objective criteria<br>or a clear scoring<br>system."
          ],
          [
           "The necessity for<br>team members to<br>interact and make<br>decisions in a<br>dynamic, real-time<br>environment."
          ],
          [
           "The extent to which<br>a task involves<br>immediate, dynamic<br>interaction among<br>team members within<br>a shared<br>environment."
          ],
          [
           "The degree to which<br>a task involves<br>distinct roles or<br>responsibilities for<br>each team member,<br>with each role<br>contributing<br>specific skills or<br>knowledge to the<br>team's objective."
          ],
          [
           "The level of<br>strategic thinking,<br>planning, and<br>adaptation required<br>to achieve the<br>task's objectives<br>within a set of<br>rules or<br>constraints."
          ],
          [
           "The level of<br>planning,<br>anticipation of<br>outcomes, and<br>strategic thinking<br>required to perform<br>the task<br>successfully."
          ],
          [
           "The level of<br>strategic thinking<br>and prediction<br>required to consider<br>the actions and<br>potential reactions<br>of others, both<br>within the team and<br>with external<br>parties."
          ],
          [
           "The requirement for<br>team members to<br>analyze situations,<br>predict outcomes,<br>and develop a shared<br>strategy to achieve<br>a goal within a set<br>of rules or<br>constraints."
          ],
          [
           "The presence of a<br>fixed time limit<br>within which<br>participants must<br>complete the task,<br>adding pressure to<br>the decision-making<br>process."
          ],
          [
           "The requirement for<br>participants to<br>interact with and<br>manipulate elements<br>within a visual or<br>spatial context to<br>achieve the task's<br>objectives."
          ],
          [
           "The requirement for<br>team members to<br>navigate and<br>manipulate elements<br>within a shared<br>visual or spatial<br>environment."
          ]
         ],
         "hovertemplate": "<b>%{hovertext}</b><br><br>source=pairwise<br>pca_1=%{x}<br>pca_2=%{y}<br>size=%{marker.size}<br>dim_desc_wrapped=%{customdata[0]}<extra></extra>",
         "hovertext": [
          "Abstract Problem-Solving",
          "Abstract Thinking",
          "Collaboration Intensity",
          "Collaborative Decision-Making",
          "Competitive Dynamics",
          "Competitive Element",
          "Competitive vs. Cooperative Dynamics",
          "Consensus Building",
          "Consensus Requirement",
          "Consensus-Building",
          "Creative Output",
          "Creative Problem-Solving",
          "Creative Requirement",
          "Creative Synthesis",
          "Feedback Loop",
          "Feedback and Adaptation",
          "Feedback and Iteration",
          "Individual Autonomy",
          "Individual vs. Collective Focus",
          "Information Asymmetry",
          "Information Integration",
          "Information Sharing",
          "Information Symmetry",
          "Information Processing",
          "Objective Clarity",
          "Objective Measurement",
          "Real-Time Coordination",
          "Real-Time Interaction",
          "Role Differentiation",
          "Strategic Complexity",
          "Strategic Decision-Making",
          "Strategic Interaction",
          "Strategic Planning",
          "Time Constraint",
          "Visual-Spatial Coordination",
          "Spatial Coordination"
         ],
         "legendgroup": "pairwise",
         "marker": {
          "color": "#3366CC",
          "size": [
           0.4,
           0.4,
           0.4,
           0.4,
           0.4,
           0.4,
           0.4,
           0.4,
           0.4,
           0.4,
           0.4,
           0.4,
           0.4,
           0.4,
           0.4,
           0.4,
           0.4,
           0.4,
           0.4,
           0.4,
           0.4,
           0.4,
           0.4,
           0.4,
           0.4,
           0.4,
           0.4,
           0.4,
           0.4,
           0.4,
           0.4,
           0.4,
           0.4,
           0.4,
           0.4,
           0.4
          ],
          "sizemode": "area",
          "sizeref": 0.001,
          "symbol": "circle"
         },
         "mode": "markers",
         "name": "pairwise",
         "orientation": "v",
         "showlegend": true,
         "type": "scatter",
         "x": [
          0.0076390207585185655,
          -0.024516469805805848,
          0.1356121223029058,
          0.21118261108444175,
          0.21184593388921774,
          0.05330964441243912,
          0.18164360801904547,
          0.24753007073980077,
          0.26080347487931443,
          0.2754141864850938,
          0.0038129019753630924,
          0.13971655321070914,
          0.024435930121097762,
          0.12821920468728248,
          0.16188227127492166,
          0.03986346446213716,
          0.08318357387757651,
          0.16851136376569653,
          0.09871618517995834,
          0.2328777242920401,
          0.1616100835481508,
          0.25981426744445196,
          0.17447992853820132,
          0.020750581547660286,
          -0.07891731752453592,
          -0.1389199273028429,
          0.23040924513666428,
          0.13359743955049994,
          0.0884151894837659,
          0.015648220492861898,
          0.045806852408720726,
          0.170983035102347,
          0.20686810676360187,
          -0.0005562247173274012,
          0.07121668835094724,
          0.1773594997017744
         ],
         "xaxis": "x",
         "y": [
          0.17402914030889913,
          0.11288587801037941,
          -0.08412746957732431,
          0.030504841493875896,
          -0.029830196479182818,
          -0.09789336887112271,
          -0.02388572091424577,
          0.06299488086897706,
          0.055167338860114525,
          0.06311493314619222,
          0.17704615386322572,
          0.19107570338151714,
          0.11806280221712064,
          0.16472903704477362,
          -0.0715952685705387,
          -0.07345309032474764,
          -0.03425125317080883,
          -0.028136675369038702,
          -0.02583400487066431,
          -0.052747816015450526,
          -0.016644549374051174,
          -0.047839401937693024,
          -0.04768731003715185,
          -0.006585295827056769,
          0.02196632121275166,
          -0.04727182792047962,
          -0.10552484068663054,
          -0.1308348027309543,
          -0.07275484390584966,
          -0.018523925676907613,
          -0.010096101239480295,
          -0.05860609197658722,
          0.019423810328738276,
          -0.03017851145856542,
          -0.08105999042134794,
          -0.09536287862070432
         ],
         "yaxis": "y"
        },
        {
         "customdata": [
          [
           "The level of<br>difficulty involved<br>in completing the<br>task, which can<br>range from simple<br>(e.g., recalling<br>words) to complex<br>(e.g., negotiating a<br>business deal)."
          ],
          [
           "Whether the task<br>requires<br>participants to work<br>alone or in a team,<br>and the degree to<br>which teamwork and<br>communication are<br>necessary for<br>success."
          ],
          [
           "The extent to which<br>the task requires<br>novel thinking,<br>imagination, or<br>innovation, as<br>opposed to tasks<br>that have clear-cut<br>solutions or rely on<br>memory."
          ],
          [
           "The level of<br>strategic planning<br>and foresight needed<br>to perform well in<br>the task."
          ],
          [
           "The degree to which<br>a task is<br>constrained by time,<br>requiring quick<br>thinking and<br>decision-making."
          ],
          [
           "The amount of mental<br>effort and working<br>memory usage<br>required to perform<br>the task, which can<br>affect performance,<br>especially under<br>time constraints."
          ],
          [
           "The extent to which<br>participants have<br>access to different<br>levels of<br>information, which<br>can influence<br>strategies and<br>outcomes in tasks<br>such as negotiations<br>or games."
          ],
          [
           "The degree to which<br>the task involves<br>numerical<br>computation, logical<br>reasoning, and<br>problem-solving<br>skills."
          ],
          [
           "The level of risk<br>involved in<br>decision-making and<br>the uncertainty of<br>outcomes, which can<br>be influenced by<br>unknown variables or<br>the actions of<br>others."
          ],
          [
           "Whether and how<br>participants receive<br>feedback on their<br>performance, which<br>can be immediate or<br>delayed, and how<br>they can learn and<br>adapt their<br>strategies over<br>time."
          ],
          [
           "The presence and<br>immediacy of<br>feedback given to<br>participants, which<br>can influence<br>learning and<br>strategy. This can<br>be operationalized<br>by whether<br>participants receive<br>immediate, delayed,<br>or no feedback on<br>their performance."
          ],
          [
           "The manner in which<br>task performance is<br>assessed, ranging<br>from objective<br>measures (e.g., a<br>correct answer) to<br>subjective<br>evaluations (e.g.,<br>creativity or<br>negotiation skills)."
          ],
          [
           "The extent to which<br>the task is<br>constrained by the<br>availability of<br>resources, which can<br>be operationalized<br>by the quantity and<br>type of resources<br>provided to complete<br>the task."
          ],
          [
           "The level of<br>physical or manual<br>dexterity required<br>by the task, which<br>can be<br>operationalized by<br>the need for precise<br>movements or<br>coordination in a<br>physical or virtual<br>space."
          ],
          [
           "Whether the task has<br>a single correct<br>answer or multiple<br>possible correct<br>answers,<br>operationalized by<br>the number of<br>acceptable solutions<br>or the range of<br>scores reflecting<br>the quality of the<br>solutions."
          ],
          [
           "The degree to which<br>the task requires or<br>benefits from<br>specialized<br>knowledge or skills,<br>operationalized by<br>comparing<br>participants'<br>solutions to those<br>of subject matter<br>experts."
          ],
          [
           "The degree to which<br>all necessary<br>information is<br>readily available to<br>participants or if<br>some information is<br>hidden or must be<br>discovered."
          ],
          [
           "The type of skills<br>predominantly<br>required by the<br>task, ranging from<br>physical/manual<br>dexterity to<br>cognitive/mental<br>abilities. This can<br>be operationalized<br>by identifying the<br>primary type of<br>skill needed for<br>task completion."
          ],
          [
           "The reliance on<br>recall ability to<br>complete the task."
          ],
          [
           "The need to identify<br>and understand<br>patterns, trends, or<br>regularities in<br>data."
          ],
          [
           "The requirement to<br>discuss and reach an<br>agreement in a<br>collaborative or<br>competitive context."
          ],
          [
           "The extent to which<br>the task relies on<br>pre-existing<br>knowledge or<br>information, such as<br>familiarity with<br>words or knowledge<br>of city populations."
          ],
          [
           "The extent to which<br>the task involves<br>moral or ethical<br>decision-making,<br>which can influence<br>the choices made by<br>participants beyond<br>purely rational<br>self-interest."
          ],
          [
           "The need for visual<br>or auditory<br>discrimination to<br>complete the task.<br>This can be<br>operationalized by<br>tasks that require<br>distinguishing<br>between patterns,<br>sounds, or visual<br>stimuli."
          ]
         ],
         "hovertemplate": "<b>%{hovertext}</b><br><br>source=taskbased<br>pca_1=%{x}<br>pca_2=%{y}<br>size=%{marker.size}<br>dim_desc_wrapped=%{customdata[0]}<extra></extra>",
         "hovertext": [
          "Complexity",
          "Collaboration",
          "Creativity",
          "Strategy",
          "Time Pressure",
          "Cognitive Load",
          "Information Asymmetry",
          "Quantitative Reasoning",
          "Risk and Uncertainty",
          "Learning and Adaptation",
          "Feedback",
          "Objective vs. Subjective Evaluation",
          "Resource Limitation",
          "Physical Coordination",
          "Convergence-Divergence",
          "Expertise Alignment",
          "Information Availability",
          "Physical vs. Cognitive Skills",
          "Memory",
          "Pattern Recognition",
          "Negotiation",
          "Knowledge Dependency",
          "Moral/Ethical Consideration",
          "Perceptual Skills"
         ],
         "legendgroup": "taskbased",
         "marker": {
          "color": "#DC3912",
          "size": [
           0.4,
           0.4,
           0.4,
           0.4,
           0.4,
           0.4,
           0.4,
           0.4,
           0.4,
           0.4,
           0.4,
           0.4,
           0.4,
           0.4,
           0.4,
           0.4,
           0.4,
           0.4,
           0.4,
           0.4,
           0.4,
           0.4,
           0.4,
           0.4
          ],
          "sizemode": "area",
          "sizeref": 0.001,
          "symbol": "diamond"
         },
         "mode": "markers",
         "name": "taskbased",
         "orientation": "v",
         "showlegend": true,
         "type": "scatter",
         "x": [
          -0.06420894244829146,
          0.1453121610928963,
          -0.06523195193130256,
          0.03831864540356236,
          -0.03376402185305522,
          -0.13722472522674256,
          0.15991643930634383,
          -0.1051942047077725,
          0.05889224553201036,
          0.04781288461405984,
          0.04639445024364735,
          -0.08206345014107641,
          -0.056356961115643214,
          0.029148638119754863,
          -0.03440219729726192,
          0.053230301526113986,
          0.053058364163254726,
          -0.1049344080866883,
          -0.1072739543799982,
          0.008394271621572092,
          0.2125683987341205,
          -0.033735856214415716,
          0.02966753659475536,
          -0.03324061789106369
         ],
         "xaxis": "x",
         "y": [
          -0.03785422599961634,
          -0.018914333478597327,
          0.08968345096381952,
          -0.020707170238093184,
          -0.06821084437253053,
          -0.0978830827436347,
          -0.044836705975775236,
          -0.004301002048350887,
          -0.05538188094648935,
          -0.07915735825617128,
          -0.10155717861378312,
          -0.0034810537537259207,
          -0.08079095876113032,
          -0.16866615321173067,
          0.0936943864348132,
          0.010232211353856392,
          -0.07169811802246615,
          -0.0998192262265988,
          -0.015421191776612822,
          0.03391870287749888,
          0.04242765292370396,
          -0.021091451357193862,
          0.023935392503566175,
          -0.013096515584896344
         ],
         "yaxis": "y"
        },
        {
         "customdata": [
          [
           "Number of distinct<br>steps or components<br>required to complete<br>the task"
          ],
          [
           "Scale from 1 (low)<br>to 5 (high)<br>indicating the<br>degree to which team<br>members' tasks are<br>interconnected"
          ],
          [
           "Count of different<br>specialized skills<br>needed to perform<br>the task effectively"
          ],
          [
           "Scale from 1 (low)<br>to 5 (high)<br>representing the<br>predictability of<br>task outcomes"
          ],
          [
           "Time given to<br>complete the task<br>measured in minutes<br>or hours"
          ],
          [
           "Scale from 1<br>(familiar) to 5<br>(novel) indicating<br>how common or new<br>the task is to the<br>team members"
          ],
          [
           "Amount of<br>information (in<br>bytes or number of<br>items) that must be<br>processed to<br>complete the task"
          ],
          [
           "Scale from 1<br>(ambiguous) to 5<br>(clear) indicating<br>how well-defined the<br>task goals are"
          ],
          [
           "Scale from 1 (low)<br>to 5 (high)<br>indicating the level<br>of physical effort<br>required"
          ],
          [
           "Number of<br>coordination points<br>where team members<br>must synchronize<br>their actions"
          ],
          [
           "Number of different<br>specialized skills<br>or knowledge areas<br>required to perform<br>the task"
          ],
          [
           "Ratio of the amount<br>of information<br>available to the<br>team to the amount<br>of information<br>required to complete<br>the task, with a<br>value of 1<br>indicating perfect<br>information<br>availability"
          ],
          [
           "Scale from 1<br>(routine task) to 5<br>(high problem-<br>solving demand),<br>reflecting the level<br>of novel thinking<br>required."
          ],
          [
           "Scale from 1 (no<br>creativity needed)<br>to 5 (high<br>creativity<br>required), gauging<br>the need for<br>original ideas and<br>solutions."
          ],
          [
           "Measured by the<br>average time it<br>takes for a new team<br>member to perform<br>the task at a<br>proficiency level of<br>90% of an<br>experienced member."
          ],
          [
           "Measured by the<br>average time between<br>action and receiving<br>feedback on<br>performance,<br>indicating the<br>immediacy and<br>frequency of<br>feedback."
          ],
          [
           "Measured by the<br>percentage of time<br>all necessary<br>resources are<br>available during<br>task performance."
          ],
          [
           "Scale from 1 (low<br>stress) to 5 (high<br>stress), based on<br>physiological<br>measures such as<br>heart rate or self-<br>reported stress<br>levels."
          ],
          [
           "Number of<br>coordination actions<br>(e.g.,<br>communications,<br>synchronizations)<br>required per unit of<br>time"
          ],
          [
           "Rating on a scale<br>from 1 (minimal<br>cognitive effort) to<br>5 (extreme cognitive<br>effort) based on the<br>mental intensity of<br>the task"
          ],
          [
           "Number of novel<br>solutions or<br>approaches required<br>to successfully<br>complete the task"
          ],
          [
           "The length of time<br>required to complete<br>the task, 'measure':<br>'Time in Minutes:<br>The average time<br>taken to complete<br>the task, measured<br>in minutes"
          ],
          [
           "The degree to which<br>the task is new or<br>unfamiliar to the<br>team, 'measure':<br>Novelty Rating: A<br>score from 1<br>(familiar) to 5<br>(novel) based on<br>team members' self-<br>reported familiarity<br>with the task."
          ],
          [
           "The mental effort<br>required to perform<br>the task, 'measure':<br>'Cognitive Load<br>Scale: A score from<br>1 (low) to 5 (high)<br>based on subjective<br>assessment of mental<br>effort required,<br>using standardized<br>cognitive load<br>measurement<br>instruments"
          ],
          [
           "The range of skills<br>and abilities<br>required to perform<br>the task, 'measure':<br>'Skill Diversity<br>Index: The number of<br>distinct skills and<br>abilities required<br>to perform the task<br>effectively"
          ],
          [
           "A numerical score<br>based on the number<br>of distinct<br>cognitive processes<br>required (e.g.,<br>memory recall,<br>logical reasoning,<br>decision-making),<br>the number of<br>decision points, and<br>the level of<br>abstraction involved<br>in the task"
          ],
          [
           "A scale from 0 to 1<br>where 0 represents<br>completely<br>independent tasks<br>and 1 represents<br>tasks that cannot be<br>completed without<br>constant team<br>interaction,<br>measured by the<br>frequency and<br>necessity of<br>communication among<br>team members"
          ],
          [
           "A measure of the<br>task's time<br>sensitivity,<br>quantified by the<br>ratio of the time<br>spent on active task<br>engagement to the<br>total time allotted<br>for task completion."
          ],
          [
           "A score derived from<br>the necessity for<br>creative problem-<br>solving and<br>generation of novel<br>ideas, rated by<br>experts in the field<br>on a scale from 1<br>(no innovation<br>needed) to 10<br>(highly innovative)"
          ],
          [
           "A metric based on<br>the number and<br>complexity of<br>physical actions<br>required by the<br>team, the precision<br>needed, and the<br>degree of<br>synchronization,<br>measured on a scale<br>from 1 (minimal<br>coordination) to 10<br>(extensive<br>coordination)"
          ],
          [
           "A variability index<br>calculated by the<br>number of external<br>variables that can<br>affect task<br>performance (e.g.,<br>changing tools,<br>shifting<br>workspaces), with<br>higher scores<br>indicating greater<br>variability"
          ],
          [
           "A constraint score<br>based on the<br>scarcity of<br>resources (e.g.,<br>time, information,<br>tools, personnel)<br>necessary for task<br>completion, with<br>higher scores<br>indicating tighter<br>constraints"
          ],
          [
           "A measurability<br>score based on the<br>clarity and<br>objectivity of the<br>outcome assessment<br>criteria, ranging<br>from 1 (subjective<br>or unclear criteria)<br>to 10 (objective and<br>clear criteria)"
          ]
         ],
         "hovertemplate": "<b>%{hovertext}</b><br><br>source=directask<br>pca_1=%{x}<br>pca_2=%{y}<br>size=%{marker.size}<br>dim_desc_wrapped=%{customdata[0]}<extra></extra>",
         "hovertext": [
          "Complexity",
          "Interdependence",
          "Diversity of Skills Required",
          "Uncertainty",
          "Time Pressure",
          "Task Novelty",
          "Information Load",
          "Goal Clarity",
          "Physical Demand",
          "Coordination Requirement",
          "Diversity of Skills",
          "Information Availability",
          "Problem-Solving Demand",
          "Creativity Requirement",
          "Learning Curve",
          "Feedback Loop",
          "Resource Availability",
          "Stress Level",
          "Coordination Demand",
          "Cognitive Demand",
          "Innovativeness",
          "Duration",
          "Novelty",
          "Cognitive Load",
          "Skill Variety",
          "Cognitive Complexity",
          "Interdependence Level",
          "Temporal Dynamics",
          "Innovation Requirement",
          "Physical Coordination",
          "Environmental Variability",
          "Resource Constraints",
          "Outcome Measurability"
         ],
         "legendgroup": "directask",
         "marker": {
          "color": "#FF9900",
          "size": [
           0.4,
           0.4,
           0.4,
           0.4,
           0.4,
           0.4,
           0.4,
           0.4,
           0.4,
           0.4,
           0.4,
           0.4,
           0.4,
           0.4,
           0.4,
           0.4,
           0.4,
           0.4,
           0.4,
           0.4,
           0.4,
           0.4,
           0.4,
           0.4,
           0.4,
           0.4,
           0.4,
           0.4,
           0.4,
           0.4,
           0.4,
           0.4,
           0.4
          ],
          "sizemode": "area",
          "sizeref": 0.001,
          "symbol": "square"
         },
         "mode": "markers",
         "name": "directask",
         "orientation": "v",
         "showlegend": true,
         "type": "scatter",
         "x": [
          -0.10560112848109467,
          0.02153228396857638,
          -0.03566653903294198,
          -0.14115307520608344,
          -0.1081032827699033,
          -0.08227980022535052,
          -0.12950634117548213,
          -0.11795414809143143,
          -0.2160496986981607,
          0.13789870966713805,
          -0.020119928151429232,
          -0.007999240330061332,
          -0.1379705397804838,
          -0.11838907030266832,
          -0.07939943120704285,
          -0.039547376043047734,
          -0.10919256646452755,
          -0.1936517395449354,
          0.051567761419973566,
          -0.22311454603579806,
          -0.07780778019338039,
          -0.15975062372825413,
          -0.13078043618361332,
          -0.2451093439900719,
          -0.06789025181308804,
          -0.15372575665406604,
          0.04113115233163504,
          -0.06911565336526627,
          -0.11046583713526646,
          -0.011010423036785075,
          -0.10259716984718417,
          -0.07987570141407851,
          -0.16834073781747666
         ],
         "xaxis": "x",
         "y": [
          0.026779321288532935,
          -0.14073727121935867,
          -0.06927190428737284,
          -0.06177798358158739,
          -0.08372815036467367,
          -0.0025997792514294267,
          -0.11718736900910047,
          0.012574237780901863,
          -0.1625966584285156,
          -0.09153726894359558,
          -0.060564124268759074,
          -0.10278842428349222,
          0.07896747613474213,
          0.09391940785679342,
          -0.10743537117826474,
          -0.1642001022754892,
          -0.16204897832808304,
          -0.16472540876599528,
          -0.1559685611163196,
          -0.0896039191546763,
          0.1079959856141928,
          -0.1249185237467776,
          -0.03284882139250125,
          -0.12750424831239549,
          -0.1170469235032574,
          -0.047193915105288274,
          -0.15154449949019555,
          -0.1691057648503552,
          0.0647047587224039,
          -0.19344639984496131,
          -0.12879642791124601,
          -0.10006808550122108,
          -0.027912268344785378
         ],
         "yaxis": "y"
        },
        {
         "customdata": [
          [
           "Does this task<br>primarily require<br>physical effort, as<br>opposed to primarily<br>requiring mental<br>effort?"
          ],
          [
           "What is the fraction<br>of physical (as<br>opposed to mental)<br>effort required for<br>the task?"
          ],
          [
           "Is this a \"planning\"<br>task? In other<br>words, is one of the<br>main purpose(s) of<br>this task to produce<br>a sequence of<br>concrete steps or<br>actions that an<br>individual can<br>follow to achieve<br>some goal?"
          ],
          [
           "Is this a<br>\"generation\" or<br>\"brainstorming\"<br>task? In other<br>words, is one of the<br>main purpose(s) of<br>this task to produce<br>a number of ideas or<br>examples, without<br>any particular<br>action associated<br>with them?"
          ],
          [
           "What fraction of the<br>effort required for<br>this task is<br>creative thinking<br>(as opposed to any<br>other type of<br>effort, whether<br>physical, logical,<br>etc.)?"
          ],
          [
           "Is one of the main<br>purpose(s) of this<br>task to resolve<br>people's differences<br>in opinion,<br>perspective, or<br>viewpoint?"
          ],
          [
           "During this task,<br>group members pursue<br>different interests,<br>objectives, or<br>goals."
          ],
          [
           "Can the outcome of<br>this task be<br>described in<br>win/lose terms?"
          ],
          [
           "Does the task have<br>an all-or-nothing<br>outcome? In other<br>words, is it<br>sufficient to just<br>meet a particular<br>standard?"
          ],
          [
           "Is it efficient and<br>useful for members<br>of the group to work<br>on discrete parts<br>(or subtasks) of<br>this activity?"
          ],
          [
           "Is the goal (or one<br>of the goals) of<br>this task to try to<br>achieve doing<br>something as much as<br>possible, as many as<br>possible, or as<br>quickly as possible?"
          ],
          [
           "Is the goal (or one<br>of the goals) of<br>this task to try to<br>achieve a precise<br>outcome?"
          ],
          [
           "Is there only one<br>\"best\" solution (or<br>possible solution)<br>to this task?"
          ],
          [
           "Is there only one<br>method for achieving<br>the task, as opposed<br>to many alternatives<br>for task completion?"
          ],
          [
           "Can acceptable<br>solutions to this<br>task be demonstrated<br>or verified to be<br>correct (e.g., by an<br>expert or third-<br>party)?"
          ],
          [
           "Can this task be<br>written as a \"formal<br>model\" that an<br>algorithm could<br>solve?"
          ],
          [
           "Is there enough<br>information in the<br>problem to find a<br>valid solution?"
          ],
          [
           "If someone who is<br>able to solve the<br>problem explains<br>their answer, would<br>others recognize it<br>as correct without<br>contest?"
          ],
          [
           "Is a participant<br>able to come up with<br>a provably correct<br>solution, assuming<br>sufficient ability,<br>time, motivation,<br>and resources?"
          ],
          [
           "Is there an<br>objectively correct<br>solution to this<br>task that can be<br>calculated or<br>selected?"
          ],
          [
           "On a scale of 0<br>(entirely<br>subjective, with no<br>correct answer; a<br>judgmental task) to<br>1 (entirely<br>objective and<br>demonstrable by pure<br>logic; an<br>intellective task),<br>how would you<br>classify the extent<br>of demonstrable<br>correctness of this<br>task?"
          ],
          [
           "Does completing this<br>task require<br>participants to<br>evaluate tradeoffs<br>--- conflicting<br>possible solutions<br>or conflicting<br>pieces of<br>information?"
          ],
          [
           "When doing this<br>task, will the<br>participants have<br>any uncertainty<br>about whether their<br>method or solution<br>will lead to the<br>desired outcome?"
          ],
          [
           "Is the solution to<br>the question obvious<br>as soon as it is<br>proposed --- for<br>example, once people<br>see the \"trick,\"<br>they know how to<br>solve it?"
          ]
         ],
         "hovertemplate": "<b>%{hovertext}</b><br><br>source=literature<br>pca_1=%{x}<br>pca_2=%{y}<br>size=%{marker.size}<br>dim_desc_wrapped=%{customdata[0]}<extra></extra>",
         "hovertext": [
          "Conceptual-Behavioral",
          "Intellectual-Manipulative",
          "Type 1 (Planning)",
          "Type 2 (Generate)",
          "Creativity Input",
          "Type 5 (Cognitive Conflict)",
          "Type 6 (Mixed-Motive)",
          "Type 7 (Battle)",
          "Type 8 (Performance)",
          "Divisible-Unitary",
          "Maximizing",
          "Optimizing",
          "Outcome Multiplicity",
          "Solution Scheme Multiplicity",
          "Decision Verifiability",
          "Shared Knowledge",
          "Within-System Solution",
          "Answer Recognizability",
          "Time Solvability",
          "Type 3 and Type 4 (Objective Correctness)",
          "Intellective-Judgmental",
          "Conflicting Tradeoffs",
          "Solution Scheme Outcome Uncertainty",
          "Eureka Question"
         ],
         "legendgroup": "literature",
         "marker": {
          "color": "#109618",
          "size": [
           0.4,
           0.4,
           0.4,
           0.4,
           0.4,
           0.4,
           0.4,
           0.4,
           0.4,
           0.4,
           0.4,
           0.4,
           0.4,
           0.4,
           0.4,
           0.4,
           0.4,
           0.4,
           0.4,
           0.4,
           0.4,
           0.4,
           0.4,
           0.4
          ],
          "sizemode": "area",
          "sizeref": 0.001,
          "symbol": "x"
         },
         "mode": "markers",
         "name": "literature",
         "orientation": "v",
         "showlegend": true,
         "type": "scatter",
         "x": [
          -0.1661004833834816,
          -0.15376729389400626,
          -0.0018103065255919706,
          -0.01410136609538582,
          -0.11756035957447715,
          0.06604131964970311,
          0.09017234848059431,
          -0.04782210805843366,
          -0.12186648380184571,
          -0.006562307399675743,
          -0.04320142930234254,
          -0.0505133960273091,
          -0.06293228431853434,
          -0.05440953488401705,
          -0.019617815869685692,
          -0.049910193860899434,
          -0.019457152431434886,
          -0.034868297643670866,
          -0.04281311121938475,
          -0.1305125205777835,
          -0.18606620620537803,
          0.03488152316959668,
          0.01726465260238648,
          -0.09976102329276819
         ],
         "xaxis": "x",
         "y": [
          0.035170340675232545,
          -0.013922109428006785,
          0.12272298912735717,
          0.24885590921784057,
          0.09399807856489728,
          0.16351282646278095,
          0.05654520134126707,
          0.10837611548387627,
          0.07693886041486495,
          0.094637270526257,
          0.08982429794671937,
          0.1347663396822127,
          0.20523176508681235,
          0.20506619440060594,
          0.16217582077964732,
          0.18410930392226738,
          0.18964741664288598,
          0.2134890234808767,
          0.14952889238173375,
          0.2111936701710398,
          0.07464066049552434,
          0.12085917162759831,
          0.16003575651410565,
          0.2935132190938919
         ],
         "yaxis": "y"
        }
       ],
       "layout": {
        "height": 800,
        "legend": {
         "itemsizing": "constant",
         "title": {
          "text": "source"
         },
         "tracegroupgap": 0
        },
        "margin": {
         "t": 60
        },
        "template": {
         "data": {
          "bar": [
           {
            "error_x": {
             "color": "#2a3f5f"
            },
            "error_y": {
             "color": "#2a3f5f"
            },
            "marker": {
             "line": {
              "color": "#E5ECF6",
              "width": 0.5
             },
             "pattern": {
              "fillmode": "overlay",
              "size": 10,
              "solidity": 0.2
             }
            },
            "type": "bar"
           }
          ],
          "barpolar": [
           {
            "marker": {
             "line": {
              "color": "#E5ECF6",
              "width": 0.5
             },
             "pattern": {
              "fillmode": "overlay",
              "size": 10,
              "solidity": 0.2
             }
            },
            "type": "barpolar"
           }
          ],
          "carpet": [
           {
            "aaxis": {
             "endlinecolor": "#2a3f5f",
             "gridcolor": "white",
             "linecolor": "white",
             "minorgridcolor": "white",
             "startlinecolor": "#2a3f5f"
            },
            "baxis": {
             "endlinecolor": "#2a3f5f",
             "gridcolor": "white",
             "linecolor": "white",
             "minorgridcolor": "white",
             "startlinecolor": "#2a3f5f"
            },
            "type": "carpet"
           }
          ],
          "choropleth": [
           {
            "colorbar": {
             "outlinewidth": 0,
             "ticks": ""
            },
            "type": "choropleth"
           }
          ],
          "contour": [
           {
            "colorbar": {
             "outlinewidth": 0,
             "ticks": ""
            },
            "colorscale": [
             [
              0,
              "#0d0887"
             ],
             [
              0.1111111111111111,
              "#46039f"
             ],
             [
              0.2222222222222222,
              "#7201a8"
             ],
             [
              0.3333333333333333,
              "#9c179e"
             ],
             [
              0.4444444444444444,
              "#bd3786"
             ],
             [
              0.5555555555555556,
              "#d8576b"
             ],
             [
              0.6666666666666666,
              "#ed7953"
             ],
             [
              0.7777777777777778,
              "#fb9f3a"
             ],
             [
              0.8888888888888888,
              "#fdca26"
             ],
             [
              1,
              "#f0f921"
             ]
            ],
            "type": "contour"
           }
          ],
          "contourcarpet": [
           {
            "colorbar": {
             "outlinewidth": 0,
             "ticks": ""
            },
            "type": "contourcarpet"
           }
          ],
          "heatmap": [
           {
            "colorbar": {
             "outlinewidth": 0,
             "ticks": ""
            },
            "colorscale": [
             [
              0,
              "#0d0887"
             ],
             [
              0.1111111111111111,
              "#46039f"
             ],
             [
              0.2222222222222222,
              "#7201a8"
             ],
             [
              0.3333333333333333,
              "#9c179e"
             ],
             [
              0.4444444444444444,
              "#bd3786"
             ],
             [
              0.5555555555555556,
              "#d8576b"
             ],
             [
              0.6666666666666666,
              "#ed7953"
             ],
             [
              0.7777777777777778,
              "#fb9f3a"
             ],
             [
              0.8888888888888888,
              "#fdca26"
             ],
             [
              1,
              "#f0f921"
             ]
            ],
            "type": "heatmap"
           }
          ],
          "heatmapgl": [
           {
            "colorbar": {
             "outlinewidth": 0,
             "ticks": ""
            },
            "colorscale": [
             [
              0,
              "#0d0887"
             ],
             [
              0.1111111111111111,
              "#46039f"
             ],
             [
              0.2222222222222222,
              "#7201a8"
             ],
             [
              0.3333333333333333,
              "#9c179e"
             ],
             [
              0.4444444444444444,
              "#bd3786"
             ],
             [
              0.5555555555555556,
              "#d8576b"
             ],
             [
              0.6666666666666666,
              "#ed7953"
             ],
             [
              0.7777777777777778,
              "#fb9f3a"
             ],
             [
              0.8888888888888888,
              "#fdca26"
             ],
             [
              1,
              "#f0f921"
             ]
            ],
            "type": "heatmapgl"
           }
          ],
          "histogram": [
           {
            "marker": {
             "pattern": {
              "fillmode": "overlay",
              "size": 10,
              "solidity": 0.2
             }
            },
            "type": "histogram"
           }
          ],
          "histogram2d": [
           {
            "colorbar": {
             "outlinewidth": 0,
             "ticks": ""
            },
            "colorscale": [
             [
              0,
              "#0d0887"
             ],
             [
              0.1111111111111111,
              "#46039f"
             ],
             [
              0.2222222222222222,
              "#7201a8"
             ],
             [
              0.3333333333333333,
              "#9c179e"
             ],
             [
              0.4444444444444444,
              "#bd3786"
             ],
             [
              0.5555555555555556,
              "#d8576b"
             ],
             [
              0.6666666666666666,
              "#ed7953"
             ],
             [
              0.7777777777777778,
              "#fb9f3a"
             ],
             [
              0.8888888888888888,
              "#fdca26"
             ],
             [
              1,
              "#f0f921"
             ]
            ],
            "type": "histogram2d"
           }
          ],
          "histogram2dcontour": [
           {
            "colorbar": {
             "outlinewidth": 0,
             "ticks": ""
            },
            "colorscale": [
             [
              0,
              "#0d0887"
             ],
             [
              0.1111111111111111,
              "#46039f"
             ],
             [
              0.2222222222222222,
              "#7201a8"
             ],
             [
              0.3333333333333333,
              "#9c179e"
             ],
             [
              0.4444444444444444,
              "#bd3786"
             ],
             [
              0.5555555555555556,
              "#d8576b"
             ],
             [
              0.6666666666666666,
              "#ed7953"
             ],
             [
              0.7777777777777778,
              "#fb9f3a"
             ],
             [
              0.8888888888888888,
              "#fdca26"
             ],
             [
              1,
              "#f0f921"
             ]
            ],
            "type": "histogram2dcontour"
           }
          ],
          "mesh3d": [
           {
            "colorbar": {
             "outlinewidth": 0,
             "ticks": ""
            },
            "type": "mesh3d"
           }
          ],
          "parcoords": [
           {
            "line": {
             "colorbar": {
              "outlinewidth": 0,
              "ticks": ""
             }
            },
            "type": "parcoords"
           }
          ],
          "pie": [
           {
            "automargin": true,
            "type": "pie"
           }
          ],
          "scatter": [
           {
            "fillpattern": {
             "fillmode": "overlay",
             "size": 10,
             "solidity": 0.2
            },
            "type": "scatter"
           }
          ],
          "scatter3d": [
           {
            "line": {
             "colorbar": {
              "outlinewidth": 0,
              "ticks": ""
             }
            },
            "marker": {
             "colorbar": {
              "outlinewidth": 0,
              "ticks": ""
             }
            },
            "type": "scatter3d"
           }
          ],
          "scattercarpet": [
           {
            "marker": {
             "colorbar": {
              "outlinewidth": 0,
              "ticks": ""
             }
            },
            "type": "scattercarpet"
           }
          ],
          "scattergeo": [
           {
            "marker": {
             "colorbar": {
              "outlinewidth": 0,
              "ticks": ""
             }
            },
            "type": "scattergeo"
           }
          ],
          "scattergl": [
           {
            "marker": {
             "colorbar": {
              "outlinewidth": 0,
              "ticks": ""
             }
            },
            "type": "scattergl"
           }
          ],
          "scattermapbox": [
           {
            "marker": {
             "colorbar": {
              "outlinewidth": 0,
              "ticks": ""
             }
            },
            "type": "scattermapbox"
           }
          ],
          "scatterpolar": [
           {
            "marker": {
             "colorbar": {
              "outlinewidth": 0,
              "ticks": ""
             }
            },
            "type": "scatterpolar"
           }
          ],
          "scatterpolargl": [
           {
            "marker": {
             "colorbar": {
              "outlinewidth": 0,
              "ticks": ""
             }
            },
            "type": "scatterpolargl"
           }
          ],
          "scatterternary": [
           {
            "marker": {
             "colorbar": {
              "outlinewidth": 0,
              "ticks": ""
             }
            },
            "type": "scatterternary"
           }
          ],
          "surface": [
           {
            "colorbar": {
             "outlinewidth": 0,
             "ticks": ""
            },
            "colorscale": [
             [
              0,
              "#0d0887"
             ],
             [
              0.1111111111111111,
              "#46039f"
             ],
             [
              0.2222222222222222,
              "#7201a8"
             ],
             [
              0.3333333333333333,
              "#9c179e"
             ],
             [
              0.4444444444444444,
              "#bd3786"
             ],
             [
              0.5555555555555556,
              "#d8576b"
             ],
             [
              0.6666666666666666,
              "#ed7953"
             ],
             [
              0.7777777777777778,
              "#fb9f3a"
             ],
             [
              0.8888888888888888,
              "#fdca26"
             ],
             [
              1,
              "#f0f921"
             ]
            ],
            "type": "surface"
           }
          ],
          "table": [
           {
            "cells": {
             "fill": {
              "color": "#EBF0F8"
             },
             "line": {
              "color": "white"
             }
            },
            "header": {
             "fill": {
              "color": "#C8D4E3"
             },
             "line": {
              "color": "white"
             }
            },
            "type": "table"
           }
          ]
         },
         "layout": {
          "annotationdefaults": {
           "arrowcolor": "#2a3f5f",
           "arrowhead": 0,
           "arrowwidth": 1
          },
          "autotypenumbers": "strict",
          "coloraxis": {
           "colorbar": {
            "outlinewidth": 0,
            "ticks": ""
           }
          },
          "colorscale": {
           "diverging": [
            [
             0,
             "#8e0152"
            ],
            [
             0.1,
             "#c51b7d"
            ],
            [
             0.2,
             "#de77ae"
            ],
            [
             0.3,
             "#f1b6da"
            ],
            [
             0.4,
             "#fde0ef"
            ],
            [
             0.5,
             "#f7f7f7"
            ],
            [
             0.6,
             "#e6f5d0"
            ],
            [
             0.7,
             "#b8e186"
            ],
            [
             0.8,
             "#7fbc41"
            ],
            [
             0.9,
             "#4d9221"
            ],
            [
             1,
             "#276419"
            ]
           ],
           "sequential": [
            [
             0,
             "#0d0887"
            ],
            [
             0.1111111111111111,
             "#46039f"
            ],
            [
             0.2222222222222222,
             "#7201a8"
            ],
            [
             0.3333333333333333,
             "#9c179e"
            ],
            [
             0.4444444444444444,
             "#bd3786"
            ],
            [
             0.5555555555555556,
             "#d8576b"
            ],
            [
             0.6666666666666666,
             "#ed7953"
            ],
            [
             0.7777777777777778,
             "#fb9f3a"
            ],
            [
             0.8888888888888888,
             "#fdca26"
            ],
            [
             1,
             "#f0f921"
            ]
           ],
           "sequentialminus": [
            [
             0,
             "#0d0887"
            ],
            [
             0.1111111111111111,
             "#46039f"
            ],
            [
             0.2222222222222222,
             "#7201a8"
            ],
            [
             0.3333333333333333,
             "#9c179e"
            ],
            [
             0.4444444444444444,
             "#bd3786"
            ],
            [
             0.5555555555555556,
             "#d8576b"
            ],
            [
             0.6666666666666666,
             "#ed7953"
            ],
            [
             0.7777777777777778,
             "#fb9f3a"
            ],
            [
             0.8888888888888888,
             "#fdca26"
            ],
            [
             1,
             "#f0f921"
            ]
           ]
          },
          "colorway": [
           "#636efa",
           "#EF553B",
           "#00cc96",
           "#ab63fa",
           "#FFA15A",
           "#19d3f3",
           "#FF6692",
           "#B6E880",
           "#FF97FF",
           "#FECB52"
          ],
          "font": {
           "color": "#2a3f5f"
          },
          "geo": {
           "bgcolor": "white",
           "lakecolor": "white",
           "landcolor": "#E5ECF6",
           "showlakes": true,
           "showland": true,
           "subunitcolor": "white"
          },
          "hoverlabel": {
           "align": "left"
          },
          "hovermode": "closest",
          "mapbox": {
           "style": "light"
          },
          "paper_bgcolor": "white",
          "plot_bgcolor": "#E5ECF6",
          "polar": {
           "angularaxis": {
            "gridcolor": "white",
            "linecolor": "white",
            "ticks": ""
           },
           "bgcolor": "#E5ECF6",
           "radialaxis": {
            "gridcolor": "white",
            "linecolor": "white",
            "ticks": ""
           }
          },
          "scene": {
           "xaxis": {
            "backgroundcolor": "#E5ECF6",
            "gridcolor": "white",
            "gridwidth": 2,
            "linecolor": "white",
            "showbackground": true,
            "ticks": "",
            "zerolinecolor": "white"
           },
           "yaxis": {
            "backgroundcolor": "#E5ECF6",
            "gridcolor": "white",
            "gridwidth": 2,
            "linecolor": "white",
            "showbackground": true,
            "ticks": "",
            "zerolinecolor": "white"
           },
           "zaxis": {
            "backgroundcolor": "#E5ECF6",
            "gridcolor": "white",
            "gridwidth": 2,
            "linecolor": "white",
            "showbackground": true,
            "ticks": "",
            "zerolinecolor": "white"
           }
          },
          "shapedefaults": {
           "line": {
            "color": "#2a3f5f"
           }
          },
          "ternary": {
           "aaxis": {
            "gridcolor": "white",
            "linecolor": "white",
            "ticks": ""
           },
           "baxis": {
            "gridcolor": "white",
            "linecolor": "white",
            "ticks": ""
           },
           "bgcolor": "#E5ECF6",
           "caxis": {
            "gridcolor": "white",
            "linecolor": "white",
            "ticks": ""
           }
          },
          "title": {
           "x": 0.05
          },
          "xaxis": {
           "automargin": true,
           "gridcolor": "white",
           "linecolor": "white",
           "ticks": "",
           "title": {
            "standoff": 15
           },
           "zerolinecolor": "white",
           "zerolinewidth": 2
          },
          "yaxis": {
           "automargin": true,
           "gridcolor": "white",
           "linecolor": "white",
           "ticks": "",
           "title": {
            "standoff": 15
           },
           "zerolinecolor": "white",
           "zerolinewidth": 2
          }
         }
        },
        "width": 800,
        "xaxis": {
         "anchor": "y",
         "autorange": true,
         "domain": [
          0,
          1
         ],
         "range": [
          -0.29233945922957455,
          0.32264430172459646
         ],
         "title": {
          "text": "pca_1"
         },
         "type": "linear"
        },
        "yaxis": {
         "anchor": "x",
         "autorange": true,
         "domain": [
          0,
          1
         ],
         "range": [
          -0.2357119363174783,
          0.3357787555664089
         ],
         "title": {
          "text": "pca_2"
         },
         "type": "linear"
        }
       }
      },
      "image/png": "[encoded data removed]",
      "text/html": [
       "<div>                            <div id=\"fad20c22-c293-47a4-8e2d-e254834ca7f3\" class=\"plotly-graph-div\" style=\"height:800px; width:800px;\"></div>            <script type=\"text/javascript\">                require([\"plotly\"], function(Plotly) {                    window.PLOTLYENV=window.PLOTLYENV || {};                                    if (document.getElementById(\"fad20c22-c293-47a4-8e2d-e254834ca7f3\")) {                    Plotly.newPlot(                        \"fad20c22-c293-47a4-8e2d-e254834ca7f3\",                        [{\"customdata\":[[\"The requirement for\\u003cbr\\u003eparticipants to\\u003cbr\\u003eengage in abstract\\u003cbr\\u003ethinking and apply\\u003cbr\\u003enon-concrete\\u003cbr\\u003ecriteria to solve\\u003cbr\\u003eproblems or generate\\u003cbr\\u003eoutputs.\"],[\"The requirement for\\u003cbr\\u003econceptual\\u003cbr\\u003ereasoning, ideation,\\u003cbr\\u003eand the application\\u003cbr\\u003eof abstract concepts\\u003cbr\\u003eto complete a task.\"],[\"The extent to which\\u003cbr\\u003ea task requires team\\u003cbr\\u003emembers to work\\u003cbr\\u003etogether, share\\u003cbr\\u003einformation, and\\u003cbr\\u003emake decisions\\u003cbr\\u003ecollaboratively to\\u003cbr\\u003eachieve a common\\u003cbr\\u003egoal.\"],[\"The extent to which\\u003cbr\\u003ea task requires\\u003cbr\\u003eparticipants to work\\u003cbr\\u003etogether to analyze\\u003cbr\\u003einformation, discuss\\u003cbr\\u003ediffering opinions,\\u003cbr\\u003eand reach a\\u003cbr\\u003econsensus or\\u003cbr\\u003eagreement.\"],[\"The presence of\\u003cbr\\u003eindividual goals\\u003cbr\\u003ethat may conflict\\u003cbr\\u003ewith those of other\\u003cbr\\u003eteam members,\\u003cbr\\u003eleading to\\u003cbr\\u003ecompetitive rather\\u003cbr\\u003ethan cooperative\\u003cbr\\u003einteractions.\"],[\"The presence of a\\u003cbr\\u003ecompetitive dynamic\\u003cbr\\u003ewithin the task,\\u003cbr\\u003ewhere individual or\\u003cbr\\u003eteam performance is\\u003cbr\\u003emeasured against\\u003cbr\\u003eothers.\"],[\"The nature of the\\u003cbr\\u003einteraction among\\u003cbr\\u003eparticipants,\\u003cbr\\u003ewhether it is\\u003cbr\\u003ecompetitive with\\u003cbr\\u003eindividual goals or\\u003cbr\\u003ecooperative with a\\u003cbr\\u003eshared objective.\"],[\"The importance of\\u003cbr\\u003ereaching an\\u003cbr\\u003eagreement or unified\\u003cbr\\u003edecision among team\\u003cbr\\u003emembers.\"],[\"The necessity for\\u003cbr\\u003eteam members to\\u003cbr\\u003ereach an agreement\\u003cbr\\u003eon a collective\\u003cbr\\u003edecision or output,\\u003cbr\\u003eoften involving\\u003cbr\\u003enegotiation and\\u003cbr\\u003esynthesis of\\u003cbr\\u003edifferent\\u003cbr\\u003eviewpoints.\"],[\"The need for team\\u003cbr\\u003emembers to\\u003cbr\\u003enegotiate, discuss,\\u003cbr\\u003eand agree on a\\u003cbr\\u003ecollective outcome\\u003cbr\\u003ethat reflects the\\u003cbr\\u003egroup's shared\\u003cbr\\u003eunderstanding or\\u003cbr\\u003egoal.\"],[\"The requirement for\\u003cbr\\u003ethe task to produce\\u003cbr\\u003ea creative or non-\\u003cbr\\u003estandard solution,\\u003cbr\\u003eoften involving idea\\u003cbr\\u003egeneration and\\u003cbr\\u003eabstract thinking.\"],[\"The need for team\\u003cbr\\u003emembers to engage in\\u003cbr\\u003ecreative thinking\\u003cbr\\u003eand generate\\u003cbr\\u003emultiple unique\\u003cbr\\u003esolutions or ideas\\u003cbr\\u003ewithin a set\\u003cbr\\u003eframework.\"],[\"The necessity for\\u003cbr\\u003ecreative input, idea\\u003cbr\\u003egeneration, and\\u003cbr\\u003einnovative thinking\\u003cbr\\u003ewithin the task.\"],[\"The requirement for\\u003cbr\\u003eparticipants to\\u003cbr\\u003egenerate new ideas\\u003cbr\\u003eor solutions by\\u003cbr\\u003ecombining individual\\u003cbr\\u003econtributions into a\\u003cbr\\u003esingle, cohesive\\u003cbr\\u003eoutput.\"],[\"The presence of\\u003cbr\\u003eimmediate or delayed\\u003cbr\\u003efeedback on team\\u003cbr\\u003edecisions and\\u003cbr\\u003eactions, which\\u003cbr\\u003einforms and\\u003cbr\\u003einfluences\\u003cbr\\u003esubsequent team\\u003cbr\\u003estrategy.\"],[\"The task's provision\\u003cbr\\u003eof immediate\\u003cbr\\u003efeedback on\\u003cbr\\u003eperformance and the\\u003cbr\\u003erequirement for\\u003cbr\\u003eparticipants to\\u003cbr\\u003eadapt their\\u003cbr\\u003estrategies based on\\u003cbr\\u003ethat feedback.\"],[\"The extent to which\\u003cbr\\u003ea task provides\\u003cbr\\u003efeedback on team\\u003cbr\\u003edecisions and allows\\u003cbr\\u003efor iterative\\u003cbr\\u003eimprovement based on\\u003cbr\\u003ethat feedback.\"],[\"The level of\\u003cbr\\u003eindependence granted\\u003cbr\\u003eto each team member\\u003cbr\\u003eto make decisions or\\u003cbr\\u003econtributions\\u003cbr\\u003ewithout the need for\\u003cbr\\u003egroup consensus or\\u003cbr\\u003ecollaboration.\"],[\"The balance between\\u003cbr\\u003etasks that\\u003cbr\\u003eprioritize\\u003cbr\\u003eindividual\\u003cbr\\u003eperformance and\\u003cbr\\u003edecision-making\\u003cbr\\u003eversus those that\\u003cbr\\u003eemphasize collective\\u003cbr\\u003eoutcomes and team\\u003cbr\\u003esuccess.\"],[\"The distribution of\\u003cbr\\u003einformation among\\u003cbr\\u003eteam members, where\\u003cbr\\u003enot all participants\\u003cbr\\u003ehave access to the\\u003cbr\\u003esame information,\\u003cbr\\u003erequiring sharing\\u003cbr\\u003eand integration to\\u003cbr\\u003ecomplete the task.\"],[\"The extent to which\\u003cbr\\u003ea task requires team\\u003cbr\\u003emembers to combine\\u003cbr\\u003edifferent pieces of\\u003cbr\\u003einformation to solve\\u003cbr\\u003ea problem or reach a\\u003cbr\\u003edecision.\"],[\"The importance of\\u003cbr\\u003ecommunication and\\u003cbr\\u003ethe exchange of\\u003cbr\\u003einformation among\\u003cbr\\u003eteam members to\\u003cbr\\u003eachieve a shared\\u003cbr\\u003eunderstanding and\\u003cbr\\u003egoal.\"],[\"The extent to which\\u003cbr\\u003eteam members have\\u003cbr\\u003eaccess to the same\\u003cbr\\u003einformation or\\u003cbr\\u003ewhether the task\\u003cbr\\u003einvolves hidden or\\u003cbr\\u003eunshared information\\u003cbr\\u003ethat must be\\u003cbr\\u003ecommunicated.\"],[\"The extent to which\\u003cbr\\u003ea task requires the\\u003cbr\\u003eanalysis, synthesis,\\u003cbr\\u003eand application of\\u003cbr\\u003einformation to make\\u003cbr\\u003edecisions or produce\\u003cbr\\u003ean output.\"],[\"The degree to which\\u003cbr\\u003ethe task has a\\u003cbr\\u003eclear, measurable\\u003cbr\\u003egoal or outcome that\\u003cbr\\u003ecan be objectively\\u003cbr\\u003eevaluated for\\u003cbr\\u003esuccess.\"],[\"The ability to\\u003cbr\\u003equantify the success\\u003cbr\\u003eof the task based on\\u003cbr\\u003eobjective criteria\\u003cbr\\u003eor a clear scoring\\u003cbr\\u003esystem.\"],[\"The necessity for\\u003cbr\\u003eteam members to\\u003cbr\\u003einteract and make\\u003cbr\\u003edecisions in a\\u003cbr\\u003edynamic, real-time\\u003cbr\\u003eenvironment.\"],[\"The extent to which\\u003cbr\\u003ea task involves\\u003cbr\\u003eimmediate, dynamic\\u003cbr\\u003einteraction among\\u003cbr\\u003eteam members within\\u003cbr\\u003ea shared\\u003cbr\\u003eenvironment.\"],[\"The degree to which\\u003cbr\\u003ea task involves\\u003cbr\\u003edistinct roles or\\u003cbr\\u003eresponsibilities for\\u003cbr\\u003eeach team member,\\u003cbr\\u003ewith each role\\u003cbr\\u003econtributing\\u003cbr\\u003especific skills or\\u003cbr\\u003eknowledge to the\\u003cbr\\u003eteam's objective.\"],[\"The level of\\u003cbr\\u003estrategic thinking,\\u003cbr\\u003eplanning, and\\u003cbr\\u003eadaptation required\\u003cbr\\u003eto achieve the\\u003cbr\\u003etask's objectives\\u003cbr\\u003ewithin a set of\\u003cbr\\u003erules or\\u003cbr\\u003econstraints.\"],[\"The level of\\u003cbr\\u003eplanning,\\u003cbr\\u003eanticipation of\\u003cbr\\u003eoutcomes, and\\u003cbr\\u003estrategic thinking\\u003cbr\\u003erequired to perform\\u003cbr\\u003ethe task\\u003cbr\\u003esuccessfully.\"],[\"The level of\\u003cbr\\u003estrategic thinking\\u003cbr\\u003eand prediction\\u003cbr\\u003erequired to consider\\u003cbr\\u003ethe actions and\\u003cbr\\u003epotential reactions\\u003cbr\\u003eof others, both\\u003cbr\\u003ewithin the team and\\u003cbr\\u003ewith external\\u003cbr\\u003eparties.\"],[\"The requirement for\\u003cbr\\u003eteam members to\\u003cbr\\u003eanalyze situations,\\u003cbr\\u003epredict outcomes,\\u003cbr\\u003eand develop a shared\\u003cbr\\u003estrategy to achieve\\u003cbr\\u003ea goal within a set\\u003cbr\\u003eof rules or\\u003cbr\\u003econstraints.\"],[\"The presence of a\\u003cbr\\u003efixed time limit\\u003cbr\\u003ewithin which\\u003cbr\\u003eparticipants must\\u003cbr\\u003ecomplete the task,\\u003cbr\\u003eadding pressure to\\u003cbr\\u003ethe decision-making\\u003cbr\\u003eprocess.\"],[\"The requirement for\\u003cbr\\u003eparticipants to\\u003cbr\\u003einteract with and\\u003cbr\\u003emanipulate elements\\u003cbr\\u003ewithin a visual or\\u003cbr\\u003espatial context to\\u003cbr\\u003eachieve the task's\\u003cbr\\u003eobjectives.\"],[\"The requirement for\\u003cbr\\u003eteam members to\\u003cbr\\u003enavigate and\\u003cbr\\u003emanipulate elements\\u003cbr\\u003ewithin a shared\\u003cbr\\u003evisual or spatial\\u003cbr\\u003eenvironment.\"]],\"hovertemplate\":\"\\u003cb\\u003e%{hovertext}\\u003c\\u002fb\\u003e\\u003cbr\\u003e\\u003cbr\\u003esource=pairwise\\u003cbr\\u003epca_1=%{x}\\u003cbr\\u003epca_2=%{y}\\u003cbr\\u003esize=%{marker.size}\\u003cbr\\u003edim_desc_wrapped=%{customdata[0]}\\u003cextra\\u003e\\u003c\\u002fextra\\u003e\",\"hovertext\":[\"Abstract Problem-Solving\",\"Abstract Thinking\",\"Collaboration Intensity\",\"Collaborative Decision-Making\",\"Competitive Dynamics\",\"Competitive Element\",\"Competitive vs. Cooperative Dynamics\",\"Consensus Building\",\"Consensus Requirement\",\"Consensus-Building\",\"Creative Output\",\"Creative Problem-Solving\",\"Creative Requirement\",\"Creative Synthesis\",\"Feedback Loop\",\"Feedback and Adaptation\",\"Feedback and Iteration\",\"Individual Autonomy\",\"Individual vs. Collective Focus\",\"Information Asymmetry\",\"Information Integration\",\"Information Sharing\",\"Information Symmetry\",\"Information Processing\",\"Objective Clarity\",\"Objective Measurement\",\"Real-Time Coordination\",\"Real-Time Interaction\",\"Role Differentiation\",\"Strategic Complexity\",\"Strategic Decision-Making\",\"Strategic Interaction\",\"Strategic Planning\",\"Time Constraint\",\"Visual-Spatial Coordination\",\"Spatial Coordination\"],\"legendgroup\":\"pairwise\",\"marker\":{\"color\":\"#3366CC\",\"size\":[0.4,0.4,0.4,0.4,0.4,0.4,0.4,0.4,0.4,0.4,0.4,0.4,0.4,0.4,0.4,0.4,0.4,0.4,0.4,0.4,0.4,0.4,0.4,0.4,0.4,0.4,0.4,0.4,0.4,0.4,0.4,0.4,0.4,0.4,0.4,0.4],\"sizemode\":\"area\",\"sizeref\":0.001,\"symbol\":\"circle\"},\"mode\":\"markers\",\"name\":\"pairwise\",\"orientation\":\"v\",\"showlegend\":true,\"x\":[0.0076390207585185655,-0.024516469805805848,0.1356121223029058,0.21118261108444175,0.21184593388921774,0.05330964441243912,0.18164360801904547,0.24753007073980077,0.26080347487931443,0.2754141864850938,0.0038129019753630924,0.13971655321070914,0.024435930121097762,0.12821920468728248,0.16188227127492166,0.03986346446213716,0.08318357387757651,0.16851136376569653,0.09871618517995834,0.2328777242920401,0.1616100835481508,0.25981426744445196,0.17447992853820132,0.020750581547660286,-0.07891731752453592,-0.1389199273028429,0.23040924513666428,0.13359743955049994,0.0884151894837659,0.015648220492861898,0.045806852408720726,0.170983035102347,0.20686810676360187,-0.0005562247173274012,0.07121668835094724,0.1773594997017744],\"xaxis\":\"x\",\"y\":[0.17402914030889913,0.11288587801037941,-0.08412746957732431,0.030504841493875896,-0.029830196479182818,-0.09789336887112271,-0.02388572091424577,0.06299488086897706,0.055167338860114525,0.06311493314619222,0.17704615386322572,0.19107570338151714,0.11806280221712064,0.16472903704477362,-0.0715952685705387,-0.07345309032474764,-0.03425125317080883,-0.028136675369038702,-0.02583400487066431,-0.052747816015450526,-0.016644549374051174,-0.047839401937693024,-0.04768731003715185,-0.006585295827056769,0.02196632121275166,-0.04727182792047962,-0.10552484068663054,-0.1308348027309543,-0.07275484390584966,-0.018523925676907613,-0.010096101239480295,-0.05860609197658722,0.019423810328738276,-0.03017851145856542,-0.08105999042134794,-0.09536287862070432],\"yaxis\":\"y\",\"type\":\"scatter\"},{\"customdata\":[[\"The level of\\u003cbr\\u003edifficulty involved\\u003cbr\\u003ein completing the\\u003cbr\\u003etask, which can\\u003cbr\\u003erange from simple\\u003cbr\\u003e(e.g., recalling\\u003cbr\\u003ewords) to complex\\u003cbr\\u003e(e.g., negotiating a\\u003cbr\\u003ebusiness deal).\"],[\"Whether the task\\u003cbr\\u003erequires\\u003cbr\\u003eparticipants to work\\u003cbr\\u003ealone or in a team,\\u003cbr\\u003eand the degree to\\u003cbr\\u003ewhich teamwork and\\u003cbr\\u003ecommunication are\\u003cbr\\u003enecessary for\\u003cbr\\u003esuccess.\"],[\"The extent to which\\u003cbr\\u003ethe task requires\\u003cbr\\u003enovel thinking,\\u003cbr\\u003eimagination, or\\u003cbr\\u003einnovation, as\\u003cbr\\u003eopposed to tasks\\u003cbr\\u003ethat have clear-cut\\u003cbr\\u003esolutions or rely on\\u003cbr\\u003ememory.\"],[\"The level of\\u003cbr\\u003estrategic planning\\u003cbr\\u003eand foresight needed\\u003cbr\\u003eto perform well in\\u003cbr\\u003ethe task.\"],[\"The degree to which\\u003cbr\\u003ea task is\\u003cbr\\u003econstrained by time,\\u003cbr\\u003erequiring quick\\u003cbr\\u003ethinking and\\u003cbr\\u003edecision-making.\"],[\"The amount of mental\\u003cbr\\u003eeffort and working\\u003cbr\\u003ememory usage\\u003cbr\\u003erequired to perform\\u003cbr\\u003ethe task, which can\\u003cbr\\u003eaffect performance,\\u003cbr\\u003eespecially under\\u003cbr\\u003etime constraints.\"],[\"The extent to which\\u003cbr\\u003eparticipants have\\u003cbr\\u003eaccess to different\\u003cbr\\u003elevels of\\u003cbr\\u003einformation, which\\u003cbr\\u003ecan influence\\u003cbr\\u003estrategies and\\u003cbr\\u003eoutcomes in tasks\\u003cbr\\u003esuch as negotiations\\u003cbr\\u003eor games.\"],[\"The degree to which\\u003cbr\\u003ethe task involves\\u003cbr\\u003enumerical\\u003cbr\\u003ecomputation, logical\\u003cbr\\u003ereasoning, and\\u003cbr\\u003eproblem-solving\\u003cbr\\u003eskills.\"],[\"The level of risk\\u003cbr\\u003einvolved in\\u003cbr\\u003edecision-making and\\u003cbr\\u003ethe uncertainty of\\u003cbr\\u003eoutcomes, which can\\u003cbr\\u003ebe influenced by\\u003cbr\\u003eunknown variables or\\u003cbr\\u003ethe actions of\\u003cbr\\u003eothers.\"],[\"Whether and how\\u003cbr\\u003eparticipants receive\\u003cbr\\u003efeedback on their\\u003cbr\\u003eperformance, which\\u003cbr\\u003ecan be immediate or\\u003cbr\\u003edelayed, and how\\u003cbr\\u003ethey can learn and\\u003cbr\\u003eadapt their\\u003cbr\\u003estrategies over\\u003cbr\\u003etime.\"],[\"The presence and\\u003cbr\\u003eimmediacy of\\u003cbr\\u003efeedback given to\\u003cbr\\u003eparticipants, which\\u003cbr\\u003ecan influence\\u003cbr\\u003elearning and\\u003cbr\\u003estrategy. This can\\u003cbr\\u003ebe operationalized\\u003cbr\\u003eby whether\\u003cbr\\u003eparticipants receive\\u003cbr\\u003eimmediate, delayed,\\u003cbr\\u003eor no feedback on\\u003cbr\\u003etheir performance.\"],[\"The manner in which\\u003cbr\\u003etask performance is\\u003cbr\\u003eassessed, ranging\\u003cbr\\u003efrom objective\\u003cbr\\u003emeasures (e.g., a\\u003cbr\\u003ecorrect answer) to\\u003cbr\\u003esubjective\\u003cbr\\u003eevaluations (e.g.,\\u003cbr\\u003ecreativity or\\u003cbr\\u003enegotiation skills).\"],[\"The extent to which\\u003cbr\\u003ethe task is\\u003cbr\\u003econstrained by the\\u003cbr\\u003eavailability of\\u003cbr\\u003eresources, which can\\u003cbr\\u003ebe operationalized\\u003cbr\\u003eby the quantity and\\u003cbr\\u003etype of resources\\u003cbr\\u003eprovided to complete\\u003cbr\\u003ethe task.\"],[\"The level of\\u003cbr\\u003ephysical or manual\\u003cbr\\u003edexterity required\\u003cbr\\u003eby the task, which\\u003cbr\\u003ecan be\\u003cbr\\u003eoperationalized by\\u003cbr\\u003ethe need for precise\\u003cbr\\u003emovements or\\u003cbr\\u003ecoordination in a\\u003cbr\\u003ephysical or virtual\\u003cbr\\u003espace.\"],[\"Whether the task has\\u003cbr\\u003ea single correct\\u003cbr\\u003eanswer or multiple\\u003cbr\\u003epossible correct\\u003cbr\\u003eanswers,\\u003cbr\\u003eoperationalized by\\u003cbr\\u003ethe number of\\u003cbr\\u003eacceptable solutions\\u003cbr\\u003eor the range of\\u003cbr\\u003escores reflecting\\u003cbr\\u003ethe quality of the\\u003cbr\\u003esolutions.\"],[\"The degree to which\\u003cbr\\u003ethe task requires or\\u003cbr\\u003ebenefits from\\u003cbr\\u003especialized\\u003cbr\\u003eknowledge or skills,\\u003cbr\\u003eoperationalized by\\u003cbr\\u003ecomparing\\u003cbr\\u003eparticipants'\\u003cbr\\u003esolutions to those\\u003cbr\\u003eof subject matter\\u003cbr\\u003eexperts.\"],[\"The degree to which\\u003cbr\\u003eall necessary\\u003cbr\\u003einformation is\\u003cbr\\u003ereadily available to\\u003cbr\\u003eparticipants or if\\u003cbr\\u003esome information is\\u003cbr\\u003ehidden or must be\\u003cbr\\u003ediscovered.\"],[\"The type of skills\\u003cbr\\u003epredominantly\\u003cbr\\u003erequired by the\\u003cbr\\u003etask, ranging from\\u003cbr\\u003ephysical\\u002fmanual\\u003cbr\\u003edexterity to\\u003cbr\\u003ecognitive\\u002fmental\\u003cbr\\u003eabilities. This can\\u003cbr\\u003ebe operationalized\\u003cbr\\u003eby identifying the\\u003cbr\\u003eprimary type of\\u003cbr\\u003eskill needed for\\u003cbr\\u003etask completion.\"],[\"The reliance on\\u003cbr\\u003erecall ability to\\u003cbr\\u003ecomplete the task.\"],[\"The need to identify\\u003cbr\\u003eand understand\\u003cbr\\u003epatterns, trends, or\\u003cbr\\u003eregularities in\\u003cbr\\u003edata.\"],[\"The requirement to\\u003cbr\\u003ediscuss and reach an\\u003cbr\\u003eagreement in a\\u003cbr\\u003ecollaborative or\\u003cbr\\u003ecompetitive context.\"],[\"The extent to which\\u003cbr\\u003ethe task relies on\\u003cbr\\u003epre-existing\\u003cbr\\u003eknowledge or\\u003cbr\\u003einformation, such as\\u003cbr\\u003efamiliarity with\\u003cbr\\u003ewords or knowledge\\u003cbr\\u003eof city populations.\"],[\"The extent to which\\u003cbr\\u003ethe task involves\\u003cbr\\u003emoral or ethical\\u003cbr\\u003edecision-making,\\u003cbr\\u003ewhich can influence\\u003cbr\\u003ethe choices made by\\u003cbr\\u003eparticipants beyond\\u003cbr\\u003epurely rational\\u003cbr\\u003eself-interest.\"],[\"The need for visual\\u003cbr\\u003eor auditory\\u003cbr\\u003ediscrimination to\\u003cbr\\u003ecomplete the task.\\u003cbr\\u003eThis can be\\u003cbr\\u003eoperationalized by\\u003cbr\\u003etasks that require\\u003cbr\\u003edistinguishing\\u003cbr\\u003ebetween patterns,\\u003cbr\\u003esounds, or visual\\u003cbr\\u003estimuli.\"]],\"hovertemplate\":\"\\u003cb\\u003e%{hovertext}\\u003c\\u002fb\\u003e\\u003cbr\\u003e\\u003cbr\\u003esource=taskbased\\u003cbr\\u003epca_1=%{x}\\u003cbr\\u003epca_2=%{y}\\u003cbr\\u003esize=%{marker.size}\\u003cbr\\u003edim_desc_wrapped=%{customdata[0]}\\u003cextra\\u003e\\u003c\\u002fextra\\u003e\",\"hovertext\":[\"Complexity\",\"Collaboration\",\"Creativity\",\"Strategy\",\"Time Pressure\",\"Cognitive Load\",\"Information Asymmetry\",\"Quantitative Reasoning\",\"Risk and Uncertainty\",\"Learning and Adaptation\",\"Feedback\",\"Objective vs. Subjective Evaluation\",\"Resource Limitation\",\"Physical Coordination\",\"Convergence-Divergence\",\"Expertise Alignment\",\"Information Availability\",\"Physical vs. Cognitive Skills\",\"Memory\",\"Pattern Recognition\",\"Negotiation\",\"Knowledge Dependency\",\"Moral\\u002fEthical Consideration\",\"Perceptual Skills\"],\"legendgroup\":\"taskbased\",\"marker\":{\"color\":\"#DC3912\",\"size\":[0.4,0.4,0.4,0.4,0.4,0.4,0.4,0.4,0.4,0.4,0.4,0.4,0.4,0.4,0.4,0.4,0.4,0.4,0.4,0.4,0.4,0.4,0.4,0.4],\"sizemode\":\"area\",\"sizeref\":0.001,\"symbol\":\"diamond\"},\"mode\":\"markers\",\"name\":\"taskbased\",\"orientation\":\"v\",\"showlegend\":true,\"x\":[-0.06420894244829146,0.1453121610928963,-0.06523195193130256,0.03831864540356236,-0.03376402185305522,-0.13722472522674256,0.15991643930634383,-0.1051942047077725,0.05889224553201036,0.04781288461405984,0.04639445024364735,-0.08206345014107641,-0.056356961115643214,0.029148638119754863,-0.03440219729726192,0.053230301526113986,0.053058364163254726,-0.1049344080866883,-0.1072739543799982,0.008394271621572092,0.2125683987341205,-0.033735856214415716,0.02966753659475536,-0.03324061789106369],\"xaxis\":\"x\",\"y\":[-0.03785422599961634,-0.018914333478597327,0.08968345096381952,-0.020707170238093184,-0.06821084437253053,-0.0978830827436347,-0.044836705975775236,-0.004301002048350887,-0.05538188094648935,-0.07915735825617128,-0.10155717861378312,-0.0034810537537259207,-0.08079095876113032,-0.16866615321173067,0.0936943864348132,0.010232211353856392,-0.07169811802246615,-0.0998192262265988,-0.015421191776612822,0.03391870287749888,0.04242765292370396,-0.021091451357193862,0.023935392503566175,-0.013096515584896344],\"yaxis\":\"y\",\"type\":\"scatter\"},{\"customdata\":[[\"Number of distinct\\u003cbr\\u003esteps or components\\u003cbr\\u003erequired to complete\\u003cbr\\u003ethe task\"],[\"Scale from 1 (low)\\u003cbr\\u003eto 5 (high)\\u003cbr\\u003eindicating the\\u003cbr\\u003edegree to which team\\u003cbr\\u003emembers' tasks are\\u003cbr\\u003einterconnected\"],[\"Count of different\\u003cbr\\u003especialized skills\\u003cbr\\u003eneeded to perform\\u003cbr\\u003ethe task effectively\"],[\"Scale from 1 (low)\\u003cbr\\u003eto 5 (high)\\u003cbr\\u003erepresenting the\\u003cbr\\u003epredictability of\\u003cbr\\u003etask outcomes\"],[\"Time given to\\u003cbr\\u003ecomplete the task\\u003cbr\\u003emeasured in minutes\\u003cbr\\u003eor hours\"],[\"Scale from 1\\u003cbr\\u003e(familiar) to 5\\u003cbr\\u003e(novel) indicating\\u003cbr\\u003ehow common or new\\u003cbr\\u003ethe task is to the\\u003cbr\\u003eteam members\"],[\"Amount of\\u003cbr\\u003einformation (in\\u003cbr\\u003ebytes or number of\\u003cbr\\u003eitems) that must be\\u003cbr\\u003eprocessed to\\u003cbr\\u003ecomplete the task\"],[\"Scale from 1\\u003cbr\\u003e(ambiguous) to 5\\u003cbr\\u003e(clear) indicating\\u003cbr\\u003ehow well-defined the\\u003cbr\\u003etask goals are\"],[\"Scale from 1 (low)\\u003cbr\\u003eto 5 (high)\\u003cbr\\u003eindicating the level\\u003cbr\\u003eof physical effort\\u003cbr\\u003erequired\"],[\"Number of\\u003cbr\\u003ecoordination points\\u003cbr\\u003ewhere team members\\u003cbr\\u003emust synchronize\\u003cbr\\u003etheir actions\"],[\"Number of different\\u003cbr\\u003especialized skills\\u003cbr\\u003eor knowledge areas\\u003cbr\\u003erequired to perform\\u003cbr\\u003ethe task\"],[\"Ratio of the amount\\u003cbr\\u003eof information\\u003cbr\\u003eavailable to the\\u003cbr\\u003eteam to the amount\\u003cbr\\u003eof information\\u003cbr\\u003erequired to complete\\u003cbr\\u003ethe task, with a\\u003cbr\\u003evalue of 1\\u003cbr\\u003eindicating perfect\\u003cbr\\u003einformation\\u003cbr\\u003eavailability\"],[\"Scale from 1\\u003cbr\\u003e(routine task) to 5\\u003cbr\\u003e(high problem-\\u003cbr\\u003esolving demand),\\u003cbr\\u003ereflecting the level\\u003cbr\\u003eof novel thinking\\u003cbr\\u003erequired.\"],[\"Scale from 1 (no\\u003cbr\\u003ecreativity needed)\\u003cbr\\u003eto 5 (high\\u003cbr\\u003ecreativity\\u003cbr\\u003erequired), gauging\\u003cbr\\u003ethe need for\\u003cbr\\u003eoriginal ideas and\\u003cbr\\u003esolutions.\"],[\"Measured by the\\u003cbr\\u003eaverage time it\\u003cbr\\u003etakes for a new team\\u003cbr\\u003emember to perform\\u003cbr\\u003ethe task at a\\u003cbr\\u003eproficiency level of\\u003cbr\\u003e90% of an\\u003cbr\\u003eexperienced member.\"],[\"Measured by the\\u003cbr\\u003eaverage time between\\u003cbr\\u003eaction and receiving\\u003cbr\\u003efeedback on\\u003cbr\\u003eperformance,\\u003cbr\\u003eindicating the\\u003cbr\\u003eimmediacy and\\u003cbr\\u003efrequency of\\u003cbr\\u003efeedback.\"],[\"Measured by the\\u003cbr\\u003epercentage of time\\u003cbr\\u003eall necessary\\u003cbr\\u003eresources are\\u003cbr\\u003eavailable during\\u003cbr\\u003etask performance.\"],[\"Scale from 1 (low\\u003cbr\\u003estress) to 5 (high\\u003cbr\\u003estress), based on\\u003cbr\\u003ephysiological\\u003cbr\\u003emeasures such as\\u003cbr\\u003eheart rate or self-\\u003cbr\\u003ereported stress\\u003cbr\\u003elevels.\"],[\"Number of\\u003cbr\\u003ecoordination actions\\u003cbr\\u003e(e.g.,\\u003cbr\\u003ecommunications,\\u003cbr\\u003esynchronizations)\\u003cbr\\u003erequired per unit of\\u003cbr\\u003etime\"],[\"Rating on a scale\\u003cbr\\u003efrom 1 (minimal\\u003cbr\\u003ecognitive effort) to\\u003cbr\\u003e5 (extreme cognitive\\u003cbr\\u003eeffort) based on the\\u003cbr\\u003emental intensity of\\u003cbr\\u003ethe task\"],[\"Number of novel\\u003cbr\\u003esolutions or\\u003cbr\\u003eapproaches required\\u003cbr\\u003eto successfully\\u003cbr\\u003ecomplete the task\"],[\"The length of time\\u003cbr\\u003erequired to complete\\u003cbr\\u003ethe task, 'measure':\\u003cbr\\u003e'Time in Minutes:\\u003cbr\\u003eThe average time\\u003cbr\\u003etaken to complete\\u003cbr\\u003ethe task, measured\\u003cbr\\u003ein minutes\"],[\"The degree to which\\u003cbr\\u003ethe task is new or\\u003cbr\\u003eunfamiliar to the\\u003cbr\\u003eteam, 'measure':\\u003cbr\\u003eNovelty Rating: A\\u003cbr\\u003escore from 1\\u003cbr\\u003e(familiar) to 5\\u003cbr\\u003e(novel) based on\\u003cbr\\u003eteam members' self-\\u003cbr\\u003ereported familiarity\\u003cbr\\u003ewith the task.\"],[\"The mental effort\\u003cbr\\u003erequired to perform\\u003cbr\\u003ethe task, 'measure':\\u003cbr\\u003e'Cognitive Load\\u003cbr\\u003eScale: A score from\\u003cbr\\u003e1 (low) to 5 (high)\\u003cbr\\u003ebased on subjective\\u003cbr\\u003eassessment of mental\\u003cbr\\u003eeffort required,\\u003cbr\\u003eusing standardized\\u003cbr\\u003ecognitive load\\u003cbr\\u003emeasurement\\u003cbr\\u003einstruments\"],[\"The range of skills\\u003cbr\\u003eand abilities\\u003cbr\\u003erequired to perform\\u003cbr\\u003ethe task, 'measure':\\u003cbr\\u003e'Skill Diversity\\u003cbr\\u003eIndex: The number of\\u003cbr\\u003edistinct skills and\\u003cbr\\u003eabilities required\\u003cbr\\u003eto perform the task\\u003cbr\\u003eeffectively\"],[\"A numerical score\\u003cbr\\u003ebased on the number\\u003cbr\\u003eof distinct\\u003cbr\\u003ecognitive processes\\u003cbr\\u003erequired (e.g.,\\u003cbr\\u003ememory recall,\\u003cbr\\u003elogical reasoning,\\u003cbr\\u003edecision-making),\\u003cbr\\u003ethe number of\\u003cbr\\u003edecision points, and\\u003cbr\\u003ethe level of\\u003cbr\\u003eabstraction involved\\u003cbr\\u003ein the task\"],[\"A scale from 0 to 1\\u003cbr\\u003ewhere 0 represents\\u003cbr\\u003ecompletely\\u003cbr\\u003eindependent tasks\\u003cbr\\u003eand 1 represents\\u003cbr\\u003etasks that cannot be\\u003cbr\\u003ecompleted without\\u003cbr\\u003econstant team\\u003cbr\\u003einteraction,\\u003cbr\\u003emeasured by the\\u003cbr\\u003efrequency and\\u003cbr\\u003enecessity of\\u003cbr\\u003ecommunication among\\u003cbr\\u003eteam members\"],[\"A measure of the\\u003cbr\\u003etask's time\\u003cbr\\u003esensitivity,\\u003cbr\\u003equantified by the\\u003cbr\\u003eratio of the time\\u003cbr\\u003espent on active task\\u003cbr\\u003eengagement to the\\u003cbr\\u003etotal time allotted\\u003cbr\\u003efor task completion.\"],[\"A score derived from\\u003cbr\\u003ethe necessity for\\u003cbr\\u003ecreative problem-\\u003cbr\\u003esolving and\\u003cbr\\u003egeneration of novel\\u003cbr\\u003eideas, rated by\\u003cbr\\u003eexperts in the field\\u003cbr\\u003eon a scale from 1\\u003cbr\\u003e(no innovation\\u003cbr\\u003eneeded) to 10\\u003cbr\\u003e(highly innovative)\"],[\"A metric based on\\u003cbr\\u003ethe number and\\u003cbr\\u003ecomplexity of\\u003cbr\\u003ephysical actions\\u003cbr\\u003erequired by the\\u003cbr\\u003eteam, the precision\\u003cbr\\u003eneeded, and the\\u003cbr\\u003edegree of\\u003cbr\\u003esynchronization,\\u003cbr\\u003emeasured on a scale\\u003cbr\\u003efrom 1 (minimal\\u003cbr\\u003ecoordination) to 10\\u003cbr\\u003e(extensive\\u003cbr\\u003ecoordination)\"],[\"A variability index\\u003cbr\\u003ecalculated by the\\u003cbr\\u003enumber of external\\u003cbr\\u003evariables that can\\u003cbr\\u003eaffect task\\u003cbr\\u003eperformance (e.g.,\\u003cbr\\u003echanging tools,\\u003cbr\\u003eshifting\\u003cbr\\u003eworkspaces), with\\u003cbr\\u003ehigher scores\\u003cbr\\u003eindicating greater\\u003cbr\\u003evariability\"],[\"A constraint score\\u003cbr\\u003ebased on the\\u003cbr\\u003escarcity of\\u003cbr\\u003eresources (e.g.,\\u003cbr\\u003etime, information,\\u003cbr\\u003etools, personnel)\\u003cbr\\u003enecessary for task\\u003cbr\\u003ecompletion, with\\u003cbr\\u003ehigher scores\\u003cbr\\u003eindicating tighter\\u003cbr\\u003econstraints\"],[\"A measurability\\u003cbr\\u003escore based on the\\u003cbr\\u003eclarity and\\u003cbr\\u003eobjectivity of the\\u003cbr\\u003eoutcome assessment\\u003cbr\\u003ecriteria, ranging\\u003cbr\\u003efrom 1 (subjective\\u003cbr\\u003eor unclear criteria)\\u003cbr\\u003eto 10 (objective and\\u003cbr\\u003eclear criteria)\"]],\"hovertemplate\":\"\\u003cb\\u003e%{hovertext}\\u003c\\u002fb\\u003e\\u003cbr\\u003e\\u003cbr\\u003esource=directask\\u003cbr\\u003epca_1=%{x}\\u003cbr\\u003epca_2=%{y}\\u003cbr\\u003esize=%{marker.size}\\u003cbr\\u003edim_desc_wrapped=%{customdata[0]}\\u003cextra\\u003e\\u003c\\u002fextra\\u003e\",\"hovertext\":[\"Complexity\",\"Interdependence\",\"Diversity of Skills Required\",\"Uncertainty\",\"Time Pressure\",\"Task Novelty\",\"Information Load\",\"Goal Clarity\",\"Physical Demand\",\"Coordination Requirement\",\"Diversity of Skills\",\"Information Availability\",\"Problem-Solving Demand\",\"Creativity Requirement\",\"Learning Curve\",\"Feedback Loop\",\"Resource Availability\",\"Stress Level\",\"Coordination Demand\",\"Cognitive Demand\",\"Innovativeness\",\"Duration\",\"Novelty\",\"Cognitive Load\",\"Skill Variety\",\"Cognitive Complexity\",\"Interdependence Level\",\"Temporal Dynamics\",\"Innovation Requirement\",\"Physical Coordination\",\"Environmental Variability\",\"Resource Constraints\",\"Outcome Measurability\"],\"legendgroup\":\"directask\",\"marker\":{\"color\":\"#FF9900\",\"size\":[0.4,0.4,0.4,0.4,0.4,0.4,0.4,0.4,0.4,0.4,0.4,0.4,0.4,0.4,0.4,0.4,0.4,0.4,0.4,0.4,0.4,0.4,0.4,0.4,0.4,0.4,0.4,0.4,0.4,0.4,0.4,0.4,0.4],\"sizemode\":\"area\",\"sizeref\":0.001,\"symbol\":\"square\"},\"mode\":\"markers\",\"name\":\"directask\",\"orientation\":\"v\",\"showlegend\":true,\"x\":[-0.10560112848109467,0.02153228396857638,-0.03566653903294198,-0.14115307520608344,-0.1081032827699033,-0.08227980022535052,-0.12950634117548213,-0.11795414809143143,-0.2160496986981607,0.13789870966713805,-0.020119928151429232,-0.007999240330061332,-0.1379705397804838,-0.11838907030266832,-0.07939943120704285,-0.039547376043047734,-0.10919256646452755,-0.1936517395449354,0.051567761419973566,-0.22311454603579806,-0.07780778019338039,-0.15975062372825413,-0.13078043618361332,-0.2451093439900719,-0.06789025181308804,-0.15372575665406604,0.04113115233163504,-0.06911565336526627,-0.11046583713526646,-0.011010423036785075,-0.10259716984718417,-0.07987570141407851,-0.16834073781747666],\"xaxis\":\"x\",\"y\":[0.026779321288532935,-0.14073727121935867,-0.06927190428737284,-0.06177798358158739,-0.08372815036467367,-0.0025997792514294267,-0.11718736900910047,0.012574237780901863,-0.1625966584285156,-0.09153726894359558,-0.060564124268759074,-0.10278842428349222,0.07896747613474213,0.09391940785679342,-0.10743537117826474,-0.1642001022754892,-0.16204897832808304,-0.16472540876599528,-0.1559685611163196,-0.0896039191546763,0.1079959856141928,-0.1249185237467776,-0.03284882139250125,-0.12750424831239549,-0.1170469235032574,-0.047193915105288274,-0.15154449949019555,-0.1691057648503552,0.0647047587224039,-0.19344639984496131,-0.12879642791124601,-0.10006808550122108,-0.027912268344785378],\"yaxis\":\"y\",\"type\":\"scatter\"},{\"customdata\":[[\"Does this task\\u003cbr\\u003eprimarily require\\u003cbr\\u003ephysical effort, as\\u003cbr\\u003eopposed to primarily\\u003cbr\\u003erequiring mental\\u003cbr\\u003eeffort?\"],[\"What is the fraction\\u003cbr\\u003eof physical (as\\u003cbr\\u003eopposed to mental)\\u003cbr\\u003eeffort required for\\u003cbr\\u003ethe task?\"],[\"Is this a \\\"planning\\\"\\u003cbr\\u003etask? In other\\u003cbr\\u003ewords, is one of the\\u003cbr\\u003emain purpose(s) of\\u003cbr\\u003ethis task to produce\\u003cbr\\u003ea sequence of\\u003cbr\\u003econcrete steps or\\u003cbr\\u003eactions that an\\u003cbr\\u003eindividual can\\u003cbr\\u003efollow to achieve\\u003cbr\\u003esome goal?\"],[\"Is this a\\u003cbr\\u003e\\\"generation\\\" or\\u003cbr\\u003e\\\"brainstorming\\\"\\u003cbr\\u003etask? In other\\u003cbr\\u003ewords, is one of the\\u003cbr\\u003emain purpose(s) of\\u003cbr\\u003ethis task to produce\\u003cbr\\u003ea number of ideas or\\u003cbr\\u003eexamples, without\\u003cbr\\u003eany particular\\u003cbr\\u003eaction associated\\u003cbr\\u003ewith them?\"],[\"What fraction of the\\u003cbr\\u003eeffort required for\\u003cbr\\u003ethis task is\\u003cbr\\u003ecreative thinking\\u003cbr\\u003e(as opposed to any\\u003cbr\\u003eother type of\\u003cbr\\u003eeffort, whether\\u003cbr\\u003ephysical, logical,\\u003cbr\\u003eetc.)?\"],[\"Is one of the main\\u003cbr\\u003epurpose(s) of this\\u003cbr\\u003etask to resolve\\u003cbr\\u003epeople's differences\\u003cbr\\u003ein opinion,\\u003cbr\\u003eperspective, or\\u003cbr\\u003eviewpoint?\"],[\"During this task,\\u003cbr\\u003egroup members pursue\\u003cbr\\u003edifferent interests,\\u003cbr\\u003eobjectives, or\\u003cbr\\u003egoals.\"],[\"Can the outcome of\\u003cbr\\u003ethis task be\\u003cbr\\u003edescribed in\\u003cbr\\u003ewin\\u002flose terms?\"],[\"Does the task have\\u003cbr\\u003ean all-or-nothing\\u003cbr\\u003eoutcome? In other\\u003cbr\\u003ewords, is it\\u003cbr\\u003esufficient to just\\u003cbr\\u003emeet a particular\\u003cbr\\u003estandard?\"],[\"Is it efficient and\\u003cbr\\u003euseful for members\\u003cbr\\u003eof the group to work\\u003cbr\\u003eon discrete parts\\u003cbr\\u003e(or subtasks) of\\u003cbr\\u003ethis activity?\"],[\"Is the goal (or one\\u003cbr\\u003eof the goals) of\\u003cbr\\u003ethis task to try to\\u003cbr\\u003eachieve doing\\u003cbr\\u003esomething as much as\\u003cbr\\u003epossible, as many as\\u003cbr\\u003epossible, or as\\u003cbr\\u003equickly as possible?\"],[\"Is the goal (or one\\u003cbr\\u003eof the goals) of\\u003cbr\\u003ethis task to try to\\u003cbr\\u003eachieve a precise\\u003cbr\\u003eoutcome?\"],[\"Is there only one\\u003cbr\\u003e\\\"best\\\" solution (or\\u003cbr\\u003epossible solution)\\u003cbr\\u003eto this task?\"],[\"Is there only one\\u003cbr\\u003emethod for achieving\\u003cbr\\u003ethe task, as opposed\\u003cbr\\u003eto many alternatives\\u003cbr\\u003efor task completion?\"],[\"Can acceptable\\u003cbr\\u003esolutions to this\\u003cbr\\u003etask be demonstrated\\u003cbr\\u003eor verified to be\\u003cbr\\u003ecorrect (e.g., by an\\u003cbr\\u003eexpert or third-\\u003cbr\\u003eparty)?\"],[\"Can this task be\\u003cbr\\u003ewritten as a \\\"formal\\u003cbr\\u003emodel\\\" that an\\u003cbr\\u003ealgorithm could\\u003cbr\\u003esolve?\"],[\"Is there enough\\u003cbr\\u003einformation in the\\u003cbr\\u003eproblem to find a\\u003cbr\\u003evalid solution?\"],[\"If someone who is\\u003cbr\\u003eable to solve the\\u003cbr\\u003eproblem explains\\u003cbr\\u003etheir answer, would\\u003cbr\\u003eothers recognize it\\u003cbr\\u003eas correct without\\u003cbr\\u003econtest?\"],[\"Is a participant\\u003cbr\\u003eable to come up with\\u003cbr\\u003ea provably correct\\u003cbr\\u003esolution, assuming\\u003cbr\\u003esufficient ability,\\u003cbr\\u003etime, motivation,\\u003cbr\\u003eand resources?\"],[\"Is there an\\u003cbr\\u003eobjectively correct\\u003cbr\\u003esolution to this\\u003cbr\\u003etask that can be\\u003cbr\\u003ecalculated or\\u003cbr\\u003eselected?\"],[\"On a scale of 0\\u003cbr\\u003e(entirely\\u003cbr\\u003esubjective, with no\\u003cbr\\u003ecorrect answer; a\\u003cbr\\u003ejudgmental task) to\\u003cbr\\u003e1 (entirely\\u003cbr\\u003eobjective and\\u003cbr\\u003edemonstrable by pure\\u003cbr\\u003elogic; an\\u003cbr\\u003eintellective task),\\u003cbr\\u003ehow would you\\u003cbr\\u003eclassify the extent\\u003cbr\\u003eof demonstrable\\u003cbr\\u003ecorrectness of this\\u003cbr\\u003etask?\"],[\"Does completing this\\u003cbr\\u003etask require\\u003cbr\\u003eparticipants to\\u003cbr\\u003eevaluate tradeoffs\\u003cbr\\u003e--- conflicting\\u003cbr\\u003epossible solutions\\u003cbr\\u003eor conflicting\\u003cbr\\u003epieces of\\u003cbr\\u003einformation?\"],[\"When doing this\\u003cbr\\u003etask, will the\\u003cbr\\u003eparticipants have\\u003cbr\\u003eany uncertainty\\u003cbr\\u003eabout whether their\\u003cbr\\u003emethod or solution\\u003cbr\\u003ewill lead to the\\u003cbr\\u003edesired outcome?\"],[\"Is the solution to\\u003cbr\\u003ethe question obvious\\u003cbr\\u003eas soon as it is\\u003cbr\\u003eproposed --- for\\u003cbr\\u003eexample, once people\\u003cbr\\u003esee the \\\"trick,\\\"\\u003cbr\\u003ethey know how to\\u003cbr\\u003esolve it?\"]],\"hovertemplate\":\"\\u003cb\\u003e%{hovertext}\\u003c\\u002fb\\u003e\\u003cbr\\u003e\\u003cbr\\u003esource=literature\\u003cbr\\u003epca_1=%{x}\\u003cbr\\u003epca_2=%{y}\\u003cbr\\u003esize=%{marker.size}\\u003cbr\\u003edim_desc_wrapped=%{customdata[0]}\\u003cextra\\u003e\\u003c\\u002fextra\\u003e\",\"hovertext\":[\"Conceptual-Behavioral\",\"Intellectual-Manipulative\",\"Type 1 (Planning)\",\"Type 2 (Generate)\",\"Creativity Input\",\"Type 5 (Cognitive Conflict)\",\"Type 6 (Mixed-Motive)\",\"Type 7 (Battle)\",\"Type 8 (Performance)\",\"Divisible-Unitary\",\"Maximizing\",\"Optimizing\",\"Outcome Multiplicity\",\"Solution Scheme Multiplicity\",\"Decision Verifiability\",\"Shared Knowledge\",\"Within-System Solution\",\"Answer Recognizability\",\"Time Solvability\",\"Type 3 and Type 4 (Objective Correctness)\",\"Intellective-Judgmental\",\"Conflicting Tradeoffs\",\"Solution Scheme Outcome Uncertainty\",\"Eureka Question\"],\"legendgroup\":\"literature\",\"marker\":{\"color\":\"#109618\",\"size\":[0.4,0.4,0.4,0.4,0.4,0.4,0.4,0.4,0.4,0.4,0.4,0.4,0.4,0.4,0.4,0.4,0.4,0.4,0.4,0.4,0.4,0.4,0.4,0.4],\"sizemode\":\"area\",\"sizeref\":0.001,\"symbol\":\"x\"},\"mode\":\"markers\",\"name\":\"literature\",\"orientation\":\"v\",\"showlegend\":true,\"x\":[-0.1661004833834816,-0.15376729389400626,-0.0018103065255919706,-0.01410136609538582,-0.11756035957447715,0.06604131964970311,0.09017234848059431,-0.04782210805843366,-0.12186648380184571,-0.006562307399675743,-0.04320142930234254,-0.0505133960273091,-0.06293228431853434,-0.05440953488401705,-0.019617815869685692,-0.049910193860899434,-0.019457152431434886,-0.034868297643670866,-0.04281311121938475,-0.1305125205777835,-0.18606620620537803,0.03488152316959668,0.01726465260238648,-0.09976102329276819],\"xaxis\":\"x\",\"y\":[0.035170340675232545,-0.013922109428006785,0.12272298912735717,0.24885590921784057,0.09399807856489728,0.16351282646278095,0.05654520134126707,0.10837611548387627,0.07693886041486495,0.094637270526257,0.08982429794671937,0.1347663396822127,0.20523176508681235,0.20506619440060594,0.16217582077964732,0.18410930392226738,0.18964741664288598,0.2134890234808767,0.14952889238173375,0.2111936701710398,0.07464066049552434,0.12085917162759831,0.16003575651410565,0.2935132190938919],\"yaxis\":\"y\",\"type\":\"scatter\"}],                        {\"template\":{\"data\":{\"histogram2dcontour\":[{\"type\":\"histogram2dcontour\",\"colorbar\":{\"outlinewidth\":0,\"ticks\":\"\"},\"colorscale\":[[0.0,\"#0d0887\"],[0.1111111111111111,\"#46039f\"],[0.2222222222222222,\"#7201a8\"],[0.3333333333333333,\"#9c179e\"],[0.4444444444444444,\"#bd3786\"],[0.5555555555555556,\"#d8576b\"],[0.6666666666666666,\"#ed7953\"],[0.7777777777777778,\"#fb9f3a\"],[0.8888888888888888,\"#fdca26\"],[1.0,\"#f0f921\"]]}],\"choropleth\":[{\"type\":\"choropleth\",\"colorbar\":{\"outlinewidth\":0,\"ticks\":\"\"}}],\"histogram2d\":[{\"type\":\"histogram2d\",\"colorbar\":{\"outlinewidth\":0,\"ticks\":\"\"},\"colorscale\":[[0.0,\"#0d0887\"],[0.1111111111111111,\"#46039f\"],[0.2222222222222222,\"#7201a8\"],[0.3333333333333333,\"#9c179e\"],[0.4444444444444444,\"#bd3786\"],[0.5555555555555556,\"#d8576b\"],[0.6666666666666666,\"#ed7953\"],[0.7777777777777778,\"#fb9f3a\"],[0.8888888888888888,\"#fdca26\"],[1.0,\"#f0f921\"]]}],\"heatmap\":[{\"type\":\"heatmap\",\"colorbar\":{\"outlinewidth\":0,\"ticks\":\"\"},\"colorscale\":[[0.0,\"#0d0887\"],[0.1111111111111111,\"#46039f\"],[0.2222222222222222,\"#7201a8\"],[0.3333333333333333,\"#9c179e\"],[0.4444444444444444,\"#bd3786\"],[0.5555555555555556,\"#d8576b\"],[0.6666666666666666,\"#ed7953\"],[0.7777777777777778,\"#fb9f3a\"],[0.8888888888888888,\"#fdca26\"],[1.0,\"#f0f921\"]]}],\"heatmapgl\":[{\"type\":\"heatmapgl\",\"colorbar\":{\"outlinewidth\":0,\"ticks\":\"\"},\"colorscale\":[[0.0,\"#0d0887\"],[0.1111111111111111,\"#46039f\"],[0.2222222222222222,\"#7201a8\"],[0.3333333333333333,\"#9c179e\"],[0.4444444444444444,\"#bd3786\"],[0.5555555555555556,\"#d8576b\"],[0.6666666666666666,\"#ed7953\"],[0.7777777777777778,\"#fb9f3a\"],[0.8888888888888888,\"#fdca26\"],[1.0,\"#f0f921\"]]}],\"contourcarpet\":[{\"type\":\"contourcarpet\",\"colorbar\":{\"outlinewidth\":0,\"ticks\":\"\"}}],\"contour\":[{\"type\":\"contour\",\"colorbar\":{\"outlinewidth\":0,\"ticks\":\"\"},\"colorscale\":[[0.0,\"#0d0887\"],[0.1111111111111111,\"#46039f\"],[0.2222222222222222,\"#7201a8\"],[0.3333333333333333,\"#9c179e\"],[0.4444444444444444,\"#bd3786\"],[0.5555555555555556,\"#d8576b\"],[0.6666666666666666,\"#ed7953\"],[0.7777777777777778,\"#fb9f3a\"],[0.8888888888888888,\"#fdca26\"],[1.0,\"#f0f921\"]]}],\"surface\":[{\"type\":\"surface\",\"colorbar\":{\"outlinewidth\":0,\"ticks\":\"\"},\"colorscale\":[[0.0,\"#0d0887\"],[0.1111111111111111,\"#46039f\"],[0.2222222222222222,\"#7201a8\"],[0.3333333333333333,\"#9c179e\"],[0.4444444444444444,\"#bd3786\"],[0.5555555555555556,\"#d8576b\"],[0.6666666666666666,\"#ed7953\"],[0.7777777777777778,\"#fb9f3a\"],[0.8888888888888888,\"#fdca26\"],[1.0,\"#f0f921\"]]}],\"mesh3d\":[{\"type\":\"mesh3d\",\"colorbar\":{\"outlinewidth\":0,\"ticks\":\"\"}}],\"scatter\":[{\"fillpattern\":{\"fillmode\":\"overlay\",\"size\":10,\"solidity\":0.2},\"type\":\"scatter\"}],\"parcoords\":[{\"type\":\"parcoords\",\"line\":{\"colorbar\":{\"outlinewidth\":0,\"ticks\":\"\"}}}],\"scatterpolargl\":[{\"type\":\"scatterpolargl\",\"marker\":{\"colorbar\":{\"outlinewidth\":0,\"ticks\":\"\"}}}],\"bar\":[{\"error_x\":{\"color\":\"#2a3f5f\"},\"error_y\":{\"color\":\"#2a3f5f\"},\"marker\":{\"line\":{\"color\":\"#E5ECF6\",\"width\":0.5},\"pattern\":{\"fillmode\":\"overlay\",\"size\":10,\"solidity\":0.2}},\"type\":\"bar\"}],\"scattergeo\":[{\"type\":\"scattergeo\",\"marker\":{\"colorbar\":{\"outlinewidth\":0,\"ticks\":\"\"}}}],\"scatterpolar\":[{\"type\":\"scatterpolar\",\"marker\":{\"colorbar\":{\"outlinewidth\":0,\"ticks\":\"\"}}}],\"histogram\":[{\"marker\":{\"pattern\":{\"fillmode\":\"overlay\",\"size\":10,\"solidity\":0.2}},\"type\":\"histogram\"}],\"scattergl\":[{\"type\":\"scattergl\",\"marker\":{\"colorbar\":{\"outlinewidth\":0,\"ticks\":\"\"}}}],\"scatter3d\":[{\"type\":\"scatter3d\",\"line\":{\"colorbar\":{\"outlinewidth\":0,\"ticks\":\"\"}},\"marker\":{\"colorbar\":{\"outlinewidth\":0,\"ticks\":\"\"}}}],\"scattermapbox\":[{\"type\":\"scattermapbox\",\"marker\":{\"colorbar\":{\"outlinewidth\":0,\"ticks\":\"\"}}}],\"scatterternary\":[{\"type\":\"scatterternary\",\"marker\":{\"colorbar\":{\"outlinewidth\":0,\"ticks\":\"\"}}}],\"scattercarpet\":[{\"type\":\"scattercarpet\",\"marker\":{\"colorbar\":{\"outlinewidth\":0,\"ticks\":\"\"}}}],\"carpet\":[{\"aaxis\":{\"endlinecolor\":\"#2a3f5f\",\"gridcolor\":\"white\",\"linecolor\":\"white\",\"minorgridcolor\":\"white\",\"startlinecolor\":\"#2a3f5f\"},\"baxis\":{\"endlinecolor\":\"#2a3f5f\",\"gridcolor\":\"white\",\"linecolor\":\"white\",\"minorgridcolor\":\"white\",\"startlinecolor\":\"#2a3f5f\"},\"type\":\"carpet\"}],\"table\":[{\"cells\":{\"fill\":{\"color\":\"#EBF0F8\"},\"line\":{\"color\":\"white\"}},\"header\":{\"fill\":{\"color\":\"#C8D4E3\"},\"line\":{\"color\":\"white\"}},\"type\":\"table\"}],\"barpolar\":[{\"marker\":{\"line\":{\"color\":\"#E5ECF6\",\"width\":0.5},\"pattern\":{\"fillmode\":\"overlay\",\"size\":10,\"solidity\":0.2}},\"type\":\"barpolar\"}],\"pie\":[{\"automargin\":true,\"type\":\"pie\"}]},\"layout\":{\"autotypenumbers\":\"strict\",\"colorway\":[\"#636efa\",\"#EF553B\",\"#00cc96\",\"#ab63fa\",\"#FFA15A\",\"#19d3f3\",\"#FF6692\",\"#B6E880\",\"#FF97FF\",\"#FECB52\"],\"font\":{\"color\":\"#2a3f5f\"},\"hovermode\":\"closest\",\"hoverlabel\":{\"align\":\"left\"},\"paper_bgcolor\":\"white\",\"plot_bgcolor\":\"#E5ECF6\",\"polar\":{\"bgcolor\":\"#E5ECF6\",\"angularaxis\":{\"gridcolor\":\"white\",\"linecolor\":\"white\",\"ticks\":\"\"},\"radialaxis\":{\"gridcolor\":\"white\",\"linecolor\":\"white\",\"ticks\":\"\"}},\"ternary\":{\"bgcolor\":\"#E5ECF6\",\"aaxis\":{\"gridcolor\":\"white\",\"linecolor\":\"white\",\"ticks\":\"\"},\"baxis\":{\"gridcolor\":\"white\",\"linecolor\":\"white\",\"ticks\":\"\"},\"caxis\":{\"gridcolor\":\"white\",\"linecolor\":\"white\",\"ticks\":\"\"}},\"coloraxis\":{\"colorbar\":{\"outlinewidth\":0,\"ticks\":\"\"}},\"colorscale\":{\"sequential\":[[0.0,\"#0d0887\"],[0.1111111111111111,\"#46039f\"],[0.2222222222222222,\"#7201a8\"],[0.3333333333333333,\"#9c179e\"],[0.4444444444444444,\"#bd3786\"],[0.5555555555555556,\"#d8576b\"],[0.6666666666666666,\"#ed7953\"],[0.7777777777777778,\"#fb9f3a\"],[0.8888888888888888,\"#fdca26\"],[1.0,\"#f0f921\"]],\"sequentialminus\":[[0.0,\"#0d0887\"],[0.1111111111111111,\"#46039f\"],[0.2222222222222222,\"#7201a8\"],[0.3333333333333333,\"#9c179e\"],[0.4444444444444444,\"#bd3786\"],[0.5555555555555556,\"#d8576b\"],[0.6666666666666666,\"#ed7953\"],[0.7777777777777778,\"#fb9f3a\"],[0.8888888888888888,\"#fdca26\"],[1.0,\"#f0f921\"]],\"diverging\":[[0,\"#8e0152\"],[0.1,\"#c51b7d\"],[0.2,\"#de77ae\"],[0.3,\"#f1b6da\"],[0.4,\"#fde0ef\"],[0.5,\"#f7f7f7\"],[0.6,\"#e6f5d0\"],[0.7,\"#b8e186\"],[0.8,\"#7fbc41\"],[0.9,\"#4d9221\"],[1,\"#276419\"]]},\"xaxis\":{\"gridcolor\":\"white\",\"linecolor\":\"white\",\"ticks\":\"\",\"title\":{\"standoff\":15},\"zerolinecolor\":\"white\",\"automargin\":true,\"zerolinewidth\":2},\"yaxis\":{\"gridcolor\":\"white\",\"linecolor\":\"white\",\"ticks\":\"\",\"title\":{\"standoff\":15},\"zerolinecolor\":\"white\",\"automargin\":true,\"zerolinewidth\":2},\"scene\":{\"xaxis\":{\"backgroundcolor\":\"#E5ECF6\",\"gridcolor\":\"white\",\"linecolor\":\"white\",\"showbackground\":true,\"ticks\":\"\",\"zerolinecolor\":\"white\",\"gridwidth\":2},\"yaxis\":{\"backgroundcolor\":\"#E5ECF6\",\"gridcolor\":\"white\",\"linecolor\":\"white\",\"showbackground\":true,\"ticks\":\"\",\"zerolinecolor\":\"white\",\"gridwidth\":2},\"zaxis\":{\"backgroundcolor\":\"#E5ECF6\",\"gridcolor\":\"white\",\"linecolor\":\"white\",\"showbackground\":true,\"ticks\":\"\",\"zerolinecolor\":\"white\",\"gridwidth\":2}},\"shapedefaults\":{\"line\":{\"color\":\"#2a3f5f\"}},\"annotationdefaults\":{\"arrowcolor\":\"#2a3f5f\",\"arrowhead\":0,\"arrowwidth\":1},\"geo\":{\"bgcolor\":\"white\",\"landcolor\":\"#E5ECF6\",\"subunitcolor\":\"white\",\"showland\":true,\"showlakes\":true,\"lakecolor\":\"white\"},\"title\":{\"x\":0.05},\"mapbox\":{\"style\":\"light\"}}},\"xaxis\":{\"anchor\":\"y\",\"domain\":[0.0,1.0],\"title\":{\"text\":\"pca_1\"}},\"yaxis\":{\"anchor\":\"x\",\"domain\":[0.0,1.0],\"title\":{\"text\":\"pca_2\"}},\"legend\":{\"title\":{\"text\":\"source\"},\"tracegroupgap\":0,\"itemsizing\":\"constant\"},\"margin\":{\"t\":60},\"height\":800,\"width\":800},                        {\"responsive\": true}                    ).then(function(){\n",
       "                            \n",
       "var gd = document.getElementById('fad20c22-c293-47a4-8e2d-e254834ca7f3');\n",
       "var x = new MutationObserver(function (mutations, observer) {{\n",
       "        var display = window.getComputedStyle(gd).display;\n",
       "        if (!display || display === 'none') {{\n",
       "            console.log([gd, 'removed!']);\n",
       "            Plotly.purge(gd);\n",
       "            observer.disconnect();\n",
       "        }}\n",
       "}});\n",
       "\n",
       "// Listen for the removal of the full notebook cells\n",
       "var notebookContainer = gd.closest('#notebook-container');\n",
       "if (notebookContainer) {{\n",
       "    x.observe(notebookContainer, {childList: true});\n",
       "}}\n",
       "\n",
       "// Listen for the clearing of the current output cell\n",
       "var outputEl = gd.closest('.output');\n",
       "if (outputEl) {{\n",
       "    x.observe(outputEl, {childList: true});\n",
       "}}\n",
       "\n",
       "                        })                };                });            </script>        </div>"
      ]
     },
     "metadata": {},
     "output_type": "display_data"
    }
   ],
   "source": [
    "px.scatter(x=\"pca_1\", y=\"pca_2\", data_frame=df, color=\"source\", hover_name=\"dim_name\", height=800, width=800,\n",
    "          color_discrete_sequence=px.colors.qualitative.G10, symbol=\"source\", size=[0.4]*len(df), hover_data=\"dim_desc_wrapped\")"
   ]
  },
  {
   "cell_type": "code",
   "execution_count": 42,
   "id": "dfdf012f-1950-4ca8-a193-6737582faafc",
   "metadata": {},
   "outputs": [
    {
     "data": {
      "text/plain": [
       "(110, 7)"
      ]
     },
     "execution_count": 42,
     "metadata": {},
     "output_type": "execute_result"
    }
   ],
   "source": [
    "df.shape"
   ]
  },
  {
   "cell_type": "code",
   "execution_count": null,
   "id": "884a4c3e-9d3b-42dc-986d-489dea0c0fdd",
   "metadata": {},
   "outputs": [],
   "source": []
  }
 ],
 "metadata": {
  "kernelspec": {
   "display_name": "Python 3 (ipykernel)",
   "language": "python",
   "name": "python3"
  },
  "language_info": {
   "codemirror_mode": {
    "name": "ipython",
    "version": 3
   },
   "file_extension": ".py",
   "mimetype": "text/x-python",
   "name": "python",
   "nbconvert_exporter": "python",
   "pygments_lexer": "ipython3",
   "version": "3.10.9"
  }
 },
 "nbformat": 4,
 "nbformat_minor": 5
}
